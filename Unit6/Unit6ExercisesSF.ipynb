{
 "nbformat": 4,
 "nbformat_minor": 0,
 "metadata": {
  "colab": {
   "provenance": [],
   "authorship_tag": "ABX9TyMrqL0D5yck5wIPN8bOF2Rm",
   "include_colab_link": true
  },
  "kernelspec": {
   "name": "python3",
   "display_name": "Python 3 (ipykernel)",
   "language": "python"
  },
  "language_info": {
   "name": "python"
  }
 },
 "cells": [
  {
   "cell_type": "markdown",
   "metadata": {
    "id": "view-in-github",
    "colab_type": "text"
   },
   "source": [
    "<a href=\"https://colab.research.google.com/github/thedarredondo/data-science-fundamentals/blob/main/Unit6/Unit6ExercisesSF.ipynb\" target=\"_parent\"><img src=\"https://colab.research.google.com/assets/colab-badge.svg\" alt=\"Open In Colab\"/></a>"
   ]
  },
  {
   "cell_type": "markdown",
   "source": [
    "# Unit 6 Exercises: Is my model good?\n",
    "\n",
    "#### Over and Under fitting, Model Visualization, and Model/Variable Selection Concepts\n",
    "\n",
    "These exercises are meant to get you to think about the model and variable selection process, and consider how we determine if a model is \"good\"."
   ],
   "metadata": {
    "id": "TS5B_nNY9aN-"
   }
  },
  {
   "cell_type": "markdown",
   "source": [
    "**Task1**:\n",
    "\n",
    "Does elpd_loo mean anything if we only have one model?"
   ],
   "metadata": {
    "id": "RComfTFn_vAD"
   }
  },
  {
   "metadata": {},
   "cell_type": "markdown",
   "source": "Nope! We only use it to compare to others, looking for the more positive number. It doesn't mean anything other than in relation to other elpd_loos."
  },
  {
   "cell_type": "markdown",
   "source": [
    "**Task2**:\n",
    "\n",
    "Describe overfitting, in the context of this course"
   ],
   "metadata": {
    "id": "xnfTK1y84qL-"
   }
  },
  {
   "metadata": {},
   "cell_type": "markdown",
   "source": "Overfitting is when we use too many variables and make the model too accurate to the training data. Then, it doesn't generalize to new data as well, because it is too specific to the training data."
  },
  {
   "cell_type": "markdown",
   "source": [
    "**Task3**:\n",
    "\n",
    "How do we mitigate overfitting?"
   ],
   "metadata": {
    "id": "YoP-6zyt5PHr"
   }
  },
  {
   "metadata": {},
   "cell_type": "markdown",
   "source": "We select the model with the fewest number of variables that is still accurate, and we use regularizing priors. By not giving it strong priors, we let it find the best model for the data, rather than the best model for the training data/our understanding of it."
  },
  {
   "cell_type": "markdown",
   "source": [
    "**Task4**:\n",
    "\n",
    "How do we mitigate underfitting?"
   ],
   "metadata": {
    "id": "BdQNC0Nd5r88"
   }
  },
  {
   "metadata": {},
   "cell_type": "markdown",
   "source": "By using elpd_loo comparisons to select an accurate model, while still trying to use the fewest variables possible. Using a high elpd_loo ensures that it will be (close to) the most accurate possible."
  },
  {
   "cell_type": "markdown",
   "source": [
    "**Task5**:\n",
    "\n",
    "Why would we want more than one predictor in a model?"
   ],
   "metadata": {
    "id": "EvlCHxDK6OJJ"
   }
  },
  {
   "metadata": {},
   "cell_type": "markdown",
   "source": "Because more than one variable can cause changes in our dependent variable. By using multiple predictors, it allows the model to capture more patterns in the data, as well as analyze the interactions between predictors. Using only a single variable, we can only capture a single trend, which may not be the most accurate representation of the underlying process."
  },
  {
   "cell_type": "markdown",
   "source": [
    "**Task6**:\n",
    "\n",
    "Can we have too many predictors? How would we now?"
   ],
   "metadata": {
    "id": "oijEFidC6coD"
   }
  },
  {
   "metadata": {},
   "cell_type": "markdown",
   "source": "Yes. We can have too many predictors, which can lead to overfitting. One way we can tell if we have too many predictors is by using elpd_loo to compare to a reference model with all the variables. If this model is too accurate to the training data, then we have too many variables. Another way to to draw a causal DAG, and see if the variables are all necessary to explain the dependent variable."
  },
  {
   "cell_type": "markdown",
   "source": [
    "**Task7**:\n",
    "\n",
    "What is variable selection, and how does it work?"
   ],
   "metadata": {
    "id": "QRJeg7NL7HPN"
   }
  },
  {
   "metadata": {},
   "cell_type": "markdown",
   "source": "Variable selection is the process of choosing which variables to include in a model. We begin by drawing a causal DAG, and analyzing which variables affect the output, as well as which variables interact with one another. We then try a few viable combinations, comparing them using elpd_loo."
  },
  {
   "cell_type": "markdown",
   "source": [
    "**Task8**:\n",
    "\n",
    "Describe the differences and similarities between the following three models: linear regression with two predictors, one of which is a categorical variable:\n",
    "\n",
    "- adding the variables in the model, as is standard.\n",
    "- using that categorical variable as a hierarchy upon the other predictor variable.\n",
    "- adding the variables, plus the categorical variable's interaction with the other variable."
   ],
   "metadata": {
    "id": "OntaA0WLo551"
   }
  },
  {
   "metadata": {},
   "cell_type": "markdown",
   "source": [
    "When graphing the linear regression of the quantitative variable versus the dependent variable with respect to the category, every line will have the same slope (as that distribution is shared across all categories), but a different y-intercept. That is because the 'slope' of the categorical variable is equivalent to translating the y-intercept, since the categorical variable is discrete.\n",
    "\n",
    "The second model will allow the slopes to change between categories as well as y-intercepts. The hierarchical nature allows the 'slope' distributions to talk to one another, so rather than that discrete separation mentioned above, the slopes will be able to change as well.\n",
    "\n",
    "The third model will be very similar to the second, as it the third term once again removes that discrete limit, which can only act as a change to the y-intercept. By having a 'slope' based on both the categorical variable and the quantitative variable, it allows for each category to have its own slope variance. It allows the quantitative variable to mean something different for each category."
   ]
  },
  {
   "cell_type": "markdown",
   "source": [
    "**Task9**:\n",
    "\n",
    "How do we visualize multiple linear regression models? Can we visualize the entire model, all at once?"
   ],
   "metadata": {
    "id": "CAalFZA-sNtB"
   }
  },
  {
   "metadata": {},
   "cell_type": "markdown",
   "source": "We first pick a predictor to go on the X axis, and then plot the dependent variable on the Y axis. Then, if we have more variables we would have to pick some way to represent them; different colors, different plots, etc. If the model has too many predictors however, it will be impossible (or at least incredibly impractical) to represent all at once. Not to mention that this method only allows for showing the lines of one predictor against the dependent variable, and categorically representing the others. For several quantitative variables, that doesn't show the whole picture."
  },
  {
   "cell_type": "markdown",
   "source": [
    "**Task10**:\n",
    "\n",
    "Compare the following linear models that all use the basketball data to predict field goal percentage:\n",
    "\n",
    "- predictors free throw percentage and position (with position as a categorical predictor)\n",
    "- predictors free throw percentage and position (with position as a hierarchy)\n",
    "- predictors free throw percentage and position (with position interacting with frew throw percentage)\n",
    "- predictors free throw percentage, position, 3 point attempts, and interactions between all three predictors\n",
    "- predictors free throw percentage, position, 3 point attempts, with an interaction between 3 point attempts and postion.\n",
    "\n",
    "using ```az.compare()``` and ```az.plot_compare()```, or an equivalent method using LOO (elpd_loo)."
   ],
   "metadata": {
    "id": "4xx4j9ttl4N3"
   }
  },
  {
   "cell_type": "markdown",
   "source": [
    "You may use the following two code blocks to load and clean the data."
   ],
   "metadata": {
    "id": "ZSAypAHJmoJy"
   }
  },
  {
   "cell_type": "code",
   "source": [
    "import pandas as pd\n",
    "import bambi as bmb\n",
    "import arviz as az\n",
    "\n",
    "#have to drop incomplete rows, so that bambi will run\n",
    "bb = pd.read_csv(\n",
    "    'https://raw.githubusercontent.com/thedarredondo/data-science-fundamentals/refs/heads/main/Data/basketball2324.csv').dropna()"
   ],
   "metadata": {
    "id": "kfVxvltJlOa2",
    "ExecuteTime": {
     "end_time": "2025-01-10T17:16:04.561167Z",
     "start_time": "2025-01-10T17:16:04.474670Z"
    }
   },
   "outputs": [],
   "execution_count": 11
  },
  {
   "cell_type": "code",
   "source": [
    "#only look at players who played more than 600 minutes\n",
    "#which is 20 min per game, for 30 games\n",
    "bb = bb.query('MP > 600')\n",
    "#remove players who never missed a free throw\n",
    "bb = bb.query('`FT%` != 1.0')\n",
    "#filter out the combo positions. This will make it easier to read the graphs\n",
    "bb = bb.query(\"Pos in ['C','PF','SF','SG','PG']\")\n",
    "#gets rid of the annoying '%' sign\n",
    "bb.rename(columns={\"FT%\":\"FTp\",\"FG%\":\"FGp\", \"3PA\":\"TPA\"}, inplace=True)"
   ],
   "metadata": {
    "id": "oevLDINKridn",
    "ExecuteTime": {
     "end_time": "2025-01-10T17:16:06.111642Z",
     "start_time": "2025-01-10T17:16:06.097374Z"
    }
   },
   "outputs": [],
   "execution_count": 12
  },
  {
   "metadata": {
    "ExecuteTime": {
     "end_time": "2025-01-10T17:20:54.199904Z",
     "start_time": "2025-01-10T17:19:47.042727Z"
    }
   },
   "cell_type": "code",
   "source": [
    "model_ft_pos_cat = bmb.Model(\"FGp ~ FTp + Pos\", data=bb)\n",
    "model_ft_pos_h = bmb.Model(\"FGp ~ (FTp|Pos)\", data=bb)\n",
    "model_ft_pos_int = bmb.Model(\"FGp ~ FTp + Pos + FTp:Pos\", data=bb)\n",
    "model_ft_pos_3p_int_all = bmb.Model(\"FGp ~ FTp + Pos + TPA + FTp:Pos + FTp:TPA + Pos:TPA\", data=bb)\n",
    "model_ft_pos_3p_int = bmb.Model(\"FGp ~ FTp + Pos + TPA + Pos:TPA\", data=bb)\n",
    "\n",
    "az.plot_compare(az.compare({\n",
    "    \"model_ft_pos_cat\":model_ft_pos_cat.fit(idata_kwargs={'log_likelihood': True}),\n",
    "    \"model_ft_pos_h\":model_ft_pos_h.fit(idata_kwargs={'log_likelihood': True}),\n",
    "    \"model_ft_pos_int\":model_ft_pos_int.fit(idata_kwargs={'log_likelihood': True}),\n",
    "    \"model_ft_pos_3p_int_all\":model_ft_pos_3p_int_all.fit(idata_kwargs={'log_likelihood': True}),\n",
    "    \"model_ft_pos_3p_int\":model_ft_pos_3p_int.fit(idata_kwargs={'log_likelihood': True})\n",
    "}))"
   ],
   "outputs": [
    {
     "name": "stderr",
     "output_type": "stream",
     "text": [
      "Initializing NUTS using jitter+adapt_diag...\n",
      "Multiprocess sampling (4 chains in 4 jobs)\n",
      "NUTS: [sigma, Intercept, FTp, Pos]\n"
     ]
    },
    {
     "data": {
      "text/plain": [
       "/opt/homebrew/anaconda3/envs/data-science-fundamentals/lib/python3.10/site-packages/rich/live.py:231: UserWarning: \n",
       "install \"ipywidgets\" for Jupyter support\n",
       "  warnings.warn('install \"ipywidgets\" for Jupyter support')\n"
      ],
      "text/html": [
       "<pre style=\"white-space:pre;overflow-x:auto;line-height:normal;font-family:Menlo,'DejaVu Sans Mono',consolas,'Courier New',monospace\">/opt/homebrew/anaconda3/envs/data-science-fundamentals/lib/python3.10/site-packages/rich/live.py:231: UserWarning: \n",
       "install \"ipywidgets\" for Jupyter support\n",
       "  warnings.warn('install \"ipywidgets\" for Jupyter support')\n",
       "</pre>\n"
      ]
     },
     "metadata": {},
     "output_type": "display_data"
    },
    {
     "data": {
      "text/plain": [],
      "text/html": [
       "<pre style=\"white-space:pre;overflow-x:auto;line-height:normal;font-family:Menlo,'DejaVu Sans Mono',consolas,'Courier New',monospace\"></pre>\n"
      ]
     },
     "metadata": {},
     "output_type": "display_data"
    },
    {
     "name": "stderr",
     "output_type": "stream",
     "text": [
      "Sampling 4 chains for 1_000 tune and 1_000 draw iterations (4_000 + 4_000 draws total) took 2 seconds.\n",
      "Initializing NUTS using jitter+adapt_diag...\n",
      "Multiprocess sampling (4 chains in 4 jobs)\n",
      "NUTS: [sigma, Intercept, 1|Pos_sigma, 1|Pos_offset, FTp|Pos_sigma, FTp|Pos_offset]\n"
     ]
    },
    {
     "data": {
      "text/plain": [
       "/opt/homebrew/anaconda3/envs/data-science-fundamentals/lib/python3.10/site-packages/rich/live.py:231: UserWarning: \n",
       "install \"ipywidgets\" for Jupyter support\n",
       "  warnings.warn('install \"ipywidgets\" for Jupyter support')\n"
      ],
      "text/html": [
       "<pre style=\"white-space:pre;overflow-x:auto;line-height:normal;font-family:Menlo,'DejaVu Sans Mono',consolas,'Courier New',monospace\">/opt/homebrew/anaconda3/envs/data-science-fundamentals/lib/python3.10/site-packages/rich/live.py:231: UserWarning: \n",
       "install \"ipywidgets\" for Jupyter support\n",
       "  warnings.warn('install \"ipywidgets\" for Jupyter support')\n",
       "</pre>\n"
      ]
     },
     "metadata": {},
     "output_type": "display_data"
    },
    {
     "data": {
      "text/plain": [],
      "text/html": [
       "<pre style=\"white-space:pre;overflow-x:auto;line-height:normal;font-family:Menlo,'DejaVu Sans Mono',consolas,'Courier New',monospace\"></pre>\n"
      ]
     },
     "metadata": {},
     "output_type": "display_data"
    },
    {
     "name": "stderr",
     "output_type": "stream",
     "text": [
      "Sampling 4 chains for 1_000 tune and 1_000 draw iterations (4_000 + 4_000 draws total) took 23 seconds.\n",
      "There were 22 divergences after tuning. Increase `target_accept` or reparameterize.\n",
      "Initializing NUTS using jitter+adapt_diag...\n",
      "Multiprocess sampling (4 chains in 4 jobs)\n",
      "NUTS: [sigma, Intercept, FTp, Pos, FTp:Pos]\n"
     ]
    },
    {
     "data": {
      "text/plain": [
       "/opt/homebrew/anaconda3/envs/data-science-fundamentals/lib/python3.10/site-packages/rich/live.py:231: UserWarning: \n",
       "install \"ipywidgets\" for Jupyter support\n",
       "  warnings.warn('install \"ipywidgets\" for Jupyter support')\n"
      ],
      "text/html": [
       "<pre style=\"white-space:pre;overflow-x:auto;line-height:normal;font-family:Menlo,'DejaVu Sans Mono',consolas,'Courier New',monospace\">/opt/homebrew/anaconda3/envs/data-science-fundamentals/lib/python3.10/site-packages/rich/live.py:231: UserWarning: \n",
       "install \"ipywidgets\" for Jupyter support\n",
       "  warnings.warn('install \"ipywidgets\" for Jupyter support')\n",
       "</pre>\n"
      ]
     },
     "metadata": {},
     "output_type": "display_data"
    },
    {
     "data": {
      "text/plain": [],
      "text/html": [
       "<pre style=\"white-space:pre;overflow-x:auto;line-height:normal;font-family:Menlo,'DejaVu Sans Mono',consolas,'Courier New',monospace\"></pre>\n"
      ]
     },
     "metadata": {},
     "output_type": "display_data"
    },
    {
     "name": "stderr",
     "output_type": "stream",
     "text": [
      "Sampling 4 chains for 1_000 tune and 1_000 draw iterations (4_000 + 4_000 draws total) took 11 seconds.\n",
      "Initializing NUTS using jitter+adapt_diag...\n",
      "Multiprocess sampling (4 chains in 4 jobs)\n",
      "NUTS: [sigma, Intercept, FTp, Pos, TPA, FTp:Pos, FTp:TPA, Pos:TPA]\n"
     ]
    },
    {
     "data": {
      "text/plain": [
       "/opt/homebrew/anaconda3/envs/data-science-fundamentals/lib/python3.10/site-packages/rich/live.py:231: UserWarning: \n",
       "install \"ipywidgets\" for Jupyter support\n",
       "  warnings.warn('install \"ipywidgets\" for Jupyter support')\n"
      ],
      "text/html": [
       "<pre style=\"white-space:pre;overflow-x:auto;line-height:normal;font-family:Menlo,'DejaVu Sans Mono',consolas,'Courier New',monospace\">/opt/homebrew/anaconda3/envs/data-science-fundamentals/lib/python3.10/site-packages/rich/live.py:231: UserWarning: \n",
       "install \"ipywidgets\" for Jupyter support\n",
       "  warnings.warn('install \"ipywidgets\" for Jupyter support')\n",
       "</pre>\n"
      ]
     },
     "metadata": {},
     "output_type": "display_data"
    },
    {
     "data": {
      "text/plain": [],
      "text/html": [
       "<pre style=\"white-space:pre;overflow-x:auto;line-height:normal;font-family:Menlo,'DejaVu Sans Mono',consolas,'Courier New',monospace\"></pre>\n"
      ]
     },
     "metadata": {},
     "output_type": "display_data"
    },
    {
     "name": "stderr",
     "output_type": "stream",
     "text": [
      "Sampling 4 chains for 1_000 tune and 1_000 draw iterations (4_000 + 4_000 draws total) took 19 seconds.\n",
      "Initializing NUTS using jitter+adapt_diag...\n",
      "Multiprocess sampling (4 chains in 4 jobs)\n",
      "NUTS: [sigma, Intercept, FTp, Pos, TPA, Pos:TPA]\n"
     ]
    },
    {
     "data": {
      "text/plain": [
       "/opt/homebrew/anaconda3/envs/data-science-fundamentals/lib/python3.10/site-packages/rich/live.py:231: UserWarning: \n",
       "install \"ipywidgets\" for Jupyter support\n",
       "  warnings.warn('install \"ipywidgets\" for Jupyter support')\n"
      ],
      "text/html": [
       "<pre style=\"white-space:pre;overflow-x:auto;line-height:normal;font-family:Menlo,'DejaVu Sans Mono',consolas,'Courier New',monospace\">/opt/homebrew/anaconda3/envs/data-science-fundamentals/lib/python3.10/site-packages/rich/live.py:231: UserWarning: \n",
       "install \"ipywidgets\" for Jupyter support\n",
       "  warnings.warn('install \"ipywidgets\" for Jupyter support')\n",
       "</pre>\n"
      ]
     },
     "metadata": {},
     "output_type": "display_data"
    },
    {
     "data": {
      "text/plain": [],
      "text/html": [
       "<pre style=\"white-space:pre;overflow-x:auto;line-height:normal;font-family:Menlo,'DejaVu Sans Mono',consolas,'Courier New',monospace\"></pre>\n"
      ]
     },
     "metadata": {},
     "output_type": "display_data"
    },
    {
     "name": "stderr",
     "output_type": "stream",
     "text": [
      "Sampling 4 chains for 1_000 tune and 1_000 draw iterations (4_000 + 4_000 draws total) took 5 seconds.\n",
      "/opt/homebrew/anaconda3/envs/data-science-fundamentals/lib/python3.10/site-packages/arviz/stats/stats.py:789: UserWarning: Estimated shape parameter of Pareto distribution is greater than 0.7 for one or more samples. You should consider using a more robust model, this is because importance sampling is less likely to work well if the marginal posterior and LOO posterior are very different. This is more likely to happen with a non-robust model and highly influential observations.\n",
      "  warnings.warn(\n",
      "/opt/homebrew/anaconda3/envs/data-science-fundamentals/lib/python3.10/site-packages/arviz/stats/stats.py:789: UserWarning: Estimated shape parameter of Pareto distribution is greater than 0.7 for one or more samples. You should consider using a more robust model, this is because importance sampling is less likely to work well if the marginal posterior and LOO posterior are very different. This is more likely to happen with a non-robust model and highly influential observations.\n",
      "  warnings.warn(\n"
     ]
    },
    {
     "data": {
      "text/plain": [
       "<Axes: title={'center': 'Model comparison\\nhigher is better'}, xlabel='elpd_loo (log)', ylabel='ranked models'>"
      ]
     },
     "execution_count": 15,
     "metadata": {},
     "output_type": "execute_result"
    },
    {
     "data": {
      "text/plain": [
       "<Figure size 600x500 with 1 Axes>"
      ],
      "image/png": "[encoded data removed]"
     },
     "metadata": {},
     "output_type": "display_data"
    }
   ],
   "execution_count": 15
  },
  {
   "cell_type": "markdown",
   "source": [
    "**Task11**:\n",
    "\n",
    "Which model is \"better\" according to this metric?\n",
    "\n",
    "Why do you think that is?"
   ],
   "metadata": {
    "id": "IXReX4nNjKvl"
   }
  },
  {
   "metadata": {},
   "cell_type": "markdown",
   "source": [
    "The model with all three variables, but only interacting 3PA and Position did best- marginally. Adding interactions between every variable did pretty much the same. Since it did do worse, however, that likely means that FT% isn't really related to either position or three point attempts. Not a basketball guy, but that seems plausible. As for the others, they are all fairly similar, but the interaction did better than the hierarchical did better than the pure categorical, for reasons discussed in the notes.\n",
    "\n",
    "The (in my opinion) most interesting/important observation is the divide between including 3PA and not. Including it did significantly better, which means that 3PA is a significant predictor of FG%. This is likely because 3PA is a good indicator of how good a player is at shooting."
   ]
  }
 ]
}
