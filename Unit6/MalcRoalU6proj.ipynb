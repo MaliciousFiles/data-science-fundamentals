{
 "cells": [
  {
   "cell_type": "code",
   "id": "initial_id",
   "metadata": {
    "collapsed": true,
    "ExecuteTime": {
     "end_time": "2025-01-31T16:39:11.933109Z",
     "start_time": "2025-01-31T16:39:02.041888Z"
    }
   },
   "source": [
    "import xarray as xr\n",
    "import pandas as pd\n",
    "import arviz as az\n",
    "import bambi as bmb\n",
    "import pymc as pm\n",
    "import graphviz as gv\n",
    "import matplotlib.pyplot as plt"
   ],
   "outputs": [],
   "execution_count": 2
  },
  {
   "metadata": {},
   "cell_type": "markdown",
   "source": [
    "#### Overview\n",
    "This project will be a continuation of the previous one. I had already begun using GLMs with multiple predictors, but this time I will be refining that. I had previously taken a lot of data and only used very little of it, so I'll begin by importing that."
   ],
   "id": "6838511f6abe7c6"
  },
  {
   "metadata": {
    "ExecuteTime": {
     "end_time": "2025-01-31T16:39:11.991419Z",
     "start_time": "2025-01-31T16:39:11.950940Z"
    }
   },
   "cell_type": "code",
   "source": [
    "data = pd.read_csv('seedscraper_out.csv')\n",
    "data.drop(index=list(range(1000, 5000)), inplace=True)\n",
    "data[\"isPos\"] = [t > 0 for t in data.villageTemperature]\n",
    "data"
   ],
   "id": "af081f16bd08b7a",
   "outputs": [
    {
     "data": {
      "text/plain": [
       "                    seed               spawnBiome  spawnX  spawnZ    spawnMag  \\\n",
       "0   -5732824298624648829                   desert     -61      19   63.890531   \n",
       "1     476111214681048185              snowy_taiga       0      32   32.000000   \n",
       "2    1013578317724244864                    grove     -14     397  397.246775   \n",
       "3    3540650499908179768                   plains      43     -58   72.201108   \n",
       "4    -288261298075803855  old_growth_birch_forest     -27     126  128.860390   \n",
       "..                   ...                      ...     ...     ...         ...   \n",
       "995  5466505011541562565             snowy_slopes      28    -125  128.097619   \n",
       "996 -5548836884937564074                    grove       0       0    0.000000   \n",
       "997   -40197854004093186                  savanna     -44    -107  115.693561   \n",
       "998  8820738196167999944                    beach     345     773  846.495127   \n",
       "999  8321801011724660120             snowy_plains       0       0    0.000000   \n",
       "\n",
       "      distance  percentage         biome    X     Z  ...  originDepth  \\\n",
       "0    13.152946         0.0        desert  144    48  ...          1.0   \n",
       "1    24.186773         0.0         taiga  336  -160  ...          1.0   \n",
       "2    41.868843         0.0  snowy_plains -448   896  ...          1.0   \n",
       "3    14.317821         0.0        plains  240  -160  ...          1.0   \n",
       "4    48.877398         0.0        plains  368   784  ...          1.0   \n",
       "..         ...         ...           ...  ...   ...  ...          ...   \n",
       "995  17.204651         0.0  snowy_plains  240  -288  ...          1.0   \n",
       "996  33.615473         0.0        plains  208  -496  ...          1.0   \n",
       "997  17.492856         0.0       savanna -288    32  ...          1.0   \n",
       "998  63.694584         0.0        plains  720  1712  ...          1.0   \n",
       "999  15.556349         0.0  snowy_plains  176  -176  ...          1.0   \n",
       "\n",
       "     originWeirdness  villageTemperature  villageHumidity  \\\n",
       "0          -0.035057            0.885496        -0.087994   \n",
       "1           0.139197           -0.709614         0.428070   \n",
       "2          -0.109274           -0.776016         0.059834   \n",
       "3          -0.080760            0.113077        -0.250954   \n",
       "4          -0.000875           -0.192036        -0.475988   \n",
       "..               ...                 ...              ...   \n",
       "995        -0.057639           -0.932037        -0.107090   \n",
       "996        -0.469792            0.021880        -0.217357   \n",
       "997        -0.230311            0.448744        -0.180282   \n",
       "998        -0.050626           -0.247186        -0.411894   \n",
       "999         0.208146           -0.512573        -0.328855   \n",
       "\n",
       "     villageContinentalness  villageErosion  villageDepth  villageWeirdness  \\\n",
       "0                  0.126685        0.477075       -0.5625          0.432049   \n",
       "1                 -0.090090        0.594332       -0.5625         -0.106672   \n",
       "2                  0.233475       -0.319886       -0.5625          0.659344   \n",
       "3                 -0.022128       -0.122485       -0.5625         -0.273975   \n",
       "4                  0.230019        0.295004       -0.5625         -0.902690   \n",
       "..                      ...             ...           ...               ...   \n",
       "995                0.153090       -0.302736       -0.5625          0.096465   \n",
       "996                0.354111       -0.352449       -0.5625         -0.206148   \n",
       "997                0.167955       -0.173869       -0.5625         -0.191847   \n",
       "998                0.004538        0.089136       -0.5625          0.302828   \n",
       "999                0.408932        0.316198       -0.5625         -0.177867   \n",
       "\n",
       "           debug  isPos  \n",
       "0    Near inland   True  \n",
       "1     Mid inland  False  \n",
       "2    Near inland  False  \n",
       "3    Near inland   True  \n",
       "4          Coast  False  \n",
       "..           ...    ...  \n",
       "995  Near inland  False  \n",
       "996   Mid inland   True  \n",
       "997  Near inland   True  \n",
       "998        Coast  False  \n",
       "999   Mid inland  False  \n",
       "\n",
       "[1000 rows x 30 columns]"
      ],
      "text/html": [
       "<div>\n",
       "<style scoped>\n",
       "    .dataframe tbody tr th:only-of-type {\n",
       "        vertical-align: middle;\n",
       "    }\n",
       "\n",
       "    .dataframe tbody tr th {\n",
       "        vertical-align: top;\n",
       "    }\n",
       "\n",
       "    .dataframe thead th {\n",
       "        text-align: right;\n",
       "    }\n",
       "</style>\n",
       "<table border=\"1\" class=\"dataframe\">\n",
       "  <thead>\n",
       "    <tr style=\"text-align: right;\">\n",
       "      <th></th>\n",
       "      <th>seed</th>\n",
       "      <th>spawnBiome</th>\n",
       "      <th>spawnX</th>\n",
       "      <th>spawnZ</th>\n",
       "      <th>spawnMag</th>\n",
       "      <th>distance</th>\n",
       "      <th>percentage</th>\n",
       "      <th>biome</th>\n",
       "      <th>X</th>\n",
       "      <th>Z</th>\n",
       "      <th>...</th>\n",
       "      <th>originDepth</th>\n",
       "      <th>originWeirdness</th>\n",
       "      <th>villageTemperature</th>\n",
       "      <th>villageHumidity</th>\n",
       "      <th>villageContinentalness</th>\n",
       "      <th>villageErosion</th>\n",
       "      <th>villageDepth</th>\n",
       "      <th>villageWeirdness</th>\n",
       "      <th>debug</th>\n",
       "      <th>isPos</th>\n",
       "    </tr>\n",
       "  </thead>\n",
       "  <tbody>\n",
       "    <tr>\n",
       "      <th>0</th>\n",
       "      <td>-5732824298624648829</td>\n",
       "      <td>desert</td>\n",
       "      <td>-61</td>\n",
       "      <td>19</td>\n",
       "      <td>63.890531</td>\n",
       "      <td>13.152946</td>\n",
       "      <td>0.0</td>\n",
       "      <td>desert</td>\n",
       "      <td>144</td>\n",
       "      <td>48</td>\n",
       "      <td>...</td>\n",
       "      <td>1.0</td>\n",
       "      <td>-0.035057</td>\n",
       "      <td>0.885496</td>\n",
       "      <td>-0.087994</td>\n",
       "      <td>0.126685</td>\n",
       "      <td>0.477075</td>\n",
       "      <td>-0.5625</td>\n",
       "      <td>0.432049</td>\n",
       "      <td>Near inland</td>\n",
       "      <td>True</td>\n",
       "    </tr>\n",
       "    <tr>\n",
       "      <th>1</th>\n",
       "      <td>476111214681048185</td>\n",
       "      <td>snowy_taiga</td>\n",
       "      <td>0</td>\n",
       "      <td>32</td>\n",
       "      <td>32.000000</td>\n",
       "      <td>24.186773</td>\n",
       "      <td>0.0</td>\n",
       "      <td>taiga</td>\n",
       "      <td>336</td>\n",
       "      <td>-160</td>\n",
       "      <td>...</td>\n",
       "      <td>1.0</td>\n",
       "      <td>0.139197</td>\n",
       "      <td>-0.709614</td>\n",
       "      <td>0.428070</td>\n",
       "      <td>-0.090090</td>\n",
       "      <td>0.594332</td>\n",
       "      <td>-0.5625</td>\n",
       "      <td>-0.106672</td>\n",
       "      <td>Mid inland</td>\n",
       "      <td>False</td>\n",
       "    </tr>\n",
       "    <tr>\n",
       "      <th>2</th>\n",
       "      <td>1013578317724244864</td>\n",
       "      <td>grove</td>\n",
       "      <td>-14</td>\n",
       "      <td>397</td>\n",
       "      <td>397.246775</td>\n",
       "      <td>41.868843</td>\n",
       "      <td>0.0</td>\n",
       "      <td>snowy_plains</td>\n",
       "      <td>-448</td>\n",
       "      <td>896</td>\n",
       "      <td>...</td>\n",
       "      <td>1.0</td>\n",
       "      <td>-0.109274</td>\n",
       "      <td>-0.776016</td>\n",
       "      <td>0.059834</td>\n",
       "      <td>0.233475</td>\n",
       "      <td>-0.319886</td>\n",
       "      <td>-0.5625</td>\n",
       "      <td>0.659344</td>\n",
       "      <td>Near inland</td>\n",
       "      <td>False</td>\n",
       "    </tr>\n",
       "    <tr>\n",
       "      <th>3</th>\n",
       "      <td>3540650499908179768</td>\n",
       "      <td>plains</td>\n",
       "      <td>43</td>\n",
       "      <td>-58</td>\n",
       "      <td>72.201108</td>\n",
       "      <td>14.317821</td>\n",
       "      <td>0.0</td>\n",
       "      <td>plains</td>\n",
       "      <td>240</td>\n",
       "      <td>-160</td>\n",
       "      <td>...</td>\n",
       "      <td>1.0</td>\n",
       "      <td>-0.080760</td>\n",
       "      <td>0.113077</td>\n",
       "      <td>-0.250954</td>\n",
       "      <td>-0.022128</td>\n",
       "      <td>-0.122485</td>\n",
       "      <td>-0.5625</td>\n",
       "      <td>-0.273975</td>\n",
       "      <td>Near inland</td>\n",
       "      <td>True</td>\n",
       "    </tr>\n",
       "    <tr>\n",
       "      <th>4</th>\n",
       "      <td>-288261298075803855</td>\n",
       "      <td>old_growth_birch_forest</td>\n",
       "      <td>-27</td>\n",
       "      <td>126</td>\n",
       "      <td>128.860390</td>\n",
       "      <td>48.877398</td>\n",
       "      <td>0.0</td>\n",
       "      <td>plains</td>\n",
       "      <td>368</td>\n",
       "      <td>784</td>\n",
       "      <td>...</td>\n",
       "      <td>1.0</td>\n",
       "      <td>-0.000875</td>\n",
       "      <td>-0.192036</td>\n",
       "      <td>-0.475988</td>\n",
       "      <td>0.230019</td>\n",
       "      <td>0.295004</td>\n",
       "      <td>-0.5625</td>\n",
       "      <td>-0.902690</td>\n",
       "      <td>Coast</td>\n",
       "      <td>False</td>\n",
       "    </tr>\n",
       "    <tr>\n",
       "      <th>...</th>\n",
       "      <td>...</td>\n",
       "      <td>...</td>\n",
       "      <td>...</td>\n",
       "      <td>...</td>\n",
       "      <td>...</td>\n",
       "      <td>...</td>\n",
       "      <td>...</td>\n",
       "      <td>...</td>\n",
       "      <td>...</td>\n",
       "      <td>...</td>\n",
       "      <td>...</td>\n",
       "      <td>...</td>\n",
       "      <td>...</td>\n",
       "      <td>...</td>\n",
       "      <td>...</td>\n",
       "      <td>...</td>\n",
       "      <td>...</td>\n",
       "      <td>...</td>\n",
       "      <td>...</td>\n",
       "      <td>...</td>\n",
       "      <td>...</td>\n",
       "    </tr>\n",
       "    <tr>\n",
       "      <th>995</th>\n",
       "      <td>5466505011541562565</td>\n",
       "      <td>snowy_slopes</td>\n",
       "      <td>28</td>\n",
       "      <td>-125</td>\n",
       "      <td>128.097619</td>\n",
       "      <td>17.204651</td>\n",
       "      <td>0.0</td>\n",
       "      <td>snowy_plains</td>\n",
       "      <td>240</td>\n",
       "      <td>-288</td>\n",
       "      <td>...</td>\n",
       "      <td>1.0</td>\n",
       "      <td>-0.057639</td>\n",
       "      <td>-0.932037</td>\n",
       "      <td>-0.107090</td>\n",
       "      <td>0.153090</td>\n",
       "      <td>-0.302736</td>\n",
       "      <td>-0.5625</td>\n",
       "      <td>0.096465</td>\n",
       "      <td>Near inland</td>\n",
       "      <td>False</td>\n",
       "    </tr>\n",
       "    <tr>\n",
       "      <th>996</th>\n",
       "      <td>-5548836884937564074</td>\n",
       "      <td>grove</td>\n",
       "      <td>0</td>\n",
       "      <td>0</td>\n",
       "      <td>0.000000</td>\n",
       "      <td>33.615473</td>\n",
       "      <td>0.0</td>\n",
       "      <td>plains</td>\n",
       "      <td>208</td>\n",
       "      <td>-496</td>\n",
       "      <td>...</td>\n",
       "      <td>1.0</td>\n",
       "      <td>-0.469792</td>\n",
       "      <td>0.021880</td>\n",
       "      <td>-0.217357</td>\n",
       "      <td>0.354111</td>\n",
       "      <td>-0.352449</td>\n",
       "      <td>-0.5625</td>\n",
       "      <td>-0.206148</td>\n",
       "      <td>Mid inland</td>\n",
       "      <td>True</td>\n",
       "    </tr>\n",
       "    <tr>\n",
       "      <th>997</th>\n",
       "      <td>-40197854004093186</td>\n",
       "      <td>savanna</td>\n",
       "      <td>-44</td>\n",
       "      <td>-107</td>\n",
       "      <td>115.693561</td>\n",
       "      <td>17.492856</td>\n",
       "      <td>0.0</td>\n",
       "      <td>savanna</td>\n",
       "      <td>-288</td>\n",
       "      <td>32</td>\n",
       "      <td>...</td>\n",
       "      <td>1.0</td>\n",
       "      <td>-0.230311</td>\n",
       "      <td>0.448744</td>\n",
       "      <td>-0.180282</td>\n",
       "      <td>0.167955</td>\n",
       "      <td>-0.173869</td>\n",
       "      <td>-0.5625</td>\n",
       "      <td>-0.191847</td>\n",
       "      <td>Near inland</td>\n",
       "      <td>True</td>\n",
       "    </tr>\n",
       "    <tr>\n",
       "      <th>998</th>\n",
       "      <td>8820738196167999944</td>\n",
       "      <td>beach</td>\n",
       "      <td>345</td>\n",
       "      <td>773</td>\n",
       "      <td>846.495127</td>\n",
       "      <td>63.694584</td>\n",
       "      <td>0.0</td>\n",
       "      <td>plains</td>\n",
       "      <td>720</td>\n",
       "      <td>1712</td>\n",
       "      <td>...</td>\n",
       "      <td>1.0</td>\n",
       "      <td>-0.050626</td>\n",
       "      <td>-0.247186</td>\n",
       "      <td>-0.411894</td>\n",
       "      <td>0.004538</td>\n",
       "      <td>0.089136</td>\n",
       "      <td>-0.5625</td>\n",
       "      <td>0.302828</td>\n",
       "      <td>Coast</td>\n",
       "      <td>False</td>\n",
       "    </tr>\n",
       "    <tr>\n",
       "      <th>999</th>\n",
       "      <td>8321801011724660120</td>\n",
       "      <td>snowy_plains</td>\n",
       "      <td>0</td>\n",
       "      <td>0</td>\n",
       "      <td>0.000000</td>\n",
       "      <td>15.556349</td>\n",
       "      <td>0.0</td>\n",
       "      <td>snowy_plains</td>\n",
       "      <td>176</td>\n",
       "      <td>-176</td>\n",
       "      <td>...</td>\n",
       "      <td>1.0</td>\n",
       "      <td>0.208146</td>\n",
       "      <td>-0.512573</td>\n",
       "      <td>-0.328855</td>\n",
       "      <td>0.408932</td>\n",
       "      <td>0.316198</td>\n",
       "      <td>-0.5625</td>\n",
       "      <td>-0.177867</td>\n",
       "      <td>Mid inland</td>\n",
       "      <td>False</td>\n",
       "    </tr>\n",
       "  </tbody>\n",
       "</table>\n",
       "<p>1000 rows × 30 columns</p>\n",
       "</div>"
      ]
     },
     "execution_count": 3,
     "metadata": {},
     "output_type": "execute_result"
    }
   ],
   "execution_count": 3
  },
  {
   "metadata": {},
   "cell_type": "markdown",
   "source": [
    "#### Causal Diagram\n",
    "First, we need to analyze the variables. There are a few separate instances of these 6 climate variables, so I made a function to run through all of them. I added every connection I could think of, then graphed it."
   ],
   "id": "1d9dfd565c2a635a"
  },
  {
   "metadata": {
    "ExecuteTime": {
     "end_time": "2025-01-31T16:39:16.532490Z",
     "start_time": "2025-01-31T16:39:12.019882Z"
    }
   },
   "cell_type": "code",
   "source": [
    "g = gv.Digraph(graph_attr={\"size\": \"10.5,10!\"})\n",
    "for col in data: g.node(col)\n",
    "\n",
    "def all(tail, head):\n",
    "    for s in [\"temperature\", \"humidity\", \"continentalness\", \"erosion\", \"depth\", \"weirdness\"]:\n",
    "        g.edge(tail.replace(\"{}\", s).replace(\"{C}\", s.capitalize()), head.replace(\"{}\", s).replace(\"{C}\", s.capitalize()))\n",
    "\n",
    "all(\"{}\", \"spawnBiome\")\n",
    "all(\"origin{C}\", \"{}\")\n",
    "all(\"{}\", \"village{C}\")\n",
    "all(\"village{C}\", \"biome\")\n",
    "g.edge(\"spawnBiome\", \"biome\")\n",
    "g.edge(\"spawnX\", \"spawnMag\")\n",
    "g.edge(\"spawnZ\", \"spawnMag\")\n",
    "g.edge(\"X\", \"distance\")\n",
    "g.edge(\"Z\", \"distance\")\n",
    "g.edge(\"villageTemperature\", \"isPos\")\n",
    "g.edge(\"isPos\", \"biome\")\n",
    "\n",
    "g"
   ],
   "id": "112d4775862b0070",
   "outputs": [
    {
     "data": {
      "image/svg+xml": "<?xml version=\"1.0\" encoding=\"UTF-8\" standalone=\"no\"?>\n<!DOCTYPE svg PUBLIC \"-//W3C//DTD SVG 1.1//EN\"\n \"http://www.w3.org/Graphics/SVG/1.1/DTD/svg11.dtd\">\n<!-- Generated by graphviz version 12.2.1 (20241206.2353)\n -->\n<!-- Pages: 1 -->\n<svg width=\"756pt\" height=\"158pt\"\n viewBox=\"0.00 0.00 756.00 158.05\" xmlns=\"http://www.w3.org/2000/svg\" xmlns:xlink=\"http://www.w3.org/1999/xlink\">\n<g id=\"graph0\" class=\"graph\" transform=\"scale(0.47606 0.47606) rotate(0) translate(4 328)\">\n<polygon fill=\"white\" stroke=\"none\" points=\"-4,4 -4,-328 1584.03,-328 1584.03,4 -4,4\"/>\n<!-- seed -->\n<g id=\"node1\" class=\"node\">\n<title>seed</title>\n<ellipse fill=\"none\" stroke=\"black\" cx=\"192.6\" cy=\"-306\" rx=\"27.3\" ry=\"18\"/>\n<text text-anchor=\"middle\" x=\"192.6\" y=\"-300.95\" font-family=\"Times,serif\" font-size=\"14.00\">seed</text>\n</g>\n<!-- spawnBiome -->\n<g id=\"node2\" class=\"node\">\n<title>spawnBiome</title>\n<ellipse fill=\"none\" stroke=\"black\" cx=\"573.6\" cy=\"-90\" rx=\"59.54\" ry=\"18\"/>\n<text text-anchor=\"middle\" x=\"573.6\" y=\"-84.95\" font-family=\"Times,serif\" font-size=\"14.00\">spawnBiome</text>\n</g>\n<!-- biome -->\n<g id=\"node8\" class=\"node\">\n<title>biome</title>\n<ellipse fill=\"none\" stroke=\"black\" cx=\"487.6\" cy=\"-18\" rx=\"34.46\" ry=\"18\"/>\n<text text-anchor=\"middle\" x=\"487.6\" y=\"-12.95\" font-family=\"Times,serif\" font-size=\"14.00\">biome</text>\n</g>\n<!-- spawnBiome&#45;&gt;biome -->\n<g id=\"edge25\" class=\"edge\">\n<title>spawnBiome&#45;&gt;biome</title>\n<path fill=\"none\" stroke=\"black\" d=\"M553.65,-72.76C541.99,-63.27 527.12,-51.17 514.44,-40.85\"/>\n<polygon fill=\"black\" stroke=\"black\" points=\"516.82,-38.27 506.85,-34.67 512.4,-43.7 516.82,-38.27\"/>\n</g>\n<!-- spawnX -->\n<g id=\"node3\" class=\"node\">\n<title>spawnX</title>\n<ellipse fill=\"none\" stroke=\"black\" cx=\"1092.6\" cy=\"-306\" rx=\"41.12\" ry=\"18\"/>\n<text text-anchor=\"middle\" x=\"1092.6\" y=\"-300.95\" font-family=\"Times,serif\" font-size=\"14.00\">spawnX</text>\n</g>\n<!-- spawnMag -->\n<g id=\"node5\" class=\"node\">\n<title>spawnMag</title>\n<ellipse fill=\"none\" stroke=\"black\" cx=\"1142.6\" cy=\"-234\" rx=\"51.86\" ry=\"18\"/>\n<text text-anchor=\"middle\" x=\"1142.6\" y=\"-228.95\" font-family=\"Times,serif\" font-size=\"14.00\">spawnMag</text>\n</g>\n<!-- spawnX&#45;&gt;spawnMag -->\n<g id=\"edge26\" class=\"edge\">\n<title>spawnX&#45;&gt;spawnMag</title>\n<path fill=\"none\" stroke=\"black\" d=\"M1104.44,-288.41C1110.27,-280.25 1117.44,-270.22 1123.98,-261.07\"/>\n<polygon fill=\"black\" stroke=\"black\" points=\"1126.64,-263.36 1129.6,-253.19 1120.94,-259.29 1126.64,-263.36\"/>\n</g>\n<!-- spawnZ -->\n<g id=\"node4\" class=\"node\">\n<title>spawnZ</title>\n<ellipse fill=\"none\" stroke=\"black\" cx=\"1191.6\" cy=\"-306\" rx=\"40.09\" ry=\"18\"/>\n<text text-anchor=\"middle\" x=\"1191.6\" y=\"-300.95\" font-family=\"Times,serif\" font-size=\"14.00\">spawnZ</text>\n</g>\n<!-- spawnZ&#45;&gt;spawnMag -->\n<g id=\"edge27\" class=\"edge\">\n<title>spawnZ&#45;&gt;spawnMag</title>\n<path fill=\"none\" stroke=\"black\" d=\"M1179.98,-288.41C1174.33,-280.34 1167.4,-270.43 1161.04,-261.35\"/>\n<polygon fill=\"black\" stroke=\"black\" points=\"1163.93,-259.38 1155.33,-253.2 1158.2,-263.4 1163.93,-259.38\"/>\n</g>\n<!-- distance -->\n<g id=\"node6\" class=\"node\">\n<title>distance</title>\n<ellipse fill=\"none\" stroke=\"black\" cx=\"1325.6\" cy=\"-234\" rx=\"41.12\" ry=\"18\"/>\n<text text-anchor=\"middle\" x=\"1325.6\" y=\"-228.95\" font-family=\"Times,serif\" font-size=\"14.00\">distance</text>\n</g>\n<!-- percentage -->\n<g id=\"node7\" class=\"node\">\n<title>percentage</title>\n<ellipse fill=\"none\" stroke=\"black\" cx=\"1444.6\" cy=\"-306\" rx=\"50.84\" ry=\"18\"/>\n<text text-anchor=\"middle\" x=\"1444.6\" y=\"-300.95\" font-family=\"Times,serif\" font-size=\"14.00\">percentage</text>\n</g>\n<!-- X -->\n<g id=\"node9\" class=\"node\">\n<title>X</title>\n<ellipse fill=\"none\" stroke=\"black\" cx=\"1276.6\" cy=\"-306\" rx=\"27\" ry=\"18\"/>\n<text text-anchor=\"middle\" x=\"1276.6\" y=\"-300.95\" font-family=\"Times,serif\" font-size=\"14.00\">X</text>\n</g>\n<!-- X&#45;&gt;distance -->\n<g id=\"edge28\" class=\"edge\">\n<title>X&#45;&gt;distance</title>\n<path fill=\"none\" stroke=\"black\" d=\"M1287.71,-289.12C1293.58,-280.73 1300.93,-270.24 1307.58,-260.73\"/>\n<polygon fill=\"black\" stroke=\"black\" points=\"1310.45,-262.75 1313.31,-252.55 1304.71,-258.73 1310.45,-262.75\"/>\n</g>\n<!-- Z -->\n<g id=\"node10\" class=\"node\">\n<title>Z</title>\n<ellipse fill=\"none\" stroke=\"black\" cx=\"1348.6\" cy=\"-306\" rx=\"27\" ry=\"18\"/>\n<text text-anchor=\"middle\" x=\"1348.6\" y=\"-300.95\" font-family=\"Times,serif\" font-size=\"14.00\">Z</text>\n</g>\n<!-- Z&#45;&gt;distance -->\n<g id=\"edge29\" class=\"edge\">\n<title>Z&#45;&gt;distance</title>\n<path fill=\"none\" stroke=\"black\" d=\"M1343.03,-288.05C1340.55,-280.52 1337.57,-271.44 1334.77,-262.94\"/>\n<polygon fill=\"black\" stroke=\"black\" points=\"1338.19,-262.12 1331.74,-253.71 1331.54,-264.31 1338.19,-262.12\"/>\n</g>\n<!-- temperature -->\n<g id=\"node11\" class=\"node\">\n<title>temperature</title>\n<ellipse fill=\"none\" stroke=\"black\" cx=\"318.6\" cy=\"-234\" rx=\"55.45\" ry=\"18\"/>\n<text text-anchor=\"middle\" x=\"318.6\" y=\"-228.95\" font-family=\"Times,serif\" font-size=\"14.00\">temperature</text>\n</g>\n<!-- temperature&#45;&gt;spawnBiome -->\n<g id=\"edge1\" class=\"edge\">\n<title>temperature&#45;&gt;spawnBiome</title>\n<path fill=\"none\" stroke=\"black\" d=\"M359.83,-221.7C367.38,-219.73 375.21,-217.75 382.6,-216 458.59,-197.97 499.26,-235.12 554.6,-180 570.26,-164.4 574.48,-139.25 575.08,-119.67\"/>\n<polygon fill=\"black\" stroke=\"black\" points=\"578.58,-119.83 575.06,-109.84 571.58,-119.84 578.58,-119.83\"/>\n</g>\n<!-- villageTemperature -->\n<g id=\"node23\" class=\"node\">\n<title>villageTemperature</title>\n<ellipse fill=\"none\" stroke=\"black\" cx=\"83.6\" cy=\"-162\" rx=\"83.6\" ry=\"18\"/>\n<text text-anchor=\"middle\" x=\"83.6\" y=\"-156.95\" font-family=\"Times,serif\" font-size=\"14.00\">villageTemperature</text>\n</g>\n<!-- temperature&#45;&gt;villageTemperature -->\n<g id=\"edge13\" class=\"edge\">\n<title>temperature&#45;&gt;villageTemperature</title>\n<path fill=\"none\" stroke=\"black\" d=\"M278.73,-221.13C241.15,-209.93 184.38,-193.02 141.75,-180.32\"/>\n<polygon fill=\"black\" stroke=\"black\" points=\"142.99,-177.04 132.41,-177.54 140.99,-183.75 142.99,-177.04\"/>\n</g>\n<!-- humidity -->\n<g id=\"node12\" class=\"node\">\n<title>humidity</title>\n<ellipse fill=\"none\" stroke=\"black\" cx=\"229.6\" cy=\"-162\" rx=\"44.7\" ry=\"18\"/>\n<text text-anchor=\"middle\" x=\"229.6\" y=\"-156.95\" font-family=\"Times,serif\" font-size=\"14.00\">humidity</text>\n</g>\n<!-- humidity&#45;&gt;spawnBiome -->\n<g id=\"edge2\" class=\"edge\">\n<title>humidity&#45;&gt;spawnBiome</title>\n<path fill=\"none\" stroke=\"black\" d=\"M269.96,-153.97C323.86,-144.42 422.22,-126.41 505.6,-108 509.82,-107.07 514.18,-106.07 518.56,-105.03\"/>\n<polygon fill=\"black\" stroke=\"black\" points=\"519.04,-108.52 527.95,-102.77 517.41,-101.71 519.04,-108.52\"/>\n</g>\n<!-- villageHumidity -->\n<g id=\"node24\" class=\"node\">\n<title>villageHumidity</title>\n<ellipse fill=\"none\" stroke=\"black\" cx=\"216.6\" cy=\"-90\" rx=\"71.82\" ry=\"18\"/>\n<text text-anchor=\"middle\" x=\"216.6\" y=\"-84.95\" font-family=\"Times,serif\" font-size=\"14.00\">villageHumidity</text>\n</g>\n<!-- humidity&#45;&gt;villageHumidity -->\n<g id=\"edge14\" class=\"edge\">\n<title>humidity&#45;&gt;villageHumidity</title>\n<path fill=\"none\" stroke=\"black\" d=\"M226.38,-143.7C225.01,-136.32 223.38,-127.52 221.84,-119.25\"/>\n<polygon fill=\"black\" stroke=\"black\" points=\"225.32,-118.79 220.05,-109.59 218.43,-120.06 225.32,-118.79\"/>\n</g>\n<!-- continentalness -->\n<g id=\"node13\" class=\"node\">\n<title>continentalness</title>\n<ellipse fill=\"none\" stroke=\"black\" cx=\"477.6\" cy=\"-162\" rx=\"67.73\" ry=\"18\"/>\n<text text-anchor=\"middle\" x=\"477.6\" y=\"-156.95\" font-family=\"Times,serif\" font-size=\"14.00\">continentalness</text>\n</g>\n<!-- continentalness&#45;&gt;spawnBiome -->\n<g id=\"edge3\" class=\"edge\">\n<title>continentalness&#45;&gt;spawnBiome</title>\n<path fill=\"none\" stroke=\"black\" d=\"M499.86,-144.76C512.46,-135.58 528.42,-123.94 542.27,-113.84\"/>\n<polygon fill=\"black\" stroke=\"black\" points=\"544.21,-116.76 550.23,-108.04 540.09,-111.1 544.21,-116.76\"/>\n</g>\n<!-- villageContinentalness -->\n<g id=\"node25\" class=\"node\">\n<title>villageContinentalness</title>\n<ellipse fill=\"none\" stroke=\"black\" cx=\"401.6\" cy=\"-90\" rx=\"94.86\" ry=\"18\"/>\n<text text-anchor=\"middle\" x=\"401.6\" y=\"-84.95\" font-family=\"Times,serif\" font-size=\"14.00\">villageContinentalness</text>\n</g>\n<!-- continentalness&#45;&gt;villageContinentalness -->\n<g id=\"edge15\" class=\"edge\">\n<title>continentalness&#45;&gt;villageContinentalness</title>\n<path fill=\"none\" stroke=\"black\" d=\"M459.58,-144.41C450.26,-135.82 438.68,-125.16 428.33,-115.63\"/>\n<polygon fill=\"black\" stroke=\"black\" points=\"430.84,-113.18 421.12,-108.98 426.1,-118.33 430.84,-113.18\"/>\n</g>\n<!-- erosion -->\n<g id=\"node14\" class=\"node\">\n<title>erosion</title>\n<ellipse fill=\"none\" stroke=\"black\" cx=\"687.6\" cy=\"-162\" rx=\"38.04\" ry=\"18\"/>\n<text text-anchor=\"middle\" x=\"687.6\" y=\"-156.95\" font-family=\"Times,serif\" font-size=\"14.00\">erosion</text>\n</g>\n<!-- erosion&#45;&gt;spawnBiome -->\n<g id=\"edge4\" class=\"edge\">\n<title>erosion&#45;&gt;spawnBiome</title>\n<path fill=\"none\" stroke=\"black\" d=\"M665.07,-147.17C648.98,-137.29 627,-123.79 608.63,-112.51\"/>\n<polygon fill=\"black\" stroke=\"black\" points=\"610.49,-109.55 600.14,-107.3 606.83,-115.51 610.49,-109.55\"/>\n</g>\n<!-- villageErosion -->\n<g id=\"node26\" class=\"node\">\n<title>villageErosion</title>\n<ellipse fill=\"none\" stroke=\"black\" cx=\"715.6\" cy=\"-90\" rx=\"64.66\" ry=\"18\"/>\n<text text-anchor=\"middle\" x=\"715.6\" y=\"-84.95\" font-family=\"Times,serif\" font-size=\"14.00\">villageErosion</text>\n</g>\n<!-- erosion&#45;&gt;villageErosion -->\n<g id=\"edge16\" class=\"edge\">\n<title>erosion&#45;&gt;villageErosion</title>\n<path fill=\"none\" stroke=\"black\" d=\"M694.37,-144.05C697.39,-136.52 701.02,-127.44 704.42,-118.94\"/>\n<polygon fill=\"black\" stroke=\"black\" points=\"707.66,-120.27 708.12,-109.68 701.16,-117.67 707.66,-120.27\"/>\n</g>\n<!-- depth -->\n<g id=\"node15\" class=\"node\">\n<title>depth</title>\n<ellipse fill=\"none\" stroke=\"black\" cx=\"842.6\" cy=\"-162\" rx=\"31.39\" ry=\"18\"/>\n<text text-anchor=\"middle\" x=\"842.6\" y=\"-156.95\" font-family=\"Times,serif\" font-size=\"14.00\">depth</text>\n</g>\n<!-- depth&#45;&gt;spawnBiome -->\n<g id=\"edge5\" class=\"edge\">\n<title>depth&#45;&gt;spawnBiome</title>\n<path fill=\"none\" stroke=\"black\" d=\"M814.32,-153.64C770.31,-142.19 684.64,-119.9 628.28,-105.23\"/>\n<polygon fill=\"black\" stroke=\"black\" points=\"629.44,-101.92 618.88,-102.78 627.68,-108.69 629.44,-101.92\"/>\n</g>\n<!-- villageDepth -->\n<g id=\"node27\" class=\"node\">\n<title>villageDepth</title>\n<ellipse fill=\"none\" stroke=\"black\" cx=\"856.6\" cy=\"-90\" rx=\"58.52\" ry=\"18\"/>\n<text text-anchor=\"middle\" x=\"856.6\" y=\"-84.95\" font-family=\"Times,serif\" font-size=\"14.00\">villageDepth</text>\n</g>\n<!-- depth&#45;&gt;villageDepth -->\n<g id=\"edge17\" class=\"edge\">\n<title>depth&#45;&gt;villageDepth</title>\n<path fill=\"none\" stroke=\"black\" d=\"M846.06,-143.7C847.53,-136.32 849.29,-127.52 850.95,-119.25\"/>\n<polygon fill=\"black\" stroke=\"black\" points=\"854.35,-120.08 852.88,-109.59 847.48,-118.71 854.35,-120.08\"/>\n</g>\n<!-- weirdness -->\n<g id=\"node16\" class=\"node\">\n<title>weirdness</title>\n<ellipse fill=\"none\" stroke=\"black\" cx=\"1000.6\" cy=\"-162\" rx=\"47.77\" ry=\"18\"/>\n<text text-anchor=\"middle\" x=\"1000.6\" y=\"-156.95\" font-family=\"Times,serif\" font-size=\"14.00\">weirdness</text>\n</g>\n<!-- weirdness&#45;&gt;spawnBiome -->\n<g id=\"edge6\" class=\"edge\">\n<title>weirdness&#45;&gt;spawnBiome</title>\n<path fill=\"none\" stroke=\"black\" d=\"M956.72,-154.64C864.33,-141.23 656.93,-111.04 641.6,-108 637.29,-107.15 632.84,-106.19 628.38,-105.19\"/>\n<polygon fill=\"black\" stroke=\"black\" points=\"629.36,-101.82 618.82,-102.96 627.76,-108.64 629.36,-101.82\"/>\n</g>\n<!-- villageWeirdness -->\n<g id=\"node28\" class=\"node\">\n<title>villageWeirdness</title>\n<ellipse fill=\"none\" stroke=\"black\" cx=\"1007.6\" cy=\"-90\" rx=\"74.89\" ry=\"18\"/>\n<text text-anchor=\"middle\" x=\"1007.6\" y=\"-84.95\" font-family=\"Times,serif\" font-size=\"14.00\">villageWeirdness</text>\n</g>\n<!-- weirdness&#45;&gt;villageWeirdness -->\n<g id=\"edge18\" class=\"edge\">\n<title>weirdness&#45;&gt;villageWeirdness</title>\n<path fill=\"none\" stroke=\"black\" d=\"M1002.33,-143.7C1003.05,-136.41 1003.92,-127.73 1004.74,-119.54\"/>\n<polygon fill=\"black\" stroke=\"black\" points=\"1008.22,-119.91 1005.73,-109.61 1001.26,-119.21 1008.22,-119.91\"/>\n</g>\n<!-- originTemperature -->\n<g id=\"node17\" class=\"node\">\n<title>originTemperature</title>\n<ellipse fill=\"none\" stroke=\"black\" cx=\"318.6\" cy=\"-306\" rx=\"80.52\" ry=\"18\"/>\n<text text-anchor=\"middle\" x=\"318.6\" y=\"-300.95\" font-family=\"Times,serif\" font-size=\"14.00\">originTemperature</text>\n</g>\n<!-- originTemperature&#45;&gt;temperature -->\n<g id=\"edge7\" class=\"edge\">\n<title>originTemperature&#45;&gt;temperature</title>\n<path fill=\"none\" stroke=\"black\" d=\"M318.6,-287.7C318.6,-280.41 318.6,-271.73 318.6,-263.54\"/>\n<polygon fill=\"black\" stroke=\"black\" points=\"322.1,-263.62 318.6,-253.62 315.1,-263.62 322.1,-263.62\"/>\n</g>\n<!-- originHumidity -->\n<g id=\"node18\" class=\"node\">\n<title>originHumidity</title>\n<ellipse fill=\"none\" stroke=\"black\" cx=\"176.6\" cy=\"-234\" rx=\"68.75\" ry=\"18\"/>\n<text text-anchor=\"middle\" x=\"176.6\" y=\"-228.95\" font-family=\"Times,serif\" font-size=\"14.00\">originHumidity</text>\n</g>\n<!-- originHumidity&#45;&gt;humidity -->\n<g id=\"edge8\" class=\"edge\">\n<title>originHumidity&#45;&gt;humidity</title>\n<path fill=\"none\" stroke=\"black\" d=\"M189.43,-216.05C195.7,-207.77 203.38,-197.62 210.35,-188.42\"/>\n<polygon fill=\"black\" stroke=\"black\" points=\"213.09,-190.6 216.33,-180.51 207.51,-186.37 213.09,-190.6\"/>\n</g>\n<!-- originContinentalness -->\n<g id=\"node19\" class=\"node\">\n<title>originContinentalness</title>\n<ellipse fill=\"none\" stroke=\"black\" cx=\"483.6\" cy=\"-234\" rx=\"91.78\" ry=\"18\"/>\n<text text-anchor=\"middle\" x=\"483.6\" y=\"-228.95\" font-family=\"Times,serif\" font-size=\"14.00\">originContinentalness</text>\n</g>\n<!-- originContinentalness&#45;&gt;continentalness -->\n<g id=\"edge9\" class=\"edge\">\n<title>originContinentalness&#45;&gt;continentalness</title>\n<path fill=\"none\" stroke=\"black\" d=\"M482.11,-215.7C481.49,-208.41 480.74,-199.73 480.04,-191.54\"/>\n<polygon fill=\"black\" stroke=\"black\" points=\"483.53,-191.28 479.19,-181.61 476.56,-191.87 483.53,-191.28\"/>\n</g>\n<!-- originErosion -->\n<g id=\"node20\" class=\"node\">\n<title>originErosion</title>\n<ellipse fill=\"none\" stroke=\"black\" cx=\"687.6\" cy=\"-234\" rx=\"61.59\" ry=\"18\"/>\n<text text-anchor=\"middle\" x=\"687.6\" y=\"-228.95\" font-family=\"Times,serif\" font-size=\"14.00\">originErosion</text>\n</g>\n<!-- originErosion&#45;&gt;erosion -->\n<g id=\"edge10\" class=\"edge\">\n<title>originErosion&#45;&gt;erosion</title>\n<path fill=\"none\" stroke=\"black\" d=\"M687.6,-215.7C687.6,-208.41 687.6,-199.73 687.6,-191.54\"/>\n<polygon fill=\"black\" stroke=\"black\" points=\"691.1,-191.62 687.6,-181.62 684.1,-191.62 691.1,-191.62\"/>\n</g>\n<!-- originDepth -->\n<g id=\"node21\" class=\"node\">\n<title>originDepth</title>\n<ellipse fill=\"none\" stroke=\"black\" cx=\"842.6\" cy=\"-234\" rx=\"55.45\" ry=\"18\"/>\n<text text-anchor=\"middle\" x=\"842.6\" y=\"-228.95\" font-family=\"Times,serif\" font-size=\"14.00\">originDepth</text>\n</g>\n<!-- originDepth&#45;&gt;depth -->\n<g id=\"edge11\" class=\"edge\">\n<title>originDepth&#45;&gt;depth</title>\n<path fill=\"none\" stroke=\"black\" d=\"M842.6,-215.7C842.6,-208.41 842.6,-199.73 842.6,-191.54\"/>\n<polygon fill=\"black\" stroke=\"black\" points=\"846.1,-191.62 842.6,-181.62 839.1,-191.62 846.1,-191.62\"/>\n</g>\n<!-- originWeirdness -->\n<g id=\"node22\" class=\"node\">\n<title>originWeirdness</title>\n<ellipse fill=\"none\" stroke=\"black\" cx=\"1000.6\" cy=\"-234\" rx=\"71.82\" ry=\"18\"/>\n<text text-anchor=\"middle\" x=\"1000.6\" y=\"-228.95\" font-family=\"Times,serif\" font-size=\"14.00\">originWeirdness</text>\n</g>\n<!-- originWeirdness&#45;&gt;weirdness -->\n<g id=\"edge12\" class=\"edge\">\n<title>originWeirdness&#45;&gt;weirdness</title>\n<path fill=\"none\" stroke=\"black\" d=\"M1000.6,-215.7C1000.6,-208.41 1000.6,-199.73 1000.6,-191.54\"/>\n<polygon fill=\"black\" stroke=\"black\" points=\"1004.1,-191.62 1000.6,-181.62 997.1,-191.62 1004.1,-191.62\"/>\n</g>\n<!-- villageTemperature&#45;&gt;biome -->\n<g id=\"edge19\" class=\"edge\">\n<title>villageTemperature&#45;&gt;biome</title>\n<path fill=\"none\" stroke=\"black\" d=\"M70.14,-143.86C56.48,-124.26 39.68,-92.26 57.6,-72 82.78,-43.52 336.37,-26.97 441.9,-21.27\"/>\n<polygon fill=\"black\" stroke=\"black\" points=\"441.81,-24.78 451.61,-20.75 441.44,-17.79 441.81,-24.78\"/>\n</g>\n<!-- isPos -->\n<g id=\"node30\" class=\"node\">\n<title>isPos</title>\n<ellipse fill=\"none\" stroke=\"black\" cx=\"96.6\" cy=\"-90\" rx=\"30.37\" ry=\"18\"/>\n<text text-anchor=\"middle\" x=\"96.6\" y=\"-84.95\" font-family=\"Times,serif\" font-size=\"14.00\">isPos</text>\n</g>\n<!-- villageTemperature&#45;&gt;isPos -->\n<g id=\"edge30\" class=\"edge\">\n<title>villageTemperature&#45;&gt;isPos</title>\n<path fill=\"none\" stroke=\"black\" d=\"M86.81,-143.7C88.18,-136.32 89.81,-127.52 91.35,-119.25\"/>\n<polygon fill=\"black\" stroke=\"black\" points=\"94.76,-120.06 93.14,-109.59 87.88,-118.79 94.76,-120.06\"/>\n</g>\n<!-- villageHumidity&#45;&gt;biome -->\n<g id=\"edge20\" class=\"edge\">\n<title>villageHumidity&#45;&gt;biome</title>\n<path fill=\"none\" stroke=\"black\" d=\"M265.36,-76.4C316.99,-63.07 397.62,-42.24 446.25,-29.68\"/>\n<polygon fill=\"black\" stroke=\"black\" points=\"447.02,-33.1 455.83,-27.21 445.27,-26.32 447.02,-33.1\"/>\n</g>\n<!-- villageContinentalness&#45;&gt;biome -->\n<g id=\"edge21\" class=\"edge\">\n<title>villageContinentalness&#45;&gt;biome</title>\n<path fill=\"none\" stroke=\"black\" d=\"M422.41,-72.05C434.01,-62.61 448.58,-50.76 461,-40.65\"/>\n<polygon fill=\"black\" stroke=\"black\" points=\"462.87,-43.64 468.42,-34.61 458.45,-38.21 462.87,-43.64\"/>\n</g>\n<!-- villageErosion&#45;&gt;biome -->\n<g id=\"edge22\" class=\"edge\">\n<title>villageErosion&#45;&gt;biome</title>\n<path fill=\"none\" stroke=\"black\" d=\"M673.24,-76C631.57,-63.2 568.42,-43.82 527.59,-31.28\"/>\n<polygon fill=\"black\" stroke=\"black\" points=\"528.73,-27.97 518.14,-28.38 526.68,-34.66 528.73,-27.97\"/>\n</g>\n<!-- villageDepth&#45;&gt;biome -->\n<g id=\"edge23\" class=\"edge\">\n<title>villageDepth&#45;&gt;biome</title>\n<path fill=\"none\" stroke=\"black\" d=\"M813.46,-77.55C805.54,-75.59 797.34,-73.66 789.6,-72 698.35,-52.45 590.44,-34.82 531.49,-25.65\"/>\n<polygon fill=\"black\" stroke=\"black\" points=\"532.29,-22.23 521.87,-24.16 531.22,-29.15 532.29,-22.23\"/>\n</g>\n<!-- villageWeirdness&#45;&gt;biome -->\n<g id=\"edge24\" class=\"edge\">\n<title>villageWeirdness&#45;&gt;biome</title>\n<path fill=\"none\" stroke=\"black\" d=\"M953.24,-77.21C943.72,-75.33 933.89,-73.51 924.6,-72 782.06,-48.8 611.86,-30.97 532.48,-23.23\"/>\n<polygon fill=\"black\" stroke=\"black\" points=\"533.24,-19.78 522.95,-22.3 532.57,-26.75 533.24,-19.78\"/>\n</g>\n<!-- debug -->\n<g id=\"node29\" class=\"node\">\n<title>debug</title>\n<ellipse fill=\"none\" stroke=\"black\" cx=\"1546.6\" cy=\"-306\" rx=\"33.44\" ry=\"18\"/>\n<text text-anchor=\"middle\" x=\"1546.6\" y=\"-300.95\" font-family=\"Times,serif\" font-size=\"14.00\">debug</text>\n</g>\n<!-- isPos&#45;&gt;biome -->\n<g id=\"edge31\" class=\"edge\">\n<title>isPos&#45;&gt;biome</title>\n<path fill=\"none\" stroke=\"black\" d=\"M119.32,-77.91C124.57,-75.68 130.2,-73.55 135.6,-72 243.11,-41.06 374.58,-27.37 442.37,-22.01\"/>\n<polygon fill=\"black\" stroke=\"black\" points=\"442.27,-25.53 451.97,-21.28 441.73,-18.55 442.27,-25.53\"/>\n</g>\n</g>\n</svg>\n",
      "text/plain": [
       "<graphviz.graphs.Digraph at 0x16948e300>"
      ]
     },
     "execution_count": 4,
     "metadata": {},
     "output_type": "execute_result"
    }
   ],
   "execution_count": 4
  },
  {
   "metadata": {},
   "cell_type": "markdown",
   "source": [
    "#### Diagram Analysis\n",
    "Well granted that I am trying to predict things about villages, it makes sense that everything would point to the village biome. That seems like a natural variable to predict. Beyond that, it looks like every climate variable has a hierarchy back to the origin version. Looks like the non-climate-related variables won't be too useful, so I'll leave those off. To start, we can *try* one with all the climate variables. Note that I'm not using `spawnBiome` because predicting using a categorical gets more painful, and that information is already encoded in the various spawn climate variables."
   ],
   "id": "c903eb923110d310"
  },
  {
   "metadata": {
    "ExecuteTime": {
     "end_time": "2025-01-31T16:58:58.681158Z",
     "start_time": "2025-01-31T16:39:16.562610Z"
    }
   },
   "cell_type": "code",
   "source": [
    "# depth is constant; removed\n",
    "model_all = bmb.Model(\"biome ~ villageTemperature + villageHumidity + villageContinentalness + villageErosion + villageWeirdness + temperature + humidity + continentalness + erosion + weirdness + originTemperature + originHumidity + originContinentalness + originErosion + originWeirdness + (villageTemperature|temperature) + (temperature|originTemperature) + (villageHumidity|humidity) + (humidity|originHumidity) + (villageContinentalness|continentalness) + (continentalness|originContinentalness) + (villageErosion|erosion) + (erosion|originErosion) + (villageWeirdness|weirdness) + (weirdness|originWeirdness)\", data=data, family=\"categorical\")\n",
    "idata_all = model_all.fit(idata_kwargs={'log_likelihood': True})"
   ],
   "id": "d0a040b9f33c488b",
   "outputs": [
    {
     "name": "stderr",
     "output_type": "stream",
     "text": [
      "Initializing NUTS using jitter+adapt_diag...\n",
      "Multiprocess sampling (4 chains in 4 jobs)\n",
      "NUTS: [Intercept, villageTemperature, villageHumidity, villageContinentalness, villageErosion, villageWeirdness, temperature, humidity, continentalness, erosion, weirdness, originTemperature, originHumidity, originContinentalness, originErosion, originWeirdness, 1|temperature_sigma, 1|temperature_offset, villageTemperature|temperature_sigma, villageTemperature|temperature_offset, 1|originTemperature_sigma, 1|originTemperature_offset, temperature|originTemperature_sigma, temperature|originTemperature_offset, 1|humidity_sigma, 1|humidity_offset, villageHumidity|humidity_sigma, villageHumidity|humidity_offset, 1|originHumidity_sigma, 1|originHumidity_offset, humidity|originHumidity_sigma, humidity|originHumidity_offset, 1|continentalness_sigma, 1|continentalness_offset, villageContinentalness|continentalness_sigma, villageContinentalness|continentalness_offset, 1|originContinentalness_sigma, 1|originContinentalness_offset, continentalness|originContinentalness_sigma, continentalness|originContinentalness_offset, 1|erosion_sigma, 1|erosion_offset, villageErosion|erosion_sigma, villageErosion|erosion_offset, 1|originErosion_sigma, 1|originErosion_offset, erosion|originErosion_sigma, erosion|originErosion_offset, 1|weirdness_sigma, 1|weirdness_offset, villageWeirdness|weirdness_sigma, villageWeirdness|weirdness_offset, 1|originWeirdness_sigma, 1|originWeirdness_offset, weirdness|originWeirdness_sigma, weirdness|originWeirdness_offset]\n"
     ]
    },
    {
     "data": {
      "text/plain": [
       "Output()"
      ],
      "application/vnd.jupyter.widget-view+json": {
       "version_major": 2,
       "version_minor": 0,
       "model_id": "f1200aa60f994b8eaf568f1f1e0dfbb4"
      }
     },
     "metadata": {},
     "output_type": "display_data"
    },
    {
     "data": {
      "text/plain": [],
      "text/html": [
       "<pre style=\"white-space:pre;overflow-x:auto;line-height:normal;font-family:Menlo,'DejaVu Sans Mono',consolas,'Courier New',monospace\"></pre>\n"
      ]
     },
     "metadata": {},
     "output_type": "display_data"
    },
    {
     "name": "stderr",
     "output_type": "stream",
     "text": [
      "Sampling 4 chains for 1_000 tune and 1_000 draw iterations (4_000 + 4_000 draws total) took 896 seconds.\n",
      "The rhat statistic is larger than 1.01 for some parameters. This indicates problems during sampling. See https://arxiv.org/abs/1903.08008 for details\n"
     ]
    }
   ],
   "execution_count": 5
  },
  {
   "metadata": {},
   "cell_type": "markdown",
   "source": [
    "#### Additional Models\n",
    "Before running any checks, there's a couple other models I'd like to use for comparison. First, last project determined that temperature alone is a pretty good predictor. I'm going to try one model that only uses the temperature chain, to check for overfitting with all the climate variables."
   ],
   "id": "31a9580ed6b628cb"
  },
  {
   "metadata": {
    "ExecuteTime": {
     "end_time": "2025-01-31T17:02:42.087434Z",
     "start_time": "2025-01-31T16:58:58.924867Z"
    }
   },
   "cell_type": "code",
   "source": [
    "model_temp_chain = bmb.Model(\"biome ~ villageTemperature + temperature + originTemperature + (villageTemperature|temperature) + (temperature|originTemperature)\", data=data, family=\"categorical\")\n",
    "idata_temp_chain = model_temp_chain.fit(idata_kwargs={'log_likelihood': True})"
   ],
   "id": "3a05b5b3262bf18e",
   "outputs": [
    {
     "name": "stderr",
     "output_type": "stream",
     "text": [
      "Initializing NUTS using jitter+adapt_diag...\n",
      "Multiprocess sampling (4 chains in 4 jobs)\n",
      "NUTS: [Intercept, villageTemperature, temperature, originTemperature, 1|temperature_sigma, 1|temperature_offset, villageTemperature|temperature_sigma, villageTemperature|temperature_offset, 1|originTemperature_sigma, 1|originTemperature_offset, temperature|originTemperature_sigma, temperature|originTemperature_offset]\n"
     ]
    },
    {
     "data": {
      "text/plain": [
       "Output()"
      ],
      "application/vnd.jupyter.widget-view+json": {
       "version_major": 2,
       "version_minor": 0,
       "model_id": "6f306c14f36d4717afae6c82505ccefd"
      }
     },
     "metadata": {},
     "output_type": "display_data"
    },
    {
     "data": {
      "text/plain": [],
      "text/html": [
       "<pre style=\"white-space:pre;overflow-x:auto;line-height:normal;font-family:Menlo,'DejaVu Sans Mono',consolas,'Courier New',monospace\"></pre>\n"
      ]
     },
     "metadata": {},
     "output_type": "display_data"
    },
    {
     "name": "stderr",
     "output_type": "stream",
     "text": [
      "Sampling 4 chains for 1_000 tune and 1_000 draw iterations (4_000 + 4_000 draws total) took 173 seconds.\n",
      "The rhat statistic is larger than 1.01 for some parameters. This indicates problems during sampling. See https://arxiv.org/abs/1903.08008 for details\n",
      "The effective sample size per chain is smaller than 100 for some parameters.  A higher number is needed for reliable rhat and ess computation. See https://arxiv.org/abs/1903.08008 for details\n"
     ]
    }
   ],
   "execution_count": 6
  },
  {
   "metadata": {},
   "cell_type": "markdown",
   "source": "I'd also like to try one without any of the hierarchies, for a couple reasons. One, just to make sure I'm not overfitting. Two, ideally this model would be able to predict village biome solely off of information available at spawn. Using only those variables makes that possible. I'm going to do a couple here; one with all the spawn climate variables, and one with just temperature.",
   "id": "9a115cf55cf34e97"
  },
  {
   "metadata": {
    "ExecuteTime": {
     "end_time": "2025-01-31T17:03:15.868533Z",
     "start_time": "2025-01-31T17:02:42.141590Z"
    }
   },
   "cell_type": "code",
   "source": [
    "model_spawn = bmb.Model(\"biome ~ temperature + humidity + continentalness + erosion + weirdness\", data=data, family=\"categorical\")\n",
    "idata_spawn = model_spawn.fit(idata_kwargs={'log_likelihood': True})"
   ],
   "id": "41d234ba83919876",
   "outputs": [
    {
     "name": "stderr",
     "output_type": "stream",
     "text": [
      "Initializing NUTS using jitter+adapt_diag...\n",
      "Multiprocess sampling (4 chains in 4 jobs)\n",
      "NUTS: [Intercept, temperature, humidity, continentalness, erosion, weirdness]\n"
     ]
    },
    {
     "data": {
      "text/plain": [
       "Output()"
      ],
      "application/vnd.jupyter.widget-view+json": {
       "version_major": 2,
       "version_minor": 0,
       "model_id": "d375dac7cdcb4b4bac49511a8b320884"
      }
     },
     "metadata": {},
     "output_type": "display_data"
    },
    {
     "data": {
      "text/plain": [],
      "text/html": [
       "<pre style=\"white-space:pre;overflow-x:auto;line-height:normal;font-family:Menlo,'DejaVu Sans Mono',consolas,'Courier New',monospace\"></pre>\n"
      ]
     },
     "metadata": {},
     "output_type": "display_data"
    },
    {
     "name": "stderr",
     "output_type": "stream",
     "text": [
      "Sampling 4 chains for 1_000 tune and 1_000 draw iterations (4_000 + 4_000 draws total) took 31 seconds.\n"
     ]
    }
   ],
   "execution_count": 7
  },
  {
   "metadata": {
    "ExecuteTime": {
     "end_time": "2025-01-31T17:03:37.509398Z",
     "start_time": "2025-01-31T17:03:15.907532Z"
    }
   },
   "cell_type": "code",
   "source": [
    "model_spawn_temp = bmb.Model(\"biome ~ temperature\", data=data, family=\"categorical\")\n",
    "idata_spawn_temp = model_spawn_temp.fit(idata_kwargs={'log_likelihood': True})"
   ],
   "id": "ecff9353be75fc85",
   "outputs": [
    {
     "name": "stderr",
     "output_type": "stream",
     "text": [
      "Initializing NUTS using jitter+adapt_diag...\n",
      "Multiprocess sampling (4 chains in 4 jobs)\n",
      "NUTS: [Intercept, temperature]\n"
     ]
    },
    {
     "data": {
      "text/plain": [
       "Output()"
      ],
      "application/vnd.jupyter.widget-view+json": {
       "version_major": 2,
       "version_minor": 0,
       "model_id": "0715189ed3af4be7903002b03878e958"
      }
     },
     "metadata": {},
     "output_type": "display_data"
    },
    {
     "data": {
      "text/plain": [],
      "text/html": [
       "<pre style=\"white-space:pre;overflow-x:auto;line-height:normal;font-family:Menlo,'DejaVu Sans Mono',consolas,'Courier New',monospace\"></pre>\n"
      ]
     },
     "metadata": {},
     "output_type": "display_data"
    },
    {
     "name": "stderr",
     "output_type": "stream",
     "text": [
      "Sampling 4 chains for 1_000 tune and 1_000 draw iterations (4_000 + 4_000 draws total) took 20 seconds.\n"
     ]
    }
   ],
   "execution_count": 8
  },
  {
   "metadata": {},
   "cell_type": "markdown",
   "source": [
    "#### Comparison\n",
    "Time to compare. I'll start with an elpd_loo comparison before checking predictions and PPCs."
   ],
   "id": "9139382b178fd237"
  },
  {
   "metadata": {
    "ExecuteTime": {
     "end_time": "2025-01-31T17:04:28.708139Z",
     "start_time": "2025-01-31T17:03:37.579902Z"
    }
   },
   "cell_type": "code",
   "source": [
    "az.plot_compare(az.compare({\n",
    "    \"all\": idata_all,\n",
    "    \"temp_chain\": idata_temp_chain,\n",
    "    \"spawn\": idata_spawn,\n",
    "    \"spawn_temp\": idata_spawn_temp,\n",
    "}))"
   ],
   "id": "dedf6dd412610c94",
   "outputs": [
    {
     "name": "stderr",
     "output_type": "stream",
     "text": [
      "/opt/homebrew/anaconda3/envs/data-science-fundamentals/lib/python3.12/site-packages/arviz/stats/stats.py:795: UserWarning: Estimated shape parameter of Pareto distribution is greater than 0.70 for one or more samples. You should consider using a more robust model, this is because importance sampling is less likely to work well if the marginal posterior and LOO posterior are very different. This is more likely to happen with a non-robust model and highly influential observations.\n",
      "  warnings.warn(\n",
      "/opt/homebrew/anaconda3/envs/data-science-fundamentals/lib/python3.12/site-packages/arviz/stats/stats.py:795: UserWarning: Estimated shape parameter of Pareto distribution is greater than 0.70 for one or more samples. You should consider using a more robust model, this is because importance sampling is less likely to work well if the marginal posterior and LOO posterior are very different. This is more likely to happen with a non-robust model and highly influential observations.\n",
      "  warnings.warn(\n"
     ]
    },
    {
     "data": {
      "text/plain": [
       "<Axes: title={'center': 'Model comparison\\nhigher is better'}, xlabel='elpd_loo (log)', ylabel='ranked models'>"
      ]
     },
     "execution_count": 9,
     "metadata": {},
     "output_type": "execute_result"
    },
    {
     "data": {
      "text/plain": [
       "<Figure size 600x400 with 1 Axes>"
      ],
      "image/png": "[encoded data removed]"
     },
     "metadata": {},
     "output_type": "display_data"
    }
   ],
   "execution_count": 9
  },
  {
   "metadata": {},
   "cell_type": "markdown",
   "source": [
    "#### PPC\n",
    "Well, we're definitely not overfitting with all of the climate variables. It did *significantly* better than only looking at temperature. Hopefully that should mean that this model is significantly more useful than my last project. Let's take a quick look at the PPC."
   ],
   "id": "834cf19368eff8ea"
  },
  {
   "metadata": {
    "ExecuteTime": {
     "end_time": "2025-01-31T17:17:18.914363Z",
     "start_time": "2025-01-31T17:04:28.735423Z"
    }
   },
   "cell_type": "code",
   "source": [
    "model_all.predict(idata_all, kind=\"response\")\n",
    "az.plot_ppc(idata_all)"
   ],
   "id": "467d23420fd8adcb",
   "outputs": [
    {
     "data": {
      "text/plain": [
       "<Axes: xlabel='biome'>"
      ]
     },
     "execution_count": 10,
     "metadata": {},
     "output_type": "execute_result"
    },
    {
     "data": {
      "text/plain": [
       "<Figure size 640x480 with 1 Axes>"
      ],
      "image/png": "[encoded data removed]"
     },
     "metadata": {},
     "output_type": "display_data"
    }
   ],
   "execution_count": 10
  },
  {
   "metadata": {},
   "cell_type": "markdown",
   "source": [
    "#### Analysis\n",
    "Well that looks pretty good. Overall this makes a *lot* of sense. In fact, it almost makes... too much sense. In fact, looking at it, we've basically just made an ideal model. We used the climate variables of the village's biome to predict the villages biome. In fact, if we know those variables, the village's biome is actually deterministic. To make this model actually useful, we shouldn't take those into account. Let's try another one, with only the origin and spawn variables (note that this will certainly be worse, but more useful).\n",
    "\n",
    "Unfortunately, I've already tried with just the spawn variables and it did significantly worse. We'll see if including the origin variables does any better."
   ],
   "id": "5edfc637b86feceb"
  },
  {
   "metadata": {
    "ExecuteTime": {
     "end_time": "2025-01-31T17:42:10.631268Z",
     "start_time": "2025-01-31T17:32:13.610805Z"
    }
   },
   "cell_type": "code",
   "source": [
    "# depth is constant; removed\n",
    "model_not_village = bmb.Model(\"biome ~  temperature + humidity + continentalness + erosion + weirdness + originTemperature + originHumidity + originContinentalness + originErosion + originWeirdness + (temperature|originTemperature) + (humidity|originHumidity) + (continentalness|originContinentalness) + (erosion|originErosion) + (weirdness|originWeirdness)\", data=data, family=\"categorical\")\n",
    "idata_not_village = model_not_village.fit(idata_kwargs={'log_likelihood': True})"
   ],
   "id": "df63d673d4f5c53d",
   "outputs": [
    {
     "name": "stderr",
     "output_type": "stream",
     "text": [
      "Initializing NUTS using jitter+adapt_diag...\n",
      "Multiprocess sampling (4 chains in 4 jobs)\n",
      "NUTS: [Intercept, temperature, humidity, continentalness, erosion, weirdness, originTemperature, originHumidity, originContinentalness, originErosion, originWeirdness, 1|originTemperature_sigma, 1|originTemperature_offset, temperature|originTemperature_sigma, temperature|originTemperature_offset, 1|originHumidity_sigma, 1|originHumidity_offset, humidity|originHumidity_sigma, humidity|originHumidity_offset, 1|originContinentalness_sigma, 1|originContinentalness_offset, continentalness|originContinentalness_sigma, continentalness|originContinentalness_offset, 1|originErosion_sigma, 1|originErosion_offset, erosion|originErosion_sigma, erosion|originErosion_offset, 1|originWeirdness_sigma, 1|originWeirdness_offset, weirdness|originWeirdness_sigma, weirdness|originWeirdness_offset]\n"
     ]
    },
    {
     "data": {
      "text/plain": [
       "Output()"
      ],
      "application/vnd.jupyter.widget-view+json": {
       "version_major": 2,
       "version_minor": 0,
       "model_id": "e80caa935f1b45e78a3d848961da3670"
      }
     },
     "metadata": {},
     "output_type": "display_data"
    },
    {
     "data": {
      "text/plain": [],
      "text/html": [
       "<pre style=\"white-space:pre;overflow-x:auto;line-height:normal;font-family:Menlo,'DejaVu Sans Mono',consolas,'Courier New',monospace\"></pre>\n"
      ]
     },
     "metadata": {},
     "output_type": "display_data"
    },
    {
     "name": "stderr",
     "output_type": "stream",
     "text": [
      "Sampling 4 chains for 1_000 tune and 1_000 draw iterations (4_000 + 4_000 draws total) took 466 seconds.\n",
      "There were 298 divergences after tuning. Increase `target_accept` or reparameterize.\n",
      "The rhat statistic is larger than 1.01 for some parameters. This indicates problems during sampling. See https://arxiv.org/abs/1903.08008 for details\n",
      "The effective sample size per chain is smaller than 100 for some parameters.  A higher number is needed for reliable rhat and ess computation. See https://arxiv.org/abs/1903.08008 for details\n"
     ]
    }
   ],
   "execution_count": 13
  },
  {
   "metadata": {
    "ExecuteTime": {
     "end_time": "2025-01-31T17:50:18.624147Z",
     "start_time": "2025-01-31T17:48:40.212658Z"
    }
   },
   "cell_type": "code",
   "source": [
    "az.plot_compare(az.compare({\n",
    "    \"all\": idata_all,\n",
    "    \"not_village\": idata_not_village,\n",
    "    \"temp_chain\": idata_temp_chain,\n",
    "    \"spawn\": idata_spawn,\n",
    "    \"spawn_temp\": idata_spawn_temp,\n",
    "}))"
   ],
   "id": "254325a99ba9b89a",
   "outputs": [
    {
     "name": "stderr",
     "output_type": "stream",
     "text": [
      "/opt/homebrew/anaconda3/envs/data-science-fundamentals/lib/python3.12/site-packages/arviz/stats/stats.py:795: UserWarning: Estimated shape parameter of Pareto distribution is greater than 0.70 for one or more samples. You should consider using a more robust model, this is because importance sampling is less likely to work well if the marginal posterior and LOO posterior are very different. This is more likely to happen with a non-robust model and highly influential observations.\n",
      "  warnings.warn(\n",
      "/opt/homebrew/anaconda3/envs/data-science-fundamentals/lib/python3.12/site-packages/arviz/stats/stats.py:795: UserWarning: Estimated shape parameter of Pareto distribution is greater than 0.70 for one or more samples. You should consider using a more robust model, this is because importance sampling is less likely to work well if the marginal posterior and LOO posterior are very different. This is more likely to happen with a non-robust model and highly influential observations.\n",
      "  warnings.warn(\n",
      "/opt/homebrew/anaconda3/envs/data-science-fundamentals/lib/python3.12/site-packages/arviz/stats/stats.py:795: UserWarning: Estimated shape parameter of Pareto distribution is greater than 0.70 for one or more samples. You should consider using a more robust model, this is because importance sampling is less likely to work well if the marginal posterior and LOO posterior are very different. This is more likely to happen with a non-robust model and highly influential observations.\n",
      "  warnings.warn(\n"
     ]
    },
    {
     "data": {
      "text/plain": [
       "<Axes: title={'center': 'Model comparison\\nhigher is better'}, xlabel='elpd_loo (log)', ylabel='ranked models'>"
      ]
     },
     "execution_count": 17,
     "metadata": {},
     "output_type": "execute_result"
    },
    {
     "data": {
      "text/plain": [
       "<Figure size 600x500 with 1 Axes>"
      ],
      "image/png": "[encoded data removed]"
     },
     "metadata": {},
     "output_type": "display_data"
    }
   ],
   "execution_count": 17
  },
  {
   "metadata": {},
   "cell_type": "markdown",
   "source": [
    "#### Comparison and PPC\n",
    "Well I think this shows quite clearly what's going on. The `temp_chain` model has access to `villageTemperature` (one of the climate variables at the village); it is better at predicting the village's biome. However, it's notable that knowing the origin parameters is definitely helpful. This makes sense, as it gives the model some sense of how the climate changes through having two data points rather than just the one. Before making any conclusions, let's look at the PPCs."
   ],
   "id": "a585ae468da1433a"
  },
  {
   "metadata": {
    "ExecuteTime": {
     "end_time": "2025-01-31T17:48:26.930949Z",
     "start_time": "2025-01-31T17:42:44.468042Z"
    }
   },
   "cell_type": "code",
   "source": [
    "model_not_village.predict(idata_not_village, kind=\"response\")\n",
    "az.plot_ppc(idata_not_village)"
   ],
   "id": "fdb9308bb1a1486",
   "outputs": [
    {
     "data": {
      "text/plain": [
       "<Axes: xlabel='biome'>"
      ]
     },
     "execution_count": 15,
     "metadata": {},
     "output_type": "execute_result"
    },
    {
     "data": {
      "text/plain": [
       "<Figure size 640x480 with 1 Axes>"
      ],
      "image/png": "[encoded data removed]"
     },
     "metadata": {},
     "output_type": "display_data"
    }
   ],
   "execution_count": 15
  },
  {
   "metadata": {
    "ExecuteTime": {
     "end_time": "2025-01-31T17:48:40.208368Z",
     "start_time": "2025-01-31T17:48:26.966071Z"
    }
   },
   "cell_type": "code",
   "source": [
    "model_spawn.predict(idata_spawn, kind=\"response\")\n",
    "az.plot_ppc(idata_spawn)"
   ],
   "id": "e419e8094f2435a9",
   "outputs": [
    {
     "data": {
      "text/plain": [
       "<Axes: xlabel='biome'>"
      ]
     },
     "execution_count": 16,
     "metadata": {},
     "output_type": "execute_result"
    },
    {
     "data": {
      "text/plain": [
       "<Figure size 640x480 with 1 Axes>"
      ],
      "image/png": "[encoded data removed]"
     },
     "metadata": {},
     "output_type": "display_data"
    }
   ],
   "execution_count": 16
  },
  {
   "metadata": {},
   "cell_type": "markdown",
   "source": [
    "#### Conclusions\n",
    "The means for both of these are basically exactly as good as the one with all the variables. That's good news, and means that these more useful models should still be very accurate. The only major difference is that the blue lines vary further from the mean/observed in the models with less data.\n",
    "\n",
    "Based on that, I think the final one is actually the most useful, despite being the least accurate. The mean is still right on, and collecting those variables is much easier (and quicker). This is certainly more useful than the prior project, which A) only predicted temperature, and B) wasn't that accurate. It is definitely very interesting that you can very accurately predict the village biome based solely on spawn climate variables.\n",
    "\n",
    "Overall I feel like this data is pretty nicely wrapped up. I feel like I understand the connections between the variables and what is at play, and have a good understanding of the pros and cons of each model."
   ],
   "id": "71e0fc4fa938f84e"
  }
 ],
 "metadata": {
  "kernelspec": {
   "display_name": "Python 3",
   "language": "python",
   "name": "python3"
  },
  "language_info": {
   "codemirror_mode": {
    "name": "ipython",
    "version": 2
   },
   "file_extension": ".py",
   "mimetype": "text/x-python",
   "name": "python",
   "nbconvert_exporter": "python",
   "pygments_lexer": "ipython2",
   "version": "2.7.6"
  }
 },
 "nbformat": 4,
 "nbformat_minor": 5
}
