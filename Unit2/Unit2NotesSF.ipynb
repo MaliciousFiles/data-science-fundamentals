{
 "nbformat": 4,
 "nbformat_minor": 0,
 "metadata": {
  "colab": {
   "provenance": [],
   "include_colab_link": true
  },
  "kernelspec": {
   "name": "python3",
   "display_name": "Python 3 (ipykernel)",
   "language": "python"
  },
  "language_info": {
   "name": "python"
  }
 },
 "cells": [
  {
   "cell_type": "markdown",
   "metadata": {
    "id": "view-in-github",
    "colab_type": "text"
   },
   "source": [
    "<a href=\"https://colab.research.google.com/github/thedarredondo/data-science-fundamentals/blob/main/Unit2/Unit2NotesSF.ipynb\" target=\"_parent\"><img src=\"https://colab.research.google.com/assets/colab-badge.svg\" alt=\"Open In Colab\"/></a>"
   ]
  },
  {
   "cell_type": "markdown",
   "source": [
    "The following are the installations and libraries neccesary to run the code in these notes. Some of the libraries in this course are so new that they aren't preinstalled on the Google servers that collabratory runs on. We'll need to reninstall them each time we get the \"runtime disconnect message\""
   ],
   "metadata": {
    "id": "LAQNBHLpQgwf"
   }
  },
  {
   "cell_type": "code",
   "source": [
    "!pip install \"preliz[full,notebook]\"\n",
    "!pip install \"pymc\""
   ],
   "metadata": {
    "id": "3xvGOrVlmKf9",
    "ExecuteTime": {
     "end_time": "2024-08-28T15:02:43.149697Z",
     "start_time": "2024-08-28T15:02:35.420214Z"
    }
   },
   "outputs": [
    {
     "name": "stdout",
     "output_type": "stream",
     "text": [
      "Requirement already satisfied: preliz[full,notebook] in /Users/malcolmroalson/Documents/DataSpell/data-science-fundamentals/venv/lib/python3.10/site-packages (0.9.0)\r\n",
      "Requirement already satisfied: arviz in /Users/malcolmroalson/Documents/DataSpell/data-science-fundamentals/venv/lib/python3.10/site-packages (from preliz[full,notebook]) (0.19.0)\r\n",
      "Requirement already satisfied: matplotlib>=3.5 in /Users/malcolmroalson/Documents/DataSpell/data-science-fundamentals/venv/lib/python3.10/site-packages (from preliz[full,notebook]) (3.9.2)\r\n",
      "Requirement already satisfied: numba>=0.59 in /Users/malcolmroalson/Documents/DataSpell/data-science-fundamentals/venv/lib/python3.10/site-packages (from preliz[full,notebook]) (0.60.0)\r\n",
      "Requirement already satisfied: numpy>=1.22 in /Users/malcolmroalson/Documents/DataSpell/data-science-fundamentals/venv/lib/python3.10/site-packages (from preliz[full,notebook]) (1.26.4)\r\n",
      "Requirement already satisfied: scipy<1.13,>=1.9.1 in /Users/malcolmroalson/Documents/DataSpell/data-science-fundamentals/venv/lib/python3.10/site-packages (from preliz[full,notebook]) (1.12.0)\r\n",
      "Requirement already satisfied: nbclient<0.6,>=0.2 in /Users/malcolmroalson/Documents/DataSpell/data-science-fundamentals/venv/lib/python3.10/site-packages (from preliz[full,notebook]) (0.5.13)\r\n",
      "Requirement already satisfied: ipywidgets in /Users/malcolmroalson/Documents/DataSpell/data-science-fundamentals/venv/lib/python3.10/site-packages (from preliz[full,notebook]) (8.1.5)\r\n",
      "Requirement already satisfied: ipympl in /Users/malcolmroalson/Documents/DataSpell/data-science-fundamentals/venv/lib/python3.10/site-packages (from preliz[full,notebook]) (0.9.4)\r\n",
      "Requirement already satisfied: notebook in /Users/malcolmroalson/Documents/DataSpell/data-science-fundamentals/venv/lib/python3.10/site-packages (from preliz[full,notebook]) (7.2.1)\r\n",
      "Requirement already satisfied: contourpy>=1.0.1 in /Users/malcolmroalson/Documents/DataSpell/data-science-fundamentals/venv/lib/python3.10/site-packages (from matplotlib>=3.5->preliz[full,notebook]) (1.3.0)\r\n",
      "Requirement already satisfied: cycler>=0.10 in /Users/malcolmroalson/Documents/DataSpell/data-science-fundamentals/venv/lib/python3.10/site-packages (from matplotlib>=3.5->preliz[full,notebook]) (0.12.1)\r\n",
      "Requirement already satisfied: fonttools>=4.22.0 in /Users/malcolmroalson/Documents/DataSpell/data-science-fundamentals/venv/lib/python3.10/site-packages (from matplotlib>=3.5->preliz[full,notebook]) (4.53.1)\r\n",
      "Requirement already satisfied: kiwisolver>=1.3.1 in /Users/malcolmroalson/Documents/DataSpell/data-science-fundamentals/venv/lib/python3.10/site-packages (from matplotlib>=3.5->preliz[full,notebook]) (1.4.5)\r\n",
      "Requirement already satisfied: packaging>=20.0 in /Users/malcolmroalson/Documents/DataSpell/data-science-fundamentals/venv/lib/python3.10/site-packages (from matplotlib>=3.5->preliz[full,notebook]) (24.1)\r\n",
      "Requirement already satisfied: pillow>=8 in /Users/malcolmroalson/Documents/DataSpell/data-science-fundamentals/venv/lib/python3.10/site-packages (from matplotlib>=3.5->preliz[full,notebook]) (10.4.0)\r\n",
      "Requirement already satisfied: pyparsing>=2.3.1 in /Users/malcolmroalson/Documents/DataSpell/data-science-fundamentals/venv/lib/python3.10/site-packages (from matplotlib>=3.5->preliz[full,notebook]) (3.1.4)\r\n",
      "Requirement already satisfied: python-dateutil>=2.7 in /Users/malcolmroalson/Documents/DataSpell/data-science-fundamentals/venv/lib/python3.10/site-packages (from matplotlib>=3.5->preliz[full,notebook]) (2.9.0.post0)\r\n",
      "Requirement already satisfied: traitlets>=5.0.0 in /Users/malcolmroalson/Documents/DataSpell/data-science-fundamentals/venv/lib/python3.10/site-packages (from nbclient<0.6,>=0.2->preliz[full,notebook]) (5.14.3)\r\n",
      "Requirement already satisfied: jupyter-client>=6.1.5 in /Users/malcolmroalson/Documents/DataSpell/data-science-fundamentals/venv/lib/python3.10/site-packages (from nbclient<0.6,>=0.2->preliz[full,notebook]) (8.6.2)\r\n",
      "Requirement already satisfied: nbformat>=5.0 in /Users/malcolmroalson/Documents/DataSpell/data-science-fundamentals/venv/lib/python3.10/site-packages (from nbclient<0.6,>=0.2->preliz[full,notebook]) (5.10.4)\r\n",
      "Requirement already satisfied: nest-asyncio in /Users/malcolmroalson/Documents/DataSpell/data-science-fundamentals/venv/lib/python3.10/site-packages (from nbclient<0.6,>=0.2->preliz[full,notebook]) (1.6.0)\r\n",
      "Requirement already satisfied: llvmlite<0.44,>=0.43.0dev0 in /Users/malcolmroalson/Documents/DataSpell/data-science-fundamentals/venv/lib/python3.10/site-packages (from numba>=0.59->preliz[full,notebook]) (0.43.0)\r\n",
      "Requirement already satisfied: setuptools>=60.0.0 in /Users/malcolmroalson/Documents/DataSpell/data-science-fundamentals/venv/lib/python3.10/site-packages (from arviz->preliz[full,notebook]) (68.2.0)\r\n",
      "Requirement already satisfied: pandas>=1.5.0 in /Users/malcolmroalson/Documents/DataSpell/data-science-fundamentals/venv/lib/python3.10/site-packages (from arviz->preliz[full,notebook]) (2.2.2)\r\n",
      "Requirement already satisfied: dm-tree>=0.1.8 in /Users/malcolmroalson/Documents/DataSpell/data-science-fundamentals/venv/lib/python3.10/site-packages (from arviz->preliz[full,notebook]) (0.1.8)\r\n",
      "Requirement already satisfied: xarray>=2022.6.0 in /Users/malcolmroalson/Documents/DataSpell/data-science-fundamentals/venv/lib/python3.10/site-packages (from arviz->preliz[full,notebook]) (2024.7.0)\r\n",
      "Requirement already satisfied: h5netcdf>=1.0.2 in /Users/malcolmroalson/Documents/DataSpell/data-science-fundamentals/venv/lib/python3.10/site-packages (from arviz->preliz[full,notebook]) (1.3.0)\r\n",
      "Requirement already satisfied: typing-extensions>=4.1.0 in /Users/malcolmroalson/Documents/DataSpell/data-science-fundamentals/venv/lib/python3.10/site-packages (from arviz->preliz[full,notebook]) (4.12.2)\r\n",
      "Requirement already satisfied: xarray-einstats>=0.3 in /Users/malcolmroalson/Documents/DataSpell/data-science-fundamentals/venv/lib/python3.10/site-packages (from arviz->preliz[full,notebook]) (0.7.0)\r\n",
      "Requirement already satisfied: ipython-genutils in /Users/malcolmroalson/Documents/DataSpell/data-science-fundamentals/venv/lib/python3.10/site-packages (from ipympl->preliz[full,notebook]) (0.2.0)\r\n",
      "Requirement already satisfied: ipython<9 in /Users/malcolmroalson/Documents/DataSpell/data-science-fundamentals/venv/lib/python3.10/site-packages (from ipympl->preliz[full,notebook]) (8.26.0)\r\n",
      "Requirement already satisfied: comm>=0.1.3 in /Users/malcolmroalson/Documents/DataSpell/data-science-fundamentals/venv/lib/python3.10/site-packages (from ipywidgets->preliz[full,notebook]) (0.2.2)\r\n",
      "Requirement already satisfied: widgetsnbextension~=4.0.12 in /Users/malcolmroalson/Documents/DataSpell/data-science-fundamentals/venv/lib/python3.10/site-packages (from ipywidgets->preliz[full,notebook]) (4.0.13)\r\n",
      "Requirement already satisfied: jupyterlab-widgets~=3.0.12 in /Users/malcolmroalson/Documents/DataSpell/data-science-fundamentals/venv/lib/python3.10/site-packages (from ipywidgets->preliz[full,notebook]) (3.0.13)\r\n",
      "Requirement already satisfied: jupyter-server<3,>=2.4.0 in /Users/malcolmroalson/Documents/DataSpell/data-science-fundamentals/venv/lib/python3.10/site-packages (from notebook->preliz[full,notebook]) (2.14.2)\r\n",
      "Requirement already satisfied: jupyterlab-server<3,>=2.27.1 in /Users/malcolmroalson/Documents/DataSpell/data-science-fundamentals/venv/lib/python3.10/site-packages (from notebook->preliz[full,notebook]) (2.27.3)\r\n",
      "Requirement already satisfied: jupyterlab<4.3,>=4.2.0 in /Users/malcolmroalson/Documents/DataSpell/data-science-fundamentals/venv/lib/python3.10/site-packages (from notebook->preliz[full,notebook]) (4.2.4)\r\n",
      "Requirement already satisfied: notebook-shim<0.3,>=0.2 in /Users/malcolmroalson/Documents/DataSpell/data-science-fundamentals/venv/lib/python3.10/site-packages (from notebook->preliz[full,notebook]) (0.2.4)\r\n",
      "Requirement already satisfied: tornado>=6.2.0 in /Users/malcolmroalson/Documents/DataSpell/data-science-fundamentals/venv/lib/python3.10/site-packages (from notebook->preliz[full,notebook]) (6.4.1)\r\n",
      "Requirement already satisfied: h5py in /Users/malcolmroalson/Documents/DataSpell/data-science-fundamentals/venv/lib/python3.10/site-packages (from h5netcdf>=1.0.2->arviz->preliz[full,notebook]) (3.11.0)\r\n",
      "Requirement already satisfied: decorator in /Users/malcolmroalson/Documents/DataSpell/data-science-fundamentals/venv/lib/python3.10/site-packages (from ipython<9->ipympl->preliz[full,notebook]) (5.1.1)\r\n",
      "Requirement already satisfied: jedi>=0.16 in /Users/malcolmroalson/Documents/DataSpell/data-science-fundamentals/venv/lib/python3.10/site-packages (from ipython<9->ipympl->preliz[full,notebook]) (0.19.1)\r\n",
      "Requirement already satisfied: matplotlib-inline in /Users/malcolmroalson/Documents/DataSpell/data-science-fundamentals/venv/lib/python3.10/site-packages (from ipython<9->ipympl->preliz[full,notebook]) (0.1.7)\r\n",
      "Requirement already satisfied: prompt-toolkit<3.1.0,>=3.0.41 in /Users/malcolmroalson/Documents/DataSpell/data-science-fundamentals/venv/lib/python3.10/site-packages (from ipython<9->ipympl->preliz[full,notebook]) (3.0.47)\r\n",
      "Requirement already satisfied: pygments>=2.4.0 in /Users/malcolmroalson/Documents/DataSpell/data-science-fundamentals/venv/lib/python3.10/site-packages (from ipython<9->ipympl->preliz[full,notebook]) (2.18.0)\r\n",
      "Requirement already satisfied: stack-data in /Users/malcolmroalson/Documents/DataSpell/data-science-fundamentals/venv/lib/python3.10/site-packages (from ipython<9->ipympl->preliz[full,notebook]) (0.6.3)\r\n",
      "Requirement already satisfied: exceptiongroup in /Users/malcolmroalson/Documents/DataSpell/data-science-fundamentals/venv/lib/python3.10/site-packages (from ipython<9->ipympl->preliz[full,notebook]) (1.2.2)\r\n",
      "Requirement already satisfied: pexpect>4.3 in /Users/malcolmroalson/Documents/DataSpell/data-science-fundamentals/venv/lib/python3.10/site-packages (from ipython<9->ipympl->preliz[full,notebook]) (4.9.0)\r\n",
      "Requirement already satisfied: jupyter-core!=5.0.*,>=4.12 in /Users/malcolmroalson/Documents/DataSpell/data-science-fundamentals/venv/lib/python3.10/site-packages (from jupyter-client>=6.1.5->nbclient<0.6,>=0.2->preliz[full,notebook]) (5.7.2)\r\n",
      "Requirement already satisfied: pyzmq>=23.0 in /Users/malcolmroalson/Documents/DataSpell/data-science-fundamentals/venv/lib/python3.10/site-packages (from jupyter-client>=6.1.5->nbclient<0.6,>=0.2->preliz[full,notebook]) (26.2.0)\r\n",
      "Requirement already satisfied: anyio>=3.1.0 in /Users/malcolmroalson/Documents/DataSpell/data-science-fundamentals/venv/lib/python3.10/site-packages (from jupyter-server<3,>=2.4.0->notebook->preliz[full,notebook]) (4.4.0)\r\n",
      "Requirement already satisfied: argon2-cffi>=21.1 in /Users/malcolmroalson/Documents/DataSpell/data-science-fundamentals/venv/lib/python3.10/site-packages (from jupyter-server<3,>=2.4.0->notebook->preliz[full,notebook]) (23.1.0)\r\n",
      "Requirement already satisfied: jinja2>=3.0.3 in /Users/malcolmroalson/Documents/DataSpell/data-science-fundamentals/venv/lib/python3.10/site-packages (from jupyter-server<3,>=2.4.0->notebook->preliz[full,notebook]) (3.1.4)\r\n",
      "Requirement already satisfied: jupyter-events>=0.9.0 in /Users/malcolmroalson/Documents/DataSpell/data-science-fundamentals/venv/lib/python3.10/site-packages (from jupyter-server<3,>=2.4.0->notebook->preliz[full,notebook]) (0.10.0)\r\n",
      "Requirement already satisfied: jupyter-server-terminals>=0.4.4 in /Users/malcolmroalson/Documents/DataSpell/data-science-fundamentals/venv/lib/python3.10/site-packages (from jupyter-server<3,>=2.4.0->notebook->preliz[full,notebook]) (0.5.3)\r\n",
      "Requirement already satisfied: nbconvert>=6.4.4 in /Users/malcolmroalson/Documents/DataSpell/data-science-fundamentals/venv/lib/python3.10/site-packages (from jupyter-server<3,>=2.4.0->notebook->preliz[full,notebook]) (7.16.4)\r\n",
      "Requirement already satisfied: overrides>=5.0 in /Users/malcolmroalson/Documents/DataSpell/data-science-fundamentals/venv/lib/python3.10/site-packages (from jupyter-server<3,>=2.4.0->notebook->preliz[full,notebook]) (7.7.0)\r\n",
      "Requirement already satisfied: prometheus-client>=0.9 in /Users/malcolmroalson/Documents/DataSpell/data-science-fundamentals/venv/lib/python3.10/site-packages (from jupyter-server<3,>=2.4.0->notebook->preliz[full,notebook]) (0.20.0)\r\n",
      "Requirement already satisfied: send2trash>=1.8.2 in /Users/malcolmroalson/Documents/DataSpell/data-science-fundamentals/venv/lib/python3.10/site-packages (from jupyter-server<3,>=2.4.0->notebook->preliz[full,notebook]) (1.8.3)\r\n",
      "Requirement already satisfied: terminado>=0.8.3 in /Users/malcolmroalson/Documents/DataSpell/data-science-fundamentals/venv/lib/python3.10/site-packages (from jupyter-server<3,>=2.4.0->notebook->preliz[full,notebook]) (0.18.1)\r\n",
      "Requirement already satisfied: websocket-client>=1.7 in /Users/malcolmroalson/Documents/DataSpell/data-science-fundamentals/venv/lib/python3.10/site-packages (from jupyter-server<3,>=2.4.0->notebook->preliz[full,notebook]) (1.8.0)\r\n",
      "Requirement already satisfied: async-lru>=1.0.0 in /Users/malcolmroalson/Documents/DataSpell/data-science-fundamentals/venv/lib/python3.10/site-packages (from jupyterlab<4.3,>=4.2.0->notebook->preliz[full,notebook]) (2.0.4)\r\n",
      "Requirement already satisfied: httpx>=0.25.0 in /Users/malcolmroalson/Documents/DataSpell/data-science-fundamentals/venv/lib/python3.10/site-packages (from jupyterlab<4.3,>=4.2.0->notebook->preliz[full,notebook]) (0.27.0)\r\n",
      "Requirement already satisfied: ipykernel>=6.5.0 in /Users/malcolmroalson/Documents/DataSpell/data-science-fundamentals/venv/lib/python3.10/site-packages (from jupyterlab<4.3,>=4.2.0->notebook->preliz[full,notebook]) (6.29.5)\r\n",
      "Requirement already satisfied: jupyter-lsp>=2.0.0 in /Users/malcolmroalson/Documents/DataSpell/data-science-fundamentals/venv/lib/python3.10/site-packages (from jupyterlab<4.3,>=4.2.0->notebook->preliz[full,notebook]) (2.2.5)\r\n",
      "Requirement already satisfied: tomli>=1.2.2 in /Users/malcolmroalson/Documents/DataSpell/data-science-fundamentals/venv/lib/python3.10/site-packages (from jupyterlab<4.3,>=4.2.0->notebook->preliz[full,notebook]) (2.0.1)\r\n",
      "Requirement already satisfied: babel>=2.10 in /Users/malcolmroalson/Documents/DataSpell/data-science-fundamentals/venv/lib/python3.10/site-packages (from jupyterlab-server<3,>=2.27.1->notebook->preliz[full,notebook]) (2.16.0)\r\n",
      "Requirement already satisfied: json5>=0.9.0 in /Users/malcolmroalson/Documents/DataSpell/data-science-fundamentals/venv/lib/python3.10/site-packages (from jupyterlab-server<3,>=2.27.1->notebook->preliz[full,notebook]) (0.9.25)\r\n",
      "Requirement already satisfied: jsonschema>=4.18.0 in /Users/malcolmroalson/Documents/DataSpell/data-science-fundamentals/venv/lib/python3.10/site-packages (from jupyterlab-server<3,>=2.27.1->notebook->preliz[full,notebook]) (4.23.0)\r\n",
      "Requirement already satisfied: requests>=2.31 in /Users/malcolmroalson/Documents/DataSpell/data-science-fundamentals/venv/lib/python3.10/site-packages (from jupyterlab-server<3,>=2.27.1->notebook->preliz[full,notebook]) (2.32.3)\r\n",
      "Requirement already satisfied: fastjsonschema>=2.15 in /Users/malcolmroalson/Documents/DataSpell/data-science-fundamentals/venv/lib/python3.10/site-packages (from nbformat>=5.0->nbclient<0.6,>=0.2->preliz[full,notebook]) (2.20.0)\r\n",
      "Requirement already satisfied: pytz>=2020.1 in /Users/malcolmroalson/Documents/DataSpell/data-science-fundamentals/venv/lib/python3.10/site-packages (from pandas>=1.5.0->arviz->preliz[full,notebook]) (2024.1)\r\n",
      "Requirement already satisfied: tzdata>=2022.7 in /Users/malcolmroalson/Documents/DataSpell/data-science-fundamentals/venv/lib/python3.10/site-packages (from pandas>=1.5.0->arviz->preliz[full,notebook]) (2024.1)\r\n",
      "Requirement already satisfied: six>=1.5 in /Users/malcolmroalson/Documents/DataSpell/data-science-fundamentals/venv/lib/python3.10/site-packages (from python-dateutil>=2.7->matplotlib>=3.5->preliz[full,notebook]) (1.16.0)\r\n",
      "Requirement already satisfied: idna>=2.8 in /Users/malcolmroalson/Documents/DataSpell/data-science-fundamentals/venv/lib/python3.10/site-packages (from anyio>=3.1.0->jupyter-server<3,>=2.4.0->notebook->preliz[full,notebook]) (3.8)\r\n",
      "Requirement already satisfied: sniffio>=1.1 in /Users/malcolmroalson/Documents/DataSpell/data-science-fundamentals/venv/lib/python3.10/site-packages (from anyio>=3.1.0->jupyter-server<3,>=2.4.0->notebook->preliz[full,notebook]) (1.3.1)\r\n",
      "Requirement already satisfied: argon2-cffi-bindings in /Users/malcolmroalson/Documents/DataSpell/data-science-fundamentals/venv/lib/python3.10/site-packages (from argon2-cffi>=21.1->jupyter-server<3,>=2.4.0->notebook->preliz[full,notebook]) (21.2.0)\r\n",
      "Requirement already satisfied: certifi in /Users/malcolmroalson/Documents/DataSpell/data-science-fundamentals/venv/lib/python3.10/site-packages (from httpx>=0.25.0->jupyterlab<4.3,>=4.2.0->notebook->preliz[full,notebook]) (2024.7.4)\r\n",
      "Requirement already satisfied: httpcore==1.* in /Users/malcolmroalson/Documents/DataSpell/data-science-fundamentals/venv/lib/python3.10/site-packages (from httpx>=0.25.0->jupyterlab<4.3,>=4.2.0->notebook->preliz[full,notebook]) (1.0.5)\r\n",
      "Requirement already satisfied: h11<0.15,>=0.13 in /Users/malcolmroalson/Documents/DataSpell/data-science-fundamentals/venv/lib/python3.10/site-packages (from httpcore==1.*->httpx>=0.25.0->jupyterlab<4.3,>=4.2.0->notebook->preliz[full,notebook]) (0.14.0)\r\n",
      "Requirement already satisfied: appnope in /Users/malcolmroalson/Documents/DataSpell/data-science-fundamentals/venv/lib/python3.10/site-packages (from ipykernel>=6.5.0->jupyterlab<4.3,>=4.2.0->notebook->preliz[full,notebook]) (0.1.4)\r\n",
      "Requirement already satisfied: debugpy>=1.6.5 in /Users/malcolmroalson/Documents/DataSpell/data-science-fundamentals/venv/lib/python3.10/site-packages (from ipykernel>=6.5.0->jupyterlab<4.3,>=4.2.0->notebook->preliz[full,notebook]) (1.8.5)\r\n",
      "Requirement already satisfied: psutil in /Users/malcolmroalson/Documents/DataSpell/data-science-fundamentals/venv/lib/python3.10/site-packages (from ipykernel>=6.5.0->jupyterlab<4.3,>=4.2.0->notebook->preliz[full,notebook]) (6.0.0)\r\n",
      "Requirement already satisfied: parso<0.9.0,>=0.8.3 in /Users/malcolmroalson/Documents/DataSpell/data-science-fundamentals/venv/lib/python3.10/site-packages (from jedi>=0.16->ipython<9->ipympl->preliz[full,notebook]) (0.8.4)\r\n",
      "Requirement already satisfied: MarkupSafe>=2.0 in /Users/malcolmroalson/Documents/DataSpell/data-science-fundamentals/venv/lib/python3.10/site-packages (from jinja2>=3.0.3->jupyter-server<3,>=2.4.0->notebook->preliz[full,notebook]) (2.1.5)\r\n",
      "Requirement already satisfied: attrs>=22.2.0 in /Users/malcolmroalson/Documents/DataSpell/data-science-fundamentals/venv/lib/python3.10/site-packages (from jsonschema>=4.18.0->jupyterlab-server<3,>=2.27.1->notebook->preliz[full,notebook]) (24.2.0)\r\n",
      "Requirement already satisfied: jsonschema-specifications>=2023.03.6 in /Users/malcolmroalson/Documents/DataSpell/data-science-fundamentals/venv/lib/python3.10/site-packages (from jsonschema>=4.18.0->jupyterlab-server<3,>=2.27.1->notebook->preliz[full,notebook]) (2023.12.1)\r\n",
      "Requirement already satisfied: referencing>=0.28.4 in /Users/malcolmroalson/Documents/DataSpell/data-science-fundamentals/venv/lib/python3.10/site-packages (from jsonschema>=4.18.0->jupyterlab-server<3,>=2.27.1->notebook->preliz[full,notebook]) (0.35.1)\r\n",
      "Requirement already satisfied: rpds-py>=0.7.1 in /Users/malcolmroalson/Documents/DataSpell/data-science-fundamentals/venv/lib/python3.10/site-packages (from jsonschema>=4.18.0->jupyterlab-server<3,>=2.27.1->notebook->preliz[full,notebook]) (0.20.0)\r\n",
      "Requirement already satisfied: platformdirs>=2.5 in /Users/malcolmroalson/Documents/DataSpell/data-science-fundamentals/venv/lib/python3.10/site-packages (from jupyter-core!=5.0.*,>=4.12->jupyter-client>=6.1.5->nbclient<0.6,>=0.2->preliz[full,notebook]) (4.2.2)\r\n",
      "Requirement already satisfied: python-json-logger>=2.0.4 in /Users/malcolmroalson/Documents/DataSpell/data-science-fundamentals/venv/lib/python3.10/site-packages (from jupyter-events>=0.9.0->jupyter-server<3,>=2.4.0->notebook->preliz[full,notebook]) (2.0.7)\r\n",
      "Requirement already satisfied: pyyaml>=5.3 in /Users/malcolmroalson/Documents/DataSpell/data-science-fundamentals/venv/lib/python3.10/site-packages (from jupyter-events>=0.9.0->jupyter-server<3,>=2.4.0->notebook->preliz[full,notebook]) (6.0.2)\r\n",
      "Requirement already satisfied: rfc3339-validator in /Users/malcolmroalson/Documents/DataSpell/data-science-fundamentals/venv/lib/python3.10/site-packages (from jupyter-events>=0.9.0->jupyter-server<3,>=2.4.0->notebook->preliz[full,notebook]) (0.1.4)\r\n",
      "Requirement already satisfied: rfc3986-validator>=0.1.1 in /Users/malcolmroalson/Documents/DataSpell/data-science-fundamentals/venv/lib/python3.10/site-packages (from jupyter-events>=0.9.0->jupyter-server<3,>=2.4.0->notebook->preliz[full,notebook]) (0.1.1)\r\n",
      "Requirement already satisfied: beautifulsoup4 in /Users/malcolmroalson/Documents/DataSpell/data-science-fundamentals/venv/lib/python3.10/site-packages (from nbconvert>=6.4.4->jupyter-server<3,>=2.4.0->notebook->preliz[full,notebook]) (4.12.3)\r\n",
      "Requirement already satisfied: bleach!=5.0.0 in /Users/malcolmroalson/Documents/DataSpell/data-science-fundamentals/venv/lib/python3.10/site-packages (from nbconvert>=6.4.4->jupyter-server<3,>=2.4.0->notebook->preliz[full,notebook]) (6.1.0)\r\n",
      "Requirement already satisfied: defusedxml in /Users/malcolmroalson/Documents/DataSpell/data-science-fundamentals/venv/lib/python3.10/site-packages (from nbconvert>=6.4.4->jupyter-server<3,>=2.4.0->notebook->preliz[full,notebook]) (0.7.1)\r\n",
      "Requirement already satisfied: jupyterlab-pygments in /Users/malcolmroalson/Documents/DataSpell/data-science-fundamentals/venv/lib/python3.10/site-packages (from nbconvert>=6.4.4->jupyter-server<3,>=2.4.0->notebook->preliz[full,notebook]) (0.3.0)\r\n",
      "Requirement already satisfied: mistune<4,>=2.0.3 in /Users/malcolmroalson/Documents/DataSpell/data-science-fundamentals/venv/lib/python3.10/site-packages (from nbconvert>=6.4.4->jupyter-server<3,>=2.4.0->notebook->preliz[full,notebook]) (3.0.2)\r\n",
      "Requirement already satisfied: pandocfilters>=1.4.1 in /Users/malcolmroalson/Documents/DataSpell/data-science-fundamentals/venv/lib/python3.10/site-packages (from nbconvert>=6.4.4->jupyter-server<3,>=2.4.0->notebook->preliz[full,notebook]) (1.5.1)\r\n",
      "Requirement already satisfied: tinycss2 in /Users/malcolmroalson/Documents/DataSpell/data-science-fundamentals/venv/lib/python3.10/site-packages (from nbconvert>=6.4.4->jupyter-server<3,>=2.4.0->notebook->preliz[full,notebook]) (1.3.0)\r\n",
      "Requirement already satisfied: ptyprocess>=0.5 in /Users/malcolmroalson/Documents/DataSpell/data-science-fundamentals/venv/lib/python3.10/site-packages (from pexpect>4.3->ipython<9->ipympl->preliz[full,notebook]) (0.7.0)\r\n",
      "Requirement already satisfied: wcwidth in /Users/malcolmroalson/Documents/DataSpell/data-science-fundamentals/venv/lib/python3.10/site-packages (from prompt-toolkit<3.1.0,>=3.0.41->ipython<9->ipympl->preliz[full,notebook]) (0.2.13)\r\n",
      "Requirement already satisfied: charset-normalizer<4,>=2 in /Users/malcolmroalson/Documents/DataSpell/data-science-fundamentals/venv/lib/python3.10/site-packages (from requests>=2.31->jupyterlab-server<3,>=2.27.1->notebook->preliz[full,notebook]) (3.3.2)\r\n",
      "Requirement already satisfied: urllib3<3,>=1.21.1 in /Users/malcolmroalson/Documents/DataSpell/data-science-fundamentals/venv/lib/python3.10/site-packages (from requests>=2.31->jupyterlab-server<3,>=2.27.1->notebook->preliz[full,notebook]) (2.2.2)\r\n",
      "Requirement already satisfied: executing>=1.2.0 in /Users/malcolmroalson/Documents/DataSpell/data-science-fundamentals/venv/lib/python3.10/site-packages (from stack-data->ipython<9->ipympl->preliz[full,notebook]) (2.0.1)\r\n",
      "Requirement already satisfied: asttokens>=2.1.0 in /Users/malcolmroalson/Documents/DataSpell/data-science-fundamentals/venv/lib/python3.10/site-packages (from stack-data->ipython<9->ipympl->preliz[full,notebook]) (2.4.1)\r\n",
      "Requirement already satisfied: pure-eval in /Users/malcolmroalson/Documents/DataSpell/data-science-fundamentals/venv/lib/python3.10/site-packages (from stack-data->ipython<9->ipympl->preliz[full,notebook]) (0.2.3)\r\n",
      "Requirement already satisfied: webencodings in /Users/malcolmroalson/Documents/DataSpell/data-science-fundamentals/venv/lib/python3.10/site-packages (from bleach!=5.0.0->nbconvert>=6.4.4->jupyter-server<3,>=2.4.0->notebook->preliz[full,notebook]) (0.5.1)\r\n",
      "Requirement already satisfied: fqdn in /Users/malcolmroalson/Documents/DataSpell/data-science-fundamentals/venv/lib/python3.10/site-packages (from jsonschema>=4.18.0->jupyterlab-server<3,>=2.27.1->notebook->preliz[full,notebook]) (1.5.1)\r\n",
      "Requirement already satisfied: isoduration in /Users/malcolmroalson/Documents/DataSpell/data-science-fundamentals/venv/lib/python3.10/site-packages (from jsonschema>=4.18.0->jupyterlab-server<3,>=2.27.1->notebook->preliz[full,notebook]) (20.11.0)\r\n",
      "Requirement already satisfied: jsonpointer>1.13 in /Users/malcolmroalson/Documents/DataSpell/data-science-fundamentals/venv/lib/python3.10/site-packages (from jsonschema>=4.18.0->jupyterlab-server<3,>=2.27.1->notebook->preliz[full,notebook]) (3.0.0)\r\n",
      "Requirement already satisfied: uri-template in /Users/malcolmroalson/Documents/DataSpell/data-science-fundamentals/venv/lib/python3.10/site-packages (from jsonschema>=4.18.0->jupyterlab-server<3,>=2.27.1->notebook->preliz[full,notebook]) (1.3.0)\r\n",
      "Requirement already satisfied: webcolors>=24.6.0 in /Users/malcolmroalson/Documents/DataSpell/data-science-fundamentals/venv/lib/python3.10/site-packages (from jsonschema>=4.18.0->jupyterlab-server<3,>=2.27.1->notebook->preliz[full,notebook]) (24.8.0)\r\n",
      "Requirement already satisfied: cffi>=1.0.1 in /Users/malcolmroalson/Documents/DataSpell/data-science-fundamentals/venv/lib/python3.10/site-packages (from argon2-cffi-bindings->argon2-cffi>=21.1->jupyter-server<3,>=2.4.0->notebook->preliz[full,notebook]) (1.17.0)\r\n",
      "Requirement already satisfied: soupsieve>1.2 in /Users/malcolmroalson/Documents/DataSpell/data-science-fundamentals/venv/lib/python3.10/site-packages (from beautifulsoup4->nbconvert>=6.4.4->jupyter-server<3,>=2.4.0->notebook->preliz[full,notebook]) (2.6)\r\n",
      "Requirement already satisfied: pycparser in /Users/malcolmroalson/Documents/DataSpell/data-science-fundamentals/venv/lib/python3.10/site-packages (from cffi>=1.0.1->argon2-cffi-bindings->argon2-cffi>=21.1->jupyter-server<3,>=2.4.0->notebook->preliz[full,notebook]) (2.22)\r\n",
      "Requirement already satisfied: arrow>=0.15.0 in /Users/malcolmroalson/Documents/DataSpell/data-science-fundamentals/venv/lib/python3.10/site-packages (from isoduration->jsonschema>=4.18.0->jupyterlab-server<3,>=2.27.1->notebook->preliz[full,notebook]) (1.3.0)\r\n",
      "Requirement already satisfied: types-python-dateutil>=2.8.10 in /Users/malcolmroalson/Documents/DataSpell/data-science-fundamentals/venv/lib/python3.10/site-packages (from arrow>=0.15.0->isoduration->jsonschema>=4.18.0->jupyterlab-server<3,>=2.27.1->notebook->preliz[full,notebook]) (2.9.0.20240821)\r\n",
      "\r\n",
      "\u001B[1m[\u001B[0m\u001B[34;49mnotice\u001B[0m\u001B[1;39;49m]\u001B[0m\u001B[39;49m A new release of pip is available: \u001B[0m\u001B[31;49m23.2.1\u001B[0m\u001B[39;49m -> \u001B[0m\u001B[32;49m24.2\u001B[0m\r\n",
      "\u001B[1m[\u001B[0m\u001B[34;49mnotice\u001B[0m\u001B[1;39;49m]\u001B[0m\u001B[39;49m To update, run: \u001B[0m\u001B[32;49mpip install --upgrade pip\u001B[0m\r\n",
      "Collecting pymc\r\n",
      "  Obtaining dependency information for pymc from https://files.pythonhosted.org/packages/02/45/56b7a89582a4c98cdfb6f2c259d29331cc7d80d643ce51396760dc1b2c5f/pymc-5.16.2-py3-none-any.whl.metadata\r\n",
      "  Downloading pymc-5.16.2-py3-none-any.whl.metadata (15 kB)\r\n",
      "Requirement already satisfied: arviz>=0.13.0 in /Users/malcolmroalson/Documents/DataSpell/data-science-fundamentals/venv/lib/python3.10/site-packages (from pymc) (0.19.0)\r\n",
      "Collecting cachetools>=4.2.1 (from pymc)\r\n",
      "  Obtaining dependency information for cachetools>=4.2.1 from https://files.pythonhosted.org/packages/a4/07/14f8ad37f2d12a5ce41206c21820d8cb6561b728e51fad4530dff0552a67/cachetools-5.5.0-py3-none-any.whl.metadata\r\n",
      "  Downloading cachetools-5.5.0-py3-none-any.whl.metadata (5.3 kB)\r\n",
      "Collecting cloudpickle (from pymc)\r\n",
      "  Obtaining dependency information for cloudpickle from https://files.pythonhosted.org/packages/96/43/dae06432d0c4b1dc9e9149ad37b4ca8384cf6eb7700cd9215b177b914f0a/cloudpickle-3.0.0-py3-none-any.whl.metadata\r\n",
      "  Downloading cloudpickle-3.0.0-py3-none-any.whl.metadata (7.0 kB)\r\n",
      "Requirement already satisfied: numpy>=1.15.0 in /Users/malcolmroalson/Documents/DataSpell/data-science-fundamentals/venv/lib/python3.10/site-packages (from pymc) (1.26.4)\r\n",
      "Requirement already satisfied: pandas>=0.24.0 in /Users/malcolmroalson/Documents/DataSpell/data-science-fundamentals/venv/lib/python3.10/site-packages (from pymc) (2.2.2)\r\n",
      "Collecting pytensor<2.26,>=2.25.1 (from pymc)\r\n",
      "  Obtaining dependency information for pytensor<2.26,>=2.25.1 from https://files.pythonhosted.org/packages/e9/1b/eca03e9956c6ae7e6eed8894de66dd2af5910ef5211b8ac9523c428430bc/pytensor-2.25.4-py2.py3-none-any.whl.metadata\r\n",
      "  Downloading pytensor-2.25.4-py2.py3-none-any.whl.metadata (9.9 kB)\r\n",
      "Collecting rich>=13.7.1 (from pymc)\r\n",
      "  Obtaining dependency information for rich>=13.7.1 from https://files.pythonhosted.org/packages/c7/d9/c2a126eeae791e90ea099d05cb0515feea3688474b978343f3cdcfe04523/rich-13.8.0-py3-none-any.whl.metadata\r\n",
      "  Downloading rich-13.8.0-py3-none-any.whl.metadata (18 kB)\r\n",
      "Requirement already satisfied: scipy>=1.4.1 in /Users/malcolmroalson/Documents/DataSpell/data-science-fundamentals/venv/lib/python3.10/site-packages (from pymc) (1.12.0)\r\n",
      "Collecting threadpoolctl<4.0.0,>=3.1.0 (from pymc)\r\n",
      "  Obtaining dependency information for threadpoolctl<4.0.0,>=3.1.0 from https://files.pythonhosted.org/packages/4b/2c/ffbf7a134b9ab11a67b0cf0726453cedd9c5043a4fe7a35d1cefa9a1bcfb/threadpoolctl-3.5.0-py3-none-any.whl.metadata\r\n",
      "  Downloading threadpoolctl-3.5.0-py3-none-any.whl.metadata (13 kB)\r\n",
      "Requirement already satisfied: typing-extensions>=3.7.4 in /Users/malcolmroalson/Documents/DataSpell/data-science-fundamentals/venv/lib/python3.10/site-packages (from pymc) (4.12.2)\r\n",
      "Requirement already satisfied: setuptools>=60.0.0 in /Users/malcolmroalson/Documents/DataSpell/data-science-fundamentals/venv/lib/python3.10/site-packages (from arviz>=0.13.0->pymc) (68.2.0)\r\n",
      "Requirement already satisfied: matplotlib>=3.5 in /Users/malcolmroalson/Documents/DataSpell/data-science-fundamentals/venv/lib/python3.10/site-packages (from arviz>=0.13.0->pymc) (3.9.2)\r\n",
      "Requirement already satisfied: packaging in /Users/malcolmroalson/Documents/DataSpell/data-science-fundamentals/venv/lib/python3.10/site-packages (from arviz>=0.13.0->pymc) (24.1)\r\n",
      "Requirement already satisfied: dm-tree>=0.1.8 in /Users/malcolmroalson/Documents/DataSpell/data-science-fundamentals/venv/lib/python3.10/site-packages (from arviz>=0.13.0->pymc) (0.1.8)\r\n",
      "Requirement already satisfied: xarray>=2022.6.0 in /Users/malcolmroalson/Documents/DataSpell/data-science-fundamentals/venv/lib/python3.10/site-packages (from arviz>=0.13.0->pymc) (2024.7.0)\r\n",
      "Requirement already satisfied: h5netcdf>=1.0.2 in /Users/malcolmroalson/Documents/DataSpell/data-science-fundamentals/venv/lib/python3.10/site-packages (from arviz>=0.13.0->pymc) (1.3.0)\r\n",
      "Requirement already satisfied: xarray-einstats>=0.3 in /Users/malcolmroalson/Documents/DataSpell/data-science-fundamentals/venv/lib/python3.10/site-packages (from arviz>=0.13.0->pymc) (0.7.0)\r\n",
      "Requirement already satisfied: python-dateutil>=2.8.2 in /Users/malcolmroalson/Documents/DataSpell/data-science-fundamentals/venv/lib/python3.10/site-packages (from pandas>=0.24.0->pymc) (2.9.0.post0)\r\n",
      "Requirement already satisfied: pytz>=2020.1 in /Users/malcolmroalson/Documents/DataSpell/data-science-fundamentals/venv/lib/python3.10/site-packages (from pandas>=0.24.0->pymc) (2024.1)\r\n",
      "Requirement already satisfied: tzdata>=2022.7 in /Users/malcolmroalson/Documents/DataSpell/data-science-fundamentals/venv/lib/python3.10/site-packages (from pandas>=0.24.0->pymc) (2024.1)\r\n",
      "Collecting filelock>=3.15 (from pytensor<2.26,>=2.25.1->pymc)\r\n",
      "  Obtaining dependency information for filelock>=3.15 from https://files.pythonhosted.org/packages/ae/f0/48285f0262fe47103a4a45972ed2f9b93e4c80b8fd609fa98da78b2a5706/filelock-3.15.4-py3-none-any.whl.metadata\r\n",
      "  Downloading filelock-3.15.4-py3-none-any.whl.metadata (2.9 kB)\r\n",
      "Collecting etuples (from pytensor<2.26,>=2.25.1->pymc)\r\n",
      "  Downloading etuples-0.3.9.tar.gz (30 kB)\r\n",
      "  Preparing metadata (setup.py) ... \u001B[?25ldone\r\n",
      "\u001B[?25hCollecting logical-unification (from pytensor<2.26,>=2.25.1->pymc)\r\n",
      "  Downloading logical-unification-0.4.6.tar.gz (31 kB)\r\n",
      "  Preparing metadata (setup.py) ... \u001B[?25ldone\r\n",
      "\u001B[?25hCollecting miniKanren (from pytensor<2.26,>=2.25.1->pymc)\r\n",
      "  Downloading miniKanren-1.0.3.tar.gz (41 kB)\r\n",
      "\u001B[2K     \u001B[90m━━━━━━━━━━━━━━━━━━━━━━━━━━━━━━━━━━━━━━━━\u001B[0m \u001B[32m41.3/41.3 kB\u001B[0m \u001B[31m4.9 MB/s\u001B[0m eta \u001B[36m0:00:00\u001B[0m\r\n",
      "\u001B[?25h  Preparing metadata (setup.py) ... \u001B[?25ldone\r\n",
      "\u001B[?25hCollecting cons (from pytensor<2.26,>=2.25.1->pymc)\r\n",
      "  Downloading cons-0.4.6.tar.gz (26 kB)\r\n",
      "  Preparing metadata (setup.py) ... \u001B[?25ldone\r\n",
      "\u001B[?25hCollecting markdown-it-py>=2.2.0 (from rich>=13.7.1->pymc)\r\n",
      "  Obtaining dependency information for markdown-it-py>=2.2.0 from https://files.pythonhosted.org/packages/42/d7/1ec15b46af6af88f19b8e5ffea08fa375d433c998b8a7639e76935c14f1f/markdown_it_py-3.0.0-py3-none-any.whl.metadata\r\n",
      "  Downloading markdown_it_py-3.0.0-py3-none-any.whl.metadata (6.9 kB)\r\n",
      "Requirement already satisfied: pygments<3.0.0,>=2.13.0 in /Users/malcolmroalson/Documents/DataSpell/data-science-fundamentals/venv/lib/python3.10/site-packages (from rich>=13.7.1->pymc) (2.18.0)\r\n",
      "Requirement already satisfied: h5py in /Users/malcolmroalson/Documents/DataSpell/data-science-fundamentals/venv/lib/python3.10/site-packages (from h5netcdf>=1.0.2->arviz>=0.13.0->pymc) (3.11.0)\r\n",
      "Collecting mdurl~=0.1 (from markdown-it-py>=2.2.0->rich>=13.7.1->pymc)\r\n",
      "  Obtaining dependency information for mdurl~=0.1 from https://files.pythonhosted.org/packages/b3/38/89ba8ad64ae25be8de66a6d463314cf1eb366222074cfda9ee839c56a4b4/mdurl-0.1.2-py3-none-any.whl.metadata\r\n",
      "  Downloading mdurl-0.1.2-py3-none-any.whl.metadata (1.6 kB)\r\n",
      "Requirement already satisfied: contourpy>=1.0.1 in /Users/malcolmroalson/Documents/DataSpell/data-science-fundamentals/venv/lib/python3.10/site-packages (from matplotlib>=3.5->arviz>=0.13.0->pymc) (1.3.0)\r\n",
      "Requirement already satisfied: cycler>=0.10 in /Users/malcolmroalson/Documents/DataSpell/data-science-fundamentals/venv/lib/python3.10/site-packages (from matplotlib>=3.5->arviz>=0.13.0->pymc) (0.12.1)\r\n",
      "Requirement already satisfied: fonttools>=4.22.0 in /Users/malcolmroalson/Documents/DataSpell/data-science-fundamentals/venv/lib/python3.10/site-packages (from matplotlib>=3.5->arviz>=0.13.0->pymc) (4.53.1)\r\n",
      "Requirement already satisfied: kiwisolver>=1.3.1 in /Users/malcolmroalson/Documents/DataSpell/data-science-fundamentals/venv/lib/python3.10/site-packages (from matplotlib>=3.5->arviz>=0.13.0->pymc) (1.4.5)\r\n",
      "Requirement already satisfied: pillow>=8 in /Users/malcolmroalson/Documents/DataSpell/data-science-fundamentals/venv/lib/python3.10/site-packages (from matplotlib>=3.5->arviz>=0.13.0->pymc) (10.4.0)\r\n",
      "Requirement already satisfied: pyparsing>=2.3.1 in /Users/malcolmroalson/Documents/DataSpell/data-science-fundamentals/venv/lib/python3.10/site-packages (from matplotlib>=3.5->arviz>=0.13.0->pymc) (3.1.4)\r\n",
      "Requirement already satisfied: six>=1.5 in /Users/malcolmroalson/Documents/DataSpell/data-science-fundamentals/venv/lib/python3.10/site-packages (from python-dateutil>=2.8.2->pandas>=0.24.0->pymc) (1.16.0)\r\n",
      "Collecting toolz (from logical-unification->pytensor<2.26,>=2.25.1->pymc)\r\n",
      "  Obtaining dependency information for toolz from https://files.pythonhosted.org/packages/b7/8a/d82202c9f89eab30f9fc05380daae87d617e2ad11571ab23d7c13a29bb54/toolz-0.12.1-py3-none-any.whl.metadata\r\n",
      "  Downloading toolz-0.12.1-py3-none-any.whl.metadata (5.1 kB)\r\n",
      "Collecting multipledispatch (from logical-unification->pytensor<2.26,>=2.25.1->pymc)\r\n",
      "  Obtaining dependency information for multipledispatch from https://files.pythonhosted.org/packages/51/c0/00c9809d8b9346eb238a6bbd5f83e846a4ce4503da94a4c08cb7284c325b/multipledispatch-1.0.0-py3-none-any.whl.metadata\r\n",
      "  Downloading multipledispatch-1.0.0-py3-none-any.whl.metadata (3.8 kB)\r\n",
      "Downloading pymc-5.16.2-py3-none-any.whl (489 kB)\r\n",
      "\u001B[2K   \u001B[90m━━━━━━━━━━━━━━━━━━━━━━━━━━━━━━━━━━━━━━━━\u001B[0m \u001B[32m489.9/489.9 kB\u001B[0m \u001B[31m7.8 MB/s\u001B[0m eta \u001B[36m0:00:00\u001B[0ma \u001B[36m0:00:01\u001B[0m\r\n",
      "\u001B[?25hDownloading cachetools-5.5.0-py3-none-any.whl (9.5 kB)\r\n",
      "Downloading pytensor-2.25.4-py2.py3-none-any.whl (1.2 MB)\r\n",
      "\u001B[2K   \u001B[90m━━━━━━━━━━━━━━━━━━━━━━━━━━━━━━━━━━━━━━━━\u001B[0m \u001B[32m1.2/1.2 MB\u001B[0m \u001B[31m23.3 MB/s\u001B[0m eta \u001B[36m0:00:00\u001B[0ma \u001B[36m0:00:01\u001B[0m\r\n",
      "\u001B[?25hDownloading rich-13.8.0-py3-none-any.whl (241 kB)\r\n",
      "\u001B[2K   \u001B[90m━━━━━━━━━━━━━━━━━━━━━━━━━━━━━━━━━━━━━━━━\u001B[0m \u001B[32m241.6/241.6 kB\u001B[0m \u001B[31m16.7 MB/s\u001B[0m eta \u001B[36m0:00:00\u001B[0m\r\n",
      "\u001B[?25hDownloading threadpoolctl-3.5.0-py3-none-any.whl (18 kB)\r\n",
      "Downloading cloudpickle-3.0.0-py3-none-any.whl (20 kB)\r\n",
      "Downloading filelock-3.15.4-py3-none-any.whl (16 kB)\r\n",
      "Downloading markdown_it_py-3.0.0-py3-none-any.whl (87 kB)\r\n",
      "\u001B[2K   \u001B[90m━━━━━━━━━━━━━━━━━━━━━━━━━━━━━━━━━━━━━━━━\u001B[0m \u001B[32m87.5/87.5 kB\u001B[0m \u001B[31m11.9 MB/s\u001B[0m eta \u001B[36m0:00:00\u001B[0m\r\n",
      "\u001B[?25hDownloading mdurl-0.1.2-py3-none-any.whl (10.0 kB)\r\n",
      "Downloading multipledispatch-1.0.0-py3-none-any.whl (12 kB)\r\n",
      "Downloading toolz-0.12.1-py3-none-any.whl (56 kB)\r\n",
      "\u001B[2K   \u001B[90m━━━━━━━━━━━━━━━━━━━━━━━━━━━━━━━━━━━━━━━━\u001B[0m \u001B[32m56.1/56.1 kB\u001B[0m \u001B[31m7.6 MB/s\u001B[0m eta \u001B[36m0:00:00\u001B[0m\r\n",
      "\u001B[?25hBuilding wheels for collected packages: cons, logical-unification, etuples, miniKanren\r\n",
      "  Building wheel for cons (setup.py) ... \u001B[?25ldone\r\n",
      "\u001B[?25h  Created wheel for cons: filename=cons-0.4.6-py3-none-any.whl size=9098 sha256=94b51aa267c520c838ca47fdf7230a362cb55b6f44eabf007031285814d51536\r\n",
      "  Stored in directory: /Users/malcolmroalson/Library/Caches/pip/wheels/a4/11/f5/8265470e17d280d8b5910e1b0f298521420a5086d696e96799\r\n",
      "  Building wheel for logical-unification (setup.py) ... \u001B[?25ldone\r\n",
      "\u001B[?25h  Created wheel for logical-unification: filename=logical_unification-0.4.6-py3-none-any.whl size=13910 sha256=5d61d12716b3029c74c19c9e0b8e0453f03f1ae71f9ef62f9f5cfdc4228f201d\r\n",
      "  Stored in directory: /Users/malcolmroalson/Library/Caches/pip/wheels/ba/95/1f/29d557452d7f5102769deb2bdc49055be4505fb16c1b135a74\r\n",
      "  Building wheel for etuples (setup.py) ... \u001B[?25ldone\r\n",
      "\u001B[?25h  Created wheel for etuples: filename=etuples-0.3.9-py3-none-any.whl size=12617 sha256=fd21defea6b2d3d4d18e48be2ded98aabf39a9a45db4192dffafde7c0bd505d9\r\n",
      "  Stored in directory: /Users/malcolmroalson/Library/Caches/pip/wheels/83/33/17/6acd5a85eb19ce3f6813a62546b63fd557757028e06e1a5203\r\n",
      "  Building wheel for miniKanren (setup.py) ... \u001B[?25ldone\r\n",
      "\u001B[?25h  Created wheel for miniKanren: filename=miniKanren-1.0.3-py3-none-any.whl size=23908 sha256=930e4ce590da0ab03cac8b979414be291863ec26071f1e30603c561c7d452973\r\n",
      "  Stored in directory: /Users/malcolmroalson/Library/Caches/pip/wheels/e8/52/92/b6a96d5c9a92ded36a3f2c42d7bf124c2ca52efbbbbe6479d6\r\n",
      "Successfully built cons logical-unification etuples miniKanren\r\n",
      "Installing collected packages: multipledispatch, toolz, threadpoolctl, mdurl, filelock, cloudpickle, cachetools, markdown-it-py, logical-unification, rich, cons, etuples, miniKanren, pytensor, pymc\r\n",
      "Successfully installed cachetools-5.5.0 cloudpickle-3.0.0 cons-0.4.6 etuples-0.3.9 filelock-3.15.4 logical-unification-0.4.6 markdown-it-py-3.0.0 mdurl-0.1.2 miniKanren-1.0.3 multipledispatch-1.0.0 pymc-5.16.2 pytensor-2.25.4 rich-13.8.0 threadpoolctl-3.5.0 toolz-0.12.1\r\n",
      "\r\n",
      "\u001B[1m[\u001B[0m\u001B[34;49mnotice\u001B[0m\u001B[1;39;49m]\u001B[0m\u001B[39;49m A new release of pip is available: \u001B[0m\u001B[31;49m23.2.1\u001B[0m\u001B[39;49m -> \u001B[0m\u001B[32;49m24.2\u001B[0m\r\n",
      "\u001B[1m[\u001B[0m\u001B[34;49mnotice\u001B[0m\u001B[1;39;49m]\u001B[0m\u001B[39;49m To update, run: \u001B[0m\u001B[32;49mpip install --upgrade pip\u001B[0m\r\n"
     ]
    }
   ],
   "execution_count": 4
  },
  {
   "cell_type": "code",
   "source": [
    "#We'll also need to re-import this library after we reinstall it\n",
    "\n",
    "import preliz as pz"
   ],
   "metadata": {
    "id": "SnxvjBKAdP2u",
    "ExecuteTime": {
     "end_time": "2024-08-28T15:02:03.756469Z",
     "start_time": "2024-08-28T15:01:19.858966Z"
    }
   },
   "outputs": [
    {
     "name": "stderr",
     "output_type": "stream",
     "text": [
      "Matplotlib is building the font cache; this may take a moment.\n"
     ]
    }
   ],
   "execution_count": 2
  },
  {
   "cell_type": "code",
   "source": [
    "#These libraries don't need to be reinstalled each time, but they will need to be\n",
    "#re-imported each time\n",
    "\n",
    "import numpy as np\n",
    "import arviz as az\n",
    "import pymc as pm"
   ],
   "metadata": {
    "id": "u0x66ER4Jv3v",
    "ExecuteTime": {
     "end_time": "2024-08-28T15:02:55.295032Z",
     "start_time": "2024-08-28T15:02:47.638295Z"
    }
   },
   "outputs": [
    {
     "name": "stderr",
     "output_type": "stream",
     "text": [
      "WARNING (pytensor.tensor.blas): Using NumPy C-API based implementation for BLAS functions.\n"
     ]
    }
   ],
   "execution_count": 5
  },
  {
   "cell_type": "markdown",
   "source": [
    "#**Unit 2: Probability with a Pinch of Python**\n",
    "\n",
    "We will spend this entire unit trying to answer a single question: What will Victor Wembanyama's true Free Throw percentage (FT%) be in the NBA?\n",
    "\n",
    "This will acomplish three things:\n",
    "\n",
    "1. Give you a foundation upon which to grow your inuition about probability and predictive models.\n",
    "2. Show you that any question about the real world can be made arbitrarily complicated.\n",
    "3. Help emphasize that there are always many ways to answer a question.\n",
    "\n",
    "Here's a word salad of things you'll learn in this unit: mean, mode, median, the three axioms of probability, Bayes' Rule, prior, likelihood, posterior,  probability denisty function, uniform distribution, beta distribution, and binomial distribution.\n",
    "\n",
    "We will also introduce the most basic version of a pymc model, a code skeleton from from which we will summon many predictive monsters in the coming units.\n",
    "\n",
    "Let's dive in."
   ],
   "metadata": {
    "id": "1vRRvsSnMenD"
   }
  },
  {
   "cell_type": "markdown",
   "source": [
    "###**Free Throws**\n",
    "\n",
    "Victor Wembanyama is a profesional basketball player for the San Antonio Spurs NBA team. In the summer of 2023, Wembanyama had yet to play a game in the NBA, although he had played in other professional leagues in France.\n",
    "\n",
    "There was a lot of hype around how good a player Wembanyama would be in the NBA, and many questions, one of which was: How good would Victor Wembanyama be at shooting the basketball?\n",
    "\n",
    "One metric to use is Free Throw Percentage (FT%). In basketball, players are awared an unobscured attempt to toss a basketball into a hoop (the main goal of the game) under certain condtions. All free throws are shot from the same spot, and players either make of miss the shot. Made free throws award the player's team 1 point, and missed free throws award 0 points."
   ],
   "metadata": {
    "id": "5CKhGrlr0u-N"
   }
  },
  {
   "cell_type": "markdown",
   "source": [
    "###**Assumptions: Modeling Free Throws Prior Information**\n",
    "Let's try to figure out what Victor Wembanyama's free throw percentage will be in the NBA."
   ],
   "metadata": {
    "id": "WtqZdU6IBn_j"
   }
  },
  {
   "cell_type": "markdown",
   "source": [
    "First, let's acknowledge that we **must** make an assumptions in order to make a guess. We'd *have* to make an assumption, even if only to assume that every possible free throw percentage is equally likely.\n",
    "\n",
    "**Task1**: So, what is Wembanyama's most likely free throw percentage, if all possible free throw percentages are equally likely and we otherwise know nothing about Wembanyama or free throws?"
   ],
   "metadata": {
    "id": "VogX7DqwCzaU"
   }
  },
  {
   "cell_type": "markdown",
   "source": [
    "**Answer1**:\n",
    "\n",
    "There is none, yet."
   ],
   "metadata": {
    "id": "4ZbdDfk9Etvf"
   }
  },
  {
   "cell_type": "markdown",
   "source": [
    "Below is a graph showing every possible free throw percentage on the x-axis. The y-axis goes from $0$ to $1$, and the blue line happens to be at $y=1$. The blue line is horizontal to represent that each x value, or proportion, is equally likely.\n",
    "\n",
    "Don't worry about understanding this graph or the code that generated it right now. It's here for when you reference these notes later."
   ],
   "metadata": {
    "id": "KM37P8ZNGnsl"
   }
  },
  {
   "cell_type": "code",
   "source": [
    "pz.Uniform(0,1).plot_pdf() # plots the uniform distribution"
   ],
   "metadata": {
    "id": "gaCvjBeVGJEB",
    "ExecuteTime": {
     "end_time": "2024-08-28T15:06:52.060640Z",
     "start_time": "2024-08-28T15:06:51.180557Z"
    }
   },
   "outputs": [
    {
     "data": {
      "text/plain": [
       "<Axes: >"
      ]
     },
     "execution_count": 6,
     "metadata": {},
     "output_type": "execute_result"
    },
    {
     "data": {
      "text/plain": [
       "<Figure size 640x480 with 1 Axes>"
      ],
      "image/png": "[encoded data removed]"
     },
     "metadata": {},
     "output_type": "display_data"
    }
   ],
   "execution_count": 6
  },
  {
   "cell_type": "markdown",
   "source": [
    "In order to predict free throw percentage, we had to make an asumption.\n",
    "\n",
    "It turns out that assumptions are required for more than predicting free throw percentage--**assumptions are required to predict/guess anything uncertain**.\n",
    "All of reality, and everything in it, is at least functionally uncertain (...probably...). Therefore, we need to make assumptions in order to make any logical statements about the state of the world we live in."
   ],
   "metadata": {
    "id": "GOmHOq4j9dNY"
   }
  },
  {
   "cell_type": "markdown",
   "source": [
    "Instead of worrying about the world and all reality, let's go back to predicting free throw percentage.\n",
    "\n",
    "Since we had to make an assumption to get an answer, let's see if we can do better than \"all possible answers are equally likely.\" What do we know about Wembanyma's free throw shooting?\n"
   ],
   "metadata": {
    "id": "oFHP-FVw_Opg"
   }
  },
  {
   "cell_type": "markdown",
   "source": [
    "Wembanyama played professionally in the Euroleague, and he made 24 out 32 free throws or $\\frac{24}{32}=0.75$ free throws. You may be tempted to say the expected proportion of made free throws is $0.75$--and it is--but only reporting that is throwing away information.\n",
    "For example, $\\frac{24}{32}=\\frac{3}{4}$, but Wembanyama didn't shoot just 4 free throws, he shot 32. We need a way to show that seeing the outcome of more free throws increases how confident we are in our estimate."
   ],
   "metadata": {
    "id": "5DpXCGoHguau"
   }
  },
  {
   "cell_type": "markdown",
   "source": [
    "**Task2**:\n",
    "\n",
    "In order to do that, we're gonna need to do some math. Not calculations (those are for your computer), rather, we'll redefine a free throw into its relevant, logical parts.\n",
    "\n",
    "What about a free throw are we recording? In other words, what about a free throw do we care about?"
   ],
   "metadata": {
    "id": "cP7riXtpcVa_"
   }
  },
  {
   "cell_type": "markdown",
   "source": [
    "**Answer2**:\n",
    "\n",
    "Which one it is, and whether he made it."
   ],
   "metadata": {
    "id": "ArMROyo1p8Fe"
   }
  },
  {
   "cell_type": "markdown",
   "source": [
    "Before we go further, we know to define 'uncertainty' the way we defined free throws: by breaking uncertainty into its relevant, logical parts.\n",
    "\n",
    "Also, instead of the word 'uncertainty', we'll use the word 'probability'."
   ],
   "metadata": {
    "id": "dnTn1MtIJa1R"
   }
  },
  {
   "cell_type": "markdown",
   "source": [
    "**Task3**:\n",
    "\n",
    "Take a moment to think about what \"probablity\" means.\n",
    "\n",
    "Ask at least one other person what they think it means.\n",
    "\n",
    "Write your definition, and at least one other person's definition. Pick which one you like best, or make a new definition that combines the two."
   ],
   "metadata": {
    "id": "TWF78TPBj66z"
   }
  },
  {
   "cell_type": "markdown",
   "source": [
    "**Answer**:\n",
    "\n",
    "The chance of something to happen."
   ],
   "metadata": {
    "id": "KWhyVFankQcO"
   }
  },
  {
   "cell_type": "markdown",
   "source": [
    "Now that we know what a probablity is, we can use those 24 out of 32 free throws we've \"seen\" Victor Wembanyama shoot.\n",
    "\n",
    "Each of those 32 free throw attempts had some probability of going through the hoop and generating a point. We'll call that probability $\\theta$ (pronouced \"theta\") since we don't know what it is, and because greek letters make me feel like I'm a real mathematician.\n",
    "\n",
    "Since Wembanyama made 24 made free throws, we have 24 $θ$s, and we'll call each of the 8( = 32 - 24) misses $1-θ$.\n",
    "\n",
    "As a reminder, those 32 free throw attempts are helping us form an assumption about the probability of Wembanyama's free throw percentage being any particular number. Before, we said it was euqally likely to be any possible free throw percentage.\n",
    "\n",
    "One more notational thing: let $p()$ read \"the probability of ___\". Thus, $p(\\theta)$ reads \"the probability of the true probability of Victor Wembanyama making a free throw\".\n",
    "\n",
    "Returing to the \"equally likely\" assumption, we basically said $p(θ) ∼ Uniform(0,1)$ or $p(θ) \\sim U(0,1)$. This reads \"the true probability of Victor Wembanyama making a free throw is uniformly distributed within the interval 0 to 1\".\n"
   ],
   "metadata": {
    "id": "k-1iSEhvkSeH"
   }
  },
  {
   "cell_type": "markdown",
   "source": [
    "**Task4**:\n",
    "\n",
    "Guess how we could write the distribution of the true probability of Wembanyama making a free throw, but now with the prior knowledge that he made 24 out of 32 free throws in Euroleage play."
   ],
   "metadata": {
    "id": "c8dYN2YYsaBT"
   }
  },
  {
   "cell_type": "markdown",
   "source": [
    "**Answer4**:\n",
    "\n",
    "It's more likely to be around 75%.\n",
    "\n"
   ],
   "metadata": {
    "id": "VLEMkVy70Wg2"
   }
  },
  {
   "cell_type": "code",
   "source": [
    "#plotting the beta distribution with shape parameter 24 and scale parameter 8\n",
    "pz.Beta(alpha=24,beta=8).plot_pdf()"
   ],
   "metadata": {
    "id": "nUP2gYoqSC6M",
    "ExecuteTime": {
     "end_time": "2024-08-28T15:18:03.088978Z",
     "start_time": "2024-08-28T15:18:03.002627Z"
    }
   },
   "outputs": [
    {
     "data": {
      "text/plain": [
       "<Axes: >"
      ]
     },
     "execution_count": 8,
     "metadata": {},
     "output_type": "execute_result"
    },
    {
     "data": {
      "text/plain": [
       "<Figure size 640x480 with 1 Axes>"
      ],
      "image/png": "[encoded data removed]"
     },
     "metadata": {},
     "output_type": "display_data"
    }
   ],
   "execution_count": 8
  },
  {
   "cell_type": "markdown",
   "source": [
    "**Task5**:\n",
    "\n",
    "Which prior distribution is better, the $Beta(α=24, β=8)$ distribution, or the $U(0,1)$ distribution.\n",
    "\n",
    "Why?"
   ],
   "metadata": {
    "id": "zo8ORkse74Zq"
   }
  },
  {
   "cell_type": "markdown",
   "source": [
    "**Answer5**:\n",
    "\n",
    "The Beta distribution is better because it gives the previously known value the highest chance of being the true value."
   ],
   "metadata": {
    "id": "nNNmtP_x83uW"
   }
  },
  {
   "cell_type": "markdown",
   "source": [
    "###**Predictions with only prior knowledge**\n",
    "\n",
    "Recall that we wanted to predict Victor Wembanyama's free throw percentage. While there are technically infinte guesses we could make--any percentage under the blue curve above is valid--we now have a precise way of saying what the expected/average free throw percentage is, and the the most likely/probable free throw percentage. Also try to find the \"middle\" percentage, AKA the median.\n",
    "\n"
   ],
   "metadata": {
    "id": "O4eB8zDPh7rK"
   }
  },
  {
   "cell_type": "markdown",
   "source": [
    "**Task6**:\n",
    "\n",
    "Find Wembanyama's expected FT%, middle FT%, and most likely FT% based only on the free throws he shoot in Euroleage"
   ],
   "metadata": {
    "id": "E2bTiKE_OFMd"
   }
  },
  {
   "cell_type": "code",
   "source": [
    "#ANSWER6\n",
    "\n",
    "pz.Beta(alpha=24,beta=8).mean(), pz.Beta(alpha=24,beta=8).median()"
   ],
   "metadata": {
    "id": "P8UqVnmTZHoE",
    "ExecuteTime": {
     "end_time": "2024-08-28T15:22:23.178409Z",
     "start_time": "2024-08-28T15:22:23.173939Z"
    }
   },
   "outputs": [
    {
     "data": {
      "text/plain": [
       "(0.75, 0.7552582743060792)"
      ]
     },
     "execution_count": 10,
     "metadata": {},
     "output_type": "execute_result"
    }
   ],
   "execution_count": 10
  },
  {
   "cell_type": "markdown",
   "source": [
    "**Answer6**:\n",
    "\n",
    "Mean FT%: 75%\n",
    "\n",
    "Median FT%: 75.53%\n",
    "\n",
    "Mode FT%: ~76%?"
   ],
   "metadata": {
    "id": "4YL0Wq1Rf5PR"
   }
  },
  {
   "cell_type": "markdown",
   "source": [
    "###**Acknowledging our Observations: Modeling Free Throws from the NBA**\n",
    "\n",
    "In this section, we will learn a rule for how to change our predictions as we gain more information, or data.\n",
    "\n",
    "For now, that new information will be \"seeing\" Victor Wembanyama shoot free throws in an NBA game."
   ],
   "metadata": {
    "id": "iYtAujjufTWQ"
   }
  },
  {
   "cell_type": "markdown",
   "source": [
    "Right now, we have a prior, $p(θ) = Beta(α=24, β=8)=\\frac{Γ(α+β)}{Γ(α)Γ(β)}θ^{α-1}(1-θ)^{β-1}=\\frac{31!}{23!7!}θ^{23}(1-θ)^{7}$\n",
    "\n",
    "This represents that we don't know Wembanyama's true free throw percentage, but we do know he made 24 out of 32 free throws in Euroleague basketball. Specifically, $θ$ represents his true chance of making a free throw.\n",
    "\n"
   ],
   "metadata": {
    "id": "x9NXhsdmydFA"
   }
  },
  {
   "cell_type": "markdown",
   "source": [
    "Put that aside for now. Consider this information, or these data: we observe Wembanyama make 7 out 9 free throws in his first 2 NBA games. Let's consider the chance, or likelihood, of this happening.\n",
    "\n",
    "Made free throws are represented by $θ$, and misses by $1-θ$. Because free throws are independent, we can again represent a bunch of makes and misses through multiplication."
   ],
   "metadata": {
    "id": "KktmhWuR24ge"
   }
  },
  {
   "cell_type": "markdown",
   "source": [
    "**Task7**:\n",
    "\n",
    "Write down an expression for the likelihood of seeing these data (7 made free throws out of 9) given we knowthe true free throw rate $θ$."
   ],
   "metadata": {
    "id": "OnIxRnfAPKaS"
   }
  },
  {
   "cell_type": "markdown",
   "source": [
    "**Answer7**:\n",
    "\n",
    "[*write your answer here*]"
   ],
   "metadata": {
    "id": "cncMHZEUybgR"
   }
  },
  {
   "cell_type": "markdown",
   "source": [
    "We've seen preliz's function for our prior in this scenario, $Beta(α,β)$. Preliz also has a nice function for the binomial distribution, shown below:"
   ],
   "metadata": {
    "id": "oiFNJqm9zOb0"
   }
  },
  {
   "cell_type": "code",
   "source": [
    "pz.Binomial(n = 9, p = 7/9 ).plot_pdf()"
   ],
   "metadata": {
    "id": "BemOLoPVzw6H",
    "colab": {
     "base_uri": "https://localhost:8080/",
     "height": 447
    },
    "outputId": "5ea9fdca-e02a-4e30-9555-2a7f7070a546",
    "ExecuteTime": {
     "end_time": "2024-08-28T15:41:36.758217Z",
     "start_time": "2024-08-28T15:41:36.103674Z"
    }
   },
   "outputs": [
    {
     "data": {
      "text/plain": [
       "<Axes: >"
      ]
     },
     "execution_count": 11,
     "metadata": {},
     "output_type": "execute_result"
    },
    {
     "data": {
      "text/plain": [
       "<Figure size 640x480 with 1 Axes>"
      ],
      "image/png": "[encoded data removed]"
     },
     "metadata": {},
     "output_type": "display_data"
    }
   ],
   "execution_count": 11
  },
  {
   "cell_type": "markdown",
   "source": [
    "###**Updating our Predictions/Beliefs**"
   ],
   "metadata": {
    "id": "DekloZWUwuwY"
   }
  },
  {
   "cell_type": "markdown",
   "source": [
    "Let's review what we've learned.:\n",
    "\n",
    "- We have a formula for our **prior** knowledge about Wembanayma's free throw shooting from his play in Euroleague, $p(θ) = Beta(α=24, β=8)=\\frac{31!}{23!7!}θ^{23}(1-θ)^{7}$. (This prior is our way to guess before we've seen any anything about the NBA.)\n",
    "- We have a formula for the **likelihood** that Wembanyama made 7 out of 9 free throws in his first two NBA games, $p(y|θ)=Binomial(n=9,k=7,θ)=\\frac{9!}{(9-7)!7!}θ^{7}(1-θ)^{2}$\n",
    "\n",
    "and also what we want:\n",
    "\n",
    "- A prediction of Wembanyama's true free throw percentage in the NBA, $θ$, given that we've seen him make 7 out of 9 free throws in the NBA,  $p(θ|y)$. This prediction is **post**, or after, seeing data and making assumptions.\n",
    "\n"
   ],
   "metadata": {
    "id": "RHlnf8T15wq5"
   }
  },
  {
   "cell_type": "markdown",
   "source": [
    "Thus far, when we have two probablities that happen in conjunction, we have multiplied them. That trend will continue here.\n",
    "\n",
    "**Task8**:\n",
    "\n",
    "Write a formula for knowing both the likelihood and the prior in this free throw example.\n"
   ],
   "metadata": {
    "id": "L0l1eISl4ZGy"
   }
  },
  {
   "cell_type": "markdown",
   "source": [
    "**Answer8**:\n",
    "\n",
    "[*write your answer here*]"
   ],
   "metadata": {
    "id": "IifjGkMiJzvy"
   }
  },
  {
   "cell_type": "markdown",
   "source": [
    "We now have our answer--or at least, a formula for getting one.\n",
    "\n",
    "The probability of Victor Wembanayma's true free throw percentage in the NBA given the free throws we've seen him shoot thus far is:\n",
    "\n",
    "$p(θ|y) ∝ p(y|θ)p(θ) = Beta(α_{new}=α+k,β_{new}=n-k+β)$\n",
    "\n",
    "The $∝$ reads \"proportional to\". Its a statement we use instead of an equal sign that allows us to drop the scracy fractions. Those \"scary fractions\" will get subsumed into a [normalizing constant](https://en.wikipedia.org/wiki/Normalizing_constant#:~:text=In%20probability%20theory%2C%20a%20normalizing%20constant%20is%20a%20constant%20by,or%20a%20probability%20mass%20function.). More on that later, but for now, all you need to know is this:\n",
    "\n",
    "The models we create need to know about $θ$--the thing we want to predict--and how $θ$ intereacts with the world. Our computer is capable of handling the rest."
   ],
   "metadata": {
    "id": "pIHLIqOT5OFn"
   }
  },
  {
   "cell_type": "markdown",
   "source": [
    "**Task9**:\n",
    "\n",
    "Now that we have a formula, let's use our computer to answer our question: \"What do we expect Victor Wembanyama's true free throw percentage to be?\"\n",
    "\n",
    "*Hint*: Is there code on elsewhere on this notebook for the Beta distribution?"
   ],
   "metadata": {
    "id": "WM_uGSSfDHYn"
   }
  },
  {
   "cell_type": "code",
   "source": [
    "#ANSWER9\n",
    "\n",
    "#[*write your answer here*]"
   ],
   "metadata": {
    "id": "PtK-eJfNEUbu"
   },
   "execution_count": null,
   "outputs": []
  },
  {
   "cell_type": "markdown",
   "source": [
    "While that constitutes our best guess, the 'real' answer is the whole distribution, shown below"
   ],
   "metadata": {
    "id": "-emd9jJKHJK_"
   }
  },
  {
   "cell_type": "code",
   "source": [
    "#this will only run based on code from the answer key, and is mainly here to\n",
    "#give you a hint at how to answer the pervious task\n",
    "analytic_FT.plot_pdf()"
   ],
   "metadata": {
    "id": "e5KLjk3KHWS1",
    "colab": {
     "base_uri": "https://localhost:8080/",
     "height": 447
    },
    "outputId": "04fe29ff-0921-411f-ebae-c7b15fae587c"
   },
   "execution_count": null,
   "outputs": [
    {
     "output_type": "execute_result",
     "data": {
      "text/plain": [
       "<Axes: >"
      ]
     },
     "metadata": {},
     "execution_count": 7
    },
    {
     "output_type": "display_data",
     "data": {
      "text/plain": [
       "<Figure size 640x480 with 1 Axes>"
      ],
      "image/png": "[encoded data removed]"
     },
     "metadata": {}
    }
   ]
  },
  {
   "cell_type": "markdown",
   "source": [
    "Let's linger on my last statement:\n",
    "\n",
    "\"the 'real' answer is the whole distribution\"\n",
    "\n",
    "**Task10**:\n",
    "Why is the whole distribution better than a single point estimate, a single guess?"
   ],
   "metadata": {
    "id": "P9dmv0GVmdCU"
   }
  },
  {
   "cell_type": "markdown",
   "source": [
    "**Answer10**:\n",
    "\n",
    "[*write your answer here*]"
   ],
   "metadata": {
    "id": "ekpQzswf3IpN"
   }
  },
  {
   "cell_type": "markdown",
   "source": [
    "Now that we have some inuition and skills on how to guess Wembanyama's FT%, a natural extension is to wonder if we can predict the results of his actual free throws."
   ],
   "metadata": {
    "id": "Z4My6KxN78oM"
   }
  },
  {
   "cell_type": "markdown",
   "source": [
    "###**Probabalistic Programming: Predicting Free Throws**\n",
    "\n",
    "This is where things get interesting.\n",
    "\n",
    "There is an analytic (formulaic and exact) solution to predicitng Wembanyams's future free throws, but we won't use it here for two reasons.\n",
    "- It involves calculating this integral: $ \\int_{}^{} p(\\tilde{y}|θ)p(θ|y) \\,dθ  $, where $\\tilde{y}$ is predicted data, or, in this case, predicted free throws.\n",
    "- The approximate, or sampling, method we'll use instead will work even in situations where that integral is intractable.\n",
    "\n",
    "\n",
    " To avoid ever having to calculate that integral, we will need to make use of a powerful technique known as Markov Chain Monte Carlo (MCMC). Eventually we will cover a version of MCMC in more depth, but even then, we will not cover precisely what's happening underneath the hood with pymc.\n",
    "\n",
    " pymc is the library of functions we'll use to build our model, and it will underpin every model we'll build going forward. Imagine its like a car. Cars have all sorts of features now a days, from power steering and automatic transmission, to blind spot warnings and lane assist. They can't quite drive themselves yet, but even if they could, there's nothing stopping us from manually driving one off a cliff, warning lights be damned.\n",
    "\n",
    " We will learn how to avoid using our model to drive ourselves off a cliff, and we will also learn how to make use of its fancy bells and whistles. Hopefully, this will be just as empowering as getting behind the wheel. Like a car has a complicated engine powering its capabilites, a pymc model has a complicated MCMC engine powering its capablities, and you don't really need to know how either work to take it for a drive.\n",
    "\n",
    "**But remember**: Things will break.\n",
    "This course will teach you how to drive, not how to be a mechanic. Often there are warning lights to help with this, but sometimes not--and there's no warning light in the world that can protect you from yourself."
   ],
   "metadata": {
    "id": "qKnHdVkAc9pV"
   }
  },
  {
   "cell_type": "markdown",
   "source": [
    "Let's return to coding.\n",
    "\n",
    "Before we make any predictions about future FTs, we need to redo our entire anaylsis with a library called pymc."
   ],
   "metadata": {
    "id": "FbPQYM29-m5n"
   }
  },
  {
   "cell_type": "code",
   "source": [
    "#loading pymc, the fancy library of functions that allows us to only focus on θ\n",
    "#we already did this at the beginning of the notebook, but I put it here again\n",
    "#to emphasize that this is the first time we're using it\n",
    "import pymc as pm"
   ],
   "metadata": {
    "id": "xJqOeBZiRiw_"
   },
   "execution_count": null,
   "outputs": []
  },
  {
   "cell_type": "code",
   "source": [
    "#the makes we've seen from the NBA\n",
    "FT_makes = np.repeat(1, 7)\n",
    "\n",
    "#the misses we've seen from the NBA\n",
    "FT_misses = np.repeat(0, 2)\n",
    "\n",
    "#combine makes and misses into one array\n",
    "FT_data = np.concatenate( [FT_makes,FT_misses] )\n",
    "\n",
    "#the last three lines can be combined into one line\n",
    "#FT_data = np.repeat([1,0], repeats = [7,2])\n",
    "#Which method of making FT_data is easier to understand?"
   ],
   "metadata": {
    "id": "zGQQbmnERlOq"
   },
   "execution_count": null,
   "outputs": []
  },
  {
   "cell_type": "code",
   "source": [
    "#Nearly every single model we will build in this class will have\n",
    "#the below outline as its foundation. Get hyped.\n",
    "\n",
    "with pm.Model() as wmby_FT_model:\n",
    "  #we define our prior with the makes and misses from Euroleague\n",
    "  #notice how we make alpha and beta floats by using '.'\n",
    "  θ = pm.Beta('θ' , alpha = 24. , beta = 8.)\n",
    "\n",
    "  #we define our likelihood, which is how we process the free throws\n",
    "  #we've seen Wemby make in the NBA\n",
    "  #Think of Bernoulli as a stand in for the binomial distribution\n",
    "  #This allow us to predict one free throw at a time later, among other things\n",
    "  y = pm.Bernoulli('y', p = θ, observed = FT_data)\n",
    "\n",
    "  #this part is new. We sample from our posterior because we don't actually\n",
    "  #have a formula for it.\n",
    "  idata_FT = pm.sample(1000)\n"
   ],
   "metadata": {
    "id": "ugzE_T6NdJWw"
   },
   "execution_count": null,
   "outputs": []
  },
  {
   "cell_type": "markdown",
   "source": [
    "The last line of code in the previous code block draws 1000 $θ$s for us to play with. What does that mean? Let's start with a picture:\n",
    "\n",
    "\n"
   ],
   "metadata": {
    "id": "nrVoeHRSAz23"
   }
  },
  {
   "cell_type": "code",
   "source": [
    "#arviz is a companion data visualization library for pymc. Again, we already\n",
    "#imported this library, but its repeated here for emphasis.\n",
    "import arviz as az"
   ],
   "metadata": {
    "id": "s6mjzyhYHlN0"
   },
   "execution_count": null,
   "outputs": []
  },
  {
   "cell_type": "code",
   "source": [
    "#vizualize the 1000 samples from the pymc model of the posterior\n",
    "az.plot_posterior(idata_FT)"
   ],
   "metadata": {
    "id": "2Itci9u-H2aX"
   },
   "execution_count": null,
   "outputs": []
  },
  {
   "cell_type": "markdown",
   "source": [
    "Let's compare this to the analytic solution."
   ],
   "metadata": {
    "id": "PQPkA3VVTLrX"
   }
  },
  {
   "cell_type": "code",
   "source": [
    "#probability density function (pdf) of the analytic solution\n",
    "analytic_FT.plot_pdf()"
   ],
   "metadata": {
    "id": "bLwyyW4LbW5q"
   },
   "execution_count": null,
   "outputs": []
  },
  {
   "cell_type": "markdown",
   "source": [
    "**Task11**:\n",
    "\n",
    "List similarities and differences between the pymc model's samples, and the analytic model's pdf. Discuss these with at least one other person"
   ],
   "metadata": {
    "id": "SV4M4hTl-ql2"
   }
  },
  {
   "cell_type": "markdown",
   "source": [
    "**Answer11**:\n",
    "\n",
    "[*write your answer here*]\n"
   ],
   "metadata": {
    "id": "doKqcBLya7CV"
   }
  },
  {
   "cell_type": "markdown",
   "source": [
    "To see why this is the case, let's draw 1000 sample FT%s from the analytic model, just like we did from the pymc model."
   ],
   "metadata": {
    "id": "2r8ScQS6_t3t"
   }
  },
  {
   "cell_type": "code",
   "source": [
    "#vizualize 1000 samples from the analytic model.\n",
    "#Recall that analytic_FT = pz.Beta(alpha = alpha_old + 7,beta = beta_old + n - k )\n",
    "#This is beta dist. with the total number of makes and total misses as parameters\n",
    "az.plot_posterior( {'θ' : analytic_FT.rvs(1000)} )"
   ],
   "metadata": {
    "id": "lqZEHsqHTQWA"
   },
   "execution_count": null,
   "outputs": []
  },
  {
   "cell_type": "markdown",
   "source": [
    "**Task12**:\n",
    "\n",
    "List similarities and differences between the pymc model's samples, and the analytic model's samples. Discuss these with at least one other person"
   ],
   "metadata": {
    "id": "e3cKD9AA_H5h"
   }
  },
  {
   "cell_type": "markdown",
   "source": [
    "**Answer12**:\n",
    "\n",
    "[*write your answer here*]"
   ],
   "metadata": {
    "id": "6n8l25N6d7Sf"
   }
  },
  {
   "cell_type": "markdown",
   "source": [
    "Now that we have some idea what our fancy pymc model gives us, let's use our it to make predictions."
   ],
   "metadata": {
    "id": "nq2Ut86e_31a"
   }
  },
  {
   "cell_type": "code",
   "source": [
    "#The below function needs to know two things in order to make predictions:\n",
    "#-the samples from the posterior; these are stored in idata_FT\n",
    "#-the model that generated those samples, which we called wmby_FT_model\n",
    "# The last input tells the function to store those predictions in idata_FT\n",
    "\n",
    "pm.sample_posterior_predictive(idata_FT, model=wmby_FT_model, extend_inferencedata=True)"
   ],
   "metadata": {
    "id": "V6_TANgwAhDJ"
   },
   "execution_count": null,
   "outputs": []
  },
  {
   "cell_type": "markdown",
   "source": [
    "**Task13**:\n",
    "\n",
    "Does our model predict that Wembanyama will make his next free throw?\n",
    "\n",
    "Use the output above.\n",
    "\n",
    "Hints: We need the posterior predictive distribution. Also, what symbol/name did we give our data, our likelihood when we created wmby_FT_model?"
   ],
   "metadata": {
    "id": "4Ow112GfT0rP"
   }
  },
  {
   "cell_type": "code",
   "source": [
    "#ANSWER13\n",
    "\n",
    "[*write your answer here*]"
   ],
   "metadata": {
    "id": "jGkZzIrHGD06"
   },
   "execution_count": null,
   "outputs": []
  },
  {
   "cell_type": "markdown",
   "source": [
    "**Answer13**:\n",
    "\n",
    "[*or write your answer here*]"
   ],
   "metadata": {
    "id": "D1ILnjH5WMl5"
   }
  },
  {
   "cell_type": "markdown",
   "source": [
    "###**Predicting  Wemby FT in 2024/2025**\n",
    "\n",
    "Victor Wembanyama played more than 2 games in the NBA last year--and more relevantly to us, he took more than 9 free throws. In fact, he made 292 out of 367 free throws in the 2023/2024 NBA season.\n",
    "\n",
    "\n",
    "As of this writing, the 2024/2025 NBA season has yet to occur, but we can use those 367 FT attempts to generate"
   ],
   "metadata": {
    "id": "AJk4qWRiHh3m"
   }
  },
  {
   "cell_type": "code",
   "source": [
    "#Wemby's FTs in the 2023/2024 season, makes then misses\n",
    "FT_data_2324 = np.repeat([1,0], repeats = [292,75])"
   ],
   "metadata": {
    "id": "NXKw7wsCZ1U8"
   },
   "execution_count": null,
   "outputs": []
  },
  {
   "cell_type": "code",
   "source": [
    "with pm.Model() as wmby_FT_2324_model:\n",
    "  #same prior from before based on Euroleague data\n",
    "  θ = pm.Beta('θ' , alpha = 24. , beta = 8.)\n",
    "\n",
    "  #same likelihood, with our stand in for the binomial distribution\n",
    "  #but with the updated data\n",
    "  y = pm.Bernoulli('y', p = θ, observed = FT_data_2324)\n",
    "\n",
    "  #sample from the posterior, 2000 for a more prcise picture later\n",
    "  idata_FT_2324 = pm.sample(2000)"
   ],
   "metadata": {
    "id": "0Fr5to-kaCc3"
   },
   "execution_count": null,
   "outputs": []
  },
  {
   "cell_type": "code",
   "source": [
    "#vizualize the 2000 samples from the pymc model of the posterior\n",
    "az.plot_posterior(idata_FT_2324)"
   ],
   "metadata": {
    "id": "moaOq_GQa0Ch"
   },
   "execution_count": null,
   "outputs": []
  },
  {
   "cell_type": "code",
   "source": [
    "#Generate the actual predictions for Wemby's next 2000 FTs\n",
    "pm.sample_posterior_predictive(idata_FT_2324, model=wmby_FT_2324_model, extend_inferencedata=True)"
   ],
   "metadata": {
    "id": "Au8bNiq_biSm"
   },
   "execution_count": null,
   "outputs": []
  },
  {
   "cell_type": "code",
   "source": [
    "#stack the two MCMC chains together\n",
    "stacked_FT_2324 = az.extract(idata_FT_2324, group=\"posterior_predictive\")"
   ],
   "metadata": {
    "id": "xK8OKoRrelzJ"
   },
   "execution_count": null,
   "outputs": []
  },
  {
   "cell_type": "code",
   "source": [
    "#idata_FT_2324.posterior_predictive.y.to_series().values\n",
    "stacked_FT_2324.sel(sample=0).sel(draw=0).y.to_series().values"
   ],
   "metadata": {
    "id": "l8fZRrofbtJp"
   },
   "execution_count": null,
   "outputs": []
  },
  {
   "cell_type": "markdown",
   "source": [
    "And there you have it, predictions for Wembanyama's next 367 free throws. We'll check this at the end of the NBA regular season this year, and see how our model did."
   ],
   "metadata": {
    "id": "2SSZgVmMhvz2"
   }
  },
  {
   "cell_type": "markdown",
   "source": [
    "**Task14**:\n",
    "\n",
    "What could we do to improve our model?"
   ],
   "metadata": {
    "id": "Cz3HnJYliGk8"
   }
  },
  {
   "cell_type": "markdown",
   "source": [
    "**Answer14**:\n",
    "\n",
    "[*write your answer here*]"
   ],
   "metadata": {
    "id": "nsqmY5nujNCN"
   }
  },
  {
   "cell_type": "markdown",
   "source": [
    "###**Summary**\n",
    "\n",
    "In this unit, we answered the question: What will Victor Wembanyama's true Free Throw percentage (FT%) be in the NBA?\n",
    "\n",
    "We did this by considering prior knowledge we had about Wembanyama's FT shooting--we landed on his previous FT shooting in Euroleague, although we proposed other valid assumptions.\n",
    "\n",
    "In writing down our assumptions, we found it necceesary to think mathematically about probability and the physical act of FT shooting. This led us to probability density functions (pdf) as a good summary of our knowledge.\n",
    "\n",
    "We noticed that we could alter our assumption by processing new information through with a likelihood, another pdf.\n",
    "\n",
    "We then combined our new information with our prior knowledge by multipying our pdfs. This gave us a way to make a guess post new information, and we called this a posterior.\n",
    "\n",
    "And this posterior *is* our answer. It can give us different precise estimates, like the mean, median, and mode, and gives us a probability for all the values Wembanyama's truw FT% could be.\n",
    "\n",
    "But we didn't stop there! Our analytic solution happened to work out well mathematically, but we want a tool that works nearly everytime.\n",
    "\n",
    "So, we took out a pymc model for a test drive. We played a bit with its many metaphorical knobs and buttons to get predictions for Wembanyama's future FTs.\n",
    "\n",
    "Along the way, we learned that models like pymc guranttee that we will nearly always have access to samples of a posterior--so long as we use our tools correctly.\n",
    "\n",
    "To wrap up this unit, let's end with a final task:\n",
    "\n",
    "\n",
    "\n"
   ],
   "metadata": {
    "id": "v5fRiXSVjZ23"
   }
  },
  {
   "cell_type": "markdown",
   "source": [
    "**Task15**:\n",
    "\n",
    "What is Victor Wembanyama's true Free Throw percentage (FT%) in the NBA?"
   ],
   "metadata": {
    "id": "y-i-ZZLLdo3v"
   }
  },
  {
   "cell_type": "markdown",
   "source": [
    "**Answer15**:\n",
    "\n",
    "[*write your answer here*]"
   ],
   "metadata": {
    "id": "Ez1Cku5zcQOa"
   }
  }
 ]
}
