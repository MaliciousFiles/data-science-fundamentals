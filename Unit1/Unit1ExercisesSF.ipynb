{
 "nbformat": 4,
 "nbformat_minor": 0,
 "metadata": {
  "colab": {
   "provenance": [],
   "authorship_tag": "ABX9TyO57j0zxhNAjiCkytsAhUyp",
   "include_colab_link": true
  },
  "kernelspec": {
   "name": "python3",
   "display_name": "Python 3"
  },
  "language_info": {
   "name": "python"
  }
 },
 "cells": [
  {
   "metadata": {},
   "cell_type": "markdown",
   "source": "<a href=\"https://colab.research.google.com/github/thedarredondo/data-science-fundamentals/blob/main/Unit1/Unit1ExercisesSF.ipynb\" target=\"_parent\"><img src=\"https://colab.research.google.com/assets/colab-badge.svg\" alt=\"Open In Colab\"/></a>"
  },
  {
   "metadata": {},
   "cell_type": "markdown",
   "source": [
    "# Unit 1 Exercises: Data Structure Concepts\n",
    "\n",
    "The following questions will ask you to describe the various objects we learned about in the first Unit.\n",
    "\n",
    "I'm not giving you coding exercises, because we will learn all the coding technqiues we need as we move through the course.\n",
    "\n",
    "What I do need from you right now, is a conceptual understanding how how data is stored in our computer, when we use python."
   ]
  },
  {
   "metadata": {},
   "cell_type": "markdown",
   "source": [
    "**Task1**:\n",
    "\n",
    "Describe the similarities and differences between an int and a float in python."
   ]
  },
  {
   "metadata": {},
   "cell_type": "markdown",
   "source": [
    "**Answer1**:\n",
    "\n",
    "Both are number types, but an int can only contain whole numbers while a float can have decimal values."
   ]
  },
  {
   "metadata": {},
   "cell_type": "markdown",
   "source": [
    "**Task2**:\n",
    "\n",
    "Describe the similarities and differences between: strings, lists, and dicts."
   ]
  },
  {
   "metadata": {},
   "cell_type": "markdown",
   "source": [
    "**Answer2**:\n",
    "\n",
    "Strings are a list of characters, lists are a collection of items, and dicts are a collection of key-value pairs. All three can be iterated over, but strings and lists are indexed with integers while dicts can be indexed with anything."
   ]
  },
  {
   "metadata": {},
   "cell_type": "markdown",
   "source": [
    "**Task3**:\n",
    "\n",
    "What is a numpy array? Why would we ever use one over a list or dict?"
   ]
  },
  {
   "metadata": {},
   "cell_type": "markdown",
   "source": [
    "**Answer3**:\n",
    "\n",
    "Numpy arrays are fixed-size collections of items that are all the same type. They are faster and more memory efficient than lists or dicts, and have a lot of built-in functions for mathematical operations."
   ]
  },
  {
   "metadata": {},
   "cell_type": "markdown",
   "source": [
    "**Task4**:\n",
    "\n",
    "What is a pandas dataframe? Why would we ever want to use one over a numpy array?"
   ]
  },
  {
   "metadata": {},
   "cell_type": "markdown",
   "source": [
    "**Answer4**:\n",
    "\n",
    "Dataframes are matrices rather than single-dimensional arrays like numpy arrays. They are better for storing and manipulating data with multiple dimensions, and have a lot of built-in functions for data analysis."
   ]
  },
  {
   "metadata": {},
   "cell_type": "markdown",
   "source": [
    "**Task5**:\n",
    "\n",
    "What are for loops, and why would we ever use them?"
   ]
  },
  {
   "metadata": {},
   "cell_type": "markdown",
   "source": [
    "**Answer5**:\n",
    "\n",
    "Loops run the same code multiple times, and can be extremely useful for iterating over data."
   ]
  }
 ]
}
