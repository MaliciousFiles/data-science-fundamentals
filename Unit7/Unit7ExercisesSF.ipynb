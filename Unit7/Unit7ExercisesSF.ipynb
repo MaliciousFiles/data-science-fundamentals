{
 "cells": [
  {
   "cell_type": "markdown",
   "metadata": {
    "id": "view-in-github",
    "colab_type": "text"
   },
   "source": [
    "<a href=\"https://colab.research.google.com/github/thedarredondo/data-science-fundamentals/blob/main/Unit7/Unit7ExercisesSF.ipynb\" target=\"_parent\"><img src=\"https://colab.research.google.com/assets/colab-badge.svg\" alt=\"Open In Colab\"/></a>"
   ]
  },
  {
   "cell_type": "markdown",
   "metadata": {
    "id": "nVWnEQSH4us3"
   },
   "source": [
    "# Fitting Curves: Concepts\n",
    "\n",
    "What you'll do:\n",
    "\n",
    "- Answer questions about what a GP is, and its relationship to GLMs and splines.\n",
    "- Practice applying one of: polynomial modeling, b splines, or GPs\n",
    "- You'll get a chance to read about and try to comprehend a more standard implementation of a GP.\n",
    "\n",
    "Have fun!"
   ]
  },
  {
   "cell_type": "markdown",
   "metadata": {
    "id": "dvOGkgka7zwk"
   },
   "source": [
    "**Task1**:\n",
    "\n",
    "Why would you ever want to include a polynomial element in a model you built? What's the benefit of using polynomials to model?"
   ]
  },
  {
   "metadata": {},
   "cell_type": "markdown",
   "source": "Adding higher degree terms allows the model to switch directions. Rather than simply modeling an either all upward or all downward relationship, it can predict increasing at some points and decreasing at others."
  },
  {
   "cell_type": "markdown",
   "metadata": {
    "id": "yoz8Bb-HQaqB"
   },
   "source": [
    "**Task2**:\n",
    "\n",
    "Why would you ever NOT want to include a polynomial element in a model you built?"
   ]
  },
  {
   "metadata": {},
   "cell_type": "markdown",
   "source": "Polynomials can be very sensitive to the data they are fit to. This means that they can overfit the data and not generalize well to new data. This is especially true if the degree of the polynomial is too high. If you give it a high degree polynomial and it looks like a lower degree one, a lower degree should be used."
  },
  {
   "cell_type": "markdown",
   "metadata": {
    "id": "MaLdFTKNatZs"
   },
   "source": [
    "**Task3**:\n",
    "\n",
    "What's the point of using b splines?"
   ]
  },
  {
   "metadata": {},
   "cell_type": "markdown",
   "source": "B splines help to prevent the overfitting that can occur with polynomials. They do this by breaking the range of the data into smaller segments and fitting a polynomial to each segment. This allows the model to capture the general shape of the data without fitting to the noise. It allows the model to use the very precise fitting of the polynomial, but only to a small portion of the data, thereby preventing overfitting of the whole data set."
  },
  {
   "cell_type": "markdown",
   "metadata": {
    "id": "M51jgnvxeg1o"
   },
   "source": [
    "**Task4**:\n",
    "\n",
    "Describe what a Gaussian Process is, in your own words. *Don't worry about being correct, just try to explain it to yourself*. I will not grade this question for accuracy."
   ]
  },
  {
   "metadata": {},
   "cell_type": "markdown",
   "source": "A Gaussian Process is the logical extreme of a b spline. It is taking every single data point, and assigning it a polynomial that relates it to the output and every other input data point. The way I am understanding it is sort of as a neural network with 2 hidden layers where the hidden layers have infinite nodes."
  },
  {
   "cell_type": "markdown",
   "source": [
    "**Task5**:\n",
    "\n",
    "Refit a model to the howell data, using one of the following: polynomial model, b splines, or GPs.\n",
    "Plot the posterior predictive check on a scatter plot\n",
    "\n",
    "You only need to use one . Remember, the simpler the model is, the better (usually).\n",
    "\n",
    "Hint: If you use a polynomial or bspline, try a disdributional model\n"
   ],
   "metadata": {
    "id": "94o5En1fQVja"
   }
  },
  {
   "metadata": {
    "ExecuteTime": {
     "end_time": "2025-02-12T16:41:21.896538Z",
     "start_time": "2025-02-12T16:41:13.162630Z"
    }
   },
   "cell_type": "code",
   "source": [
    "import preliz as pz\n",
    "import bambi as bmb\n",
    "import pymc as pm\n",
    "import numpy as np\n",
    "import pandas as pd\n",
    "import arviz as az\n",
    "import matplotlib.pyplot as plt"
   ],
   "outputs": [],
   "execution_count": 1
  },
  {
   "metadata": {
    "ExecuteTime": {
     "end_time": "2025-02-12T16:41:25.744685Z",
     "start_time": "2025-02-12T16:41:25.739607Z"
    }
   },
   "cell_type": "code",
   "source": [
    "def get_ig_params(x_vals, l_b=None, u_b=None, mass=0.96, plot=False):\n",
    "    \"\"\"\n",
    "    Returns a weakly informative prior for the length-scale parameter of the GP kernel.\n",
    "    \"\"\"\n",
    "\n",
    "    differences = np.abs(np.subtract.outer(x_vals, x_vals))\n",
    "    if l_b is None:\n",
    "        l_b = np.min(differences[differences != 0]) * 2\n",
    "    if u_b is None:\n",
    "        u_b = np.max(differences) / 1.5\n",
    "\n",
    "    dist = pz.InverseGamma()\n",
    "    pz.maxent(dist, l_b, u_b, mass, plot=plot)\n",
    "\n",
    "    return dict(zip(dist.param_names, dist.params))"
   ],
   "outputs": [],
   "execution_count": 2
  },
  {
   "metadata": {
    "ExecuteTime": {
     "end_time": "2025-02-12T16:41:26.719600Z",
     "start_time": "2025-02-12T16:41:26.445133Z"
    }
   },
   "cell_type": "code",
   "source": [
    "howell = pd.read_csv('https://raw.githubusercontent.com/thedarredondo/data-science-fundamentals/main/Data/howell.csv')\n",
    "weight = howell[\"weight\"].values\n",
    "height = howell[\"height\"].values"
   ],
   "outputs": [],
   "execution_count": 3
  },
  {
   "metadata": {
    "ExecuteTime": {
     "end_time": "2025-02-12T16:46:16.668502Z",
     "start_time": "2025-02-12T16:43:27.116534Z"
    }
   },
   "cell_type": "code",
   "source": [
    "prior_gp = {\n",
    "    \"sigma\": bmb.Prior(\"Gamma\", mu=1, sigma=0.01),\n",
    "    \"ell\": bmb.Prior(\"InverseGamma\", **get_ig_params(height))\n",
    "}\n",
    "\n",
    "priors = {\n",
    "    \"hsgp(hour, m=10, c=1.5)\": prior_gp,\n",
    "    \"alpha\": bmb.Prior(\"HalfNormal\", sigma=1)\n",
    "}\n",
    "\n",
    "model_howell = bmb.Model(\"weight ~ 0 + hsgp(height, m=10, c=1.5)\", howell, family=\"negativebinomial\", priors=priors)\n",
    "idata_howell = model_howell.fit()"
   ],
   "outputs": [
    {
     "name": "stderr",
     "output_type": "stream",
     "text": [
      "Initializing NUTS using jitter+adapt_diag...\n",
      "Multiprocess sampling (4 chains in 4 jobs)\n",
      "NUTS: [alpha, hsgp(height, m=10, c=1.5)_sigma, hsgp(height, m=10, c=1.5)_ell, hsgp(height, m=10, c=1.5)_weights_raw]\n"
     ]
    },
    {
     "data": {
      "text/plain": [
       "Output()"
      ],
      "application/vnd.jupyter.widget-view+json": {
       "version_major": 2,
       "version_minor": 0,
       "model_id": "62a497fa6cc84765b9f5cedb67de9ab6"
      }
     },
     "metadata": {},
     "output_type": "display_data"
    },
    {
     "data": {
      "text/plain": [],
      "text/html": [
       "<pre style=\"white-space:pre;overflow-x:auto;line-height:normal;font-family:Menlo,'DejaVu Sans Mono',consolas,'Courier New',monospace\"></pre>\n"
      ]
     },
     "metadata": {},
     "output_type": "display_data"
    },
    {
     "name": "stderr",
     "output_type": "stream",
     "text": [
      "Sampling 4 chains for 1_000 tune and 1_000 draw iterations (4_000 + 4_000 draws total) took 127 seconds.\n",
      "There were 646 divergences after tuning. Increase `target_accept` or reparameterize.\n",
      "Chain 0 reached the maximum tree depth. Increase `max_treedepth`, increase `target_accept` or reparameterize.\n",
      "Chain 1 reached the maximum tree depth. Increase `max_treedepth`, increase `target_accept` or reparameterize.\n",
      "Chain 3 reached the maximum tree depth. Increase `max_treedepth`, increase `target_accept` or reparameterize.\n",
      "The rhat statistic is larger than 1.01 for some parameters. This indicates problems during sampling. See https://arxiv.org/abs/1903.08008 for details\n",
      "The effective sample size per chain is smaller than 100 for some parameters.  A higher number is needed for reliable rhat and ess computation. See https://arxiv.org/abs/1903.08008 for details\n"
     ]
    }
   ],
   "execution_count": 5
  },
  {
   "metadata": {
    "ExecuteTime": {
     "end_time": "2025-02-12T16:53:12.423394Z",
     "start_time": "2025-02-12T16:53:12.110084Z"
    }
   },
   "cell_type": "code",
   "source": [
    "_, ax = bmb.interpret.plot_predictions(model_howell, idata_howell, [\"height\"],\n",
    "                                       pps = True,\n",
    "                                       fig_kwargs={\"figsize\": (10, 3)})\n",
    "ax[0].plot(height, weight, \"C2.\")"
   ],
   "outputs": [
    {
     "name": "stderr",
     "output_type": "stream",
     "text": [
      "/opt/homebrew/anaconda3/envs/data-science-fundamentals/lib/python3.12/site-packages/arviz/rcparams.py:368: FutureWarning: stats.hdi_prob is deprecated since 0.18.0, use stats.ci_prob instead\n",
      "  warnings.warn(\n",
      "Default computed for conditional variable: height\n"
     ]
    },
    {
     "data": {
      "text/plain": [
       "[<matplotlib.lines.Line2D at 0x30eec4920>]"
      ]
     },
     "execution_count": 6,
     "metadata": {},
     "output_type": "execute_result"
    },
    {
     "data": {
      "text/plain": [
       "<Figure size 1000x300 with 1 Axes>"
      ],
      "image/png": "[encoded data removed]"
     },
     "metadata": {},
     "output_type": "display_data"
    }
   ],
   "execution_count": 6
  },
  {
   "cell_type": "markdown",
   "source": [
    "**Task6**:\n",
    "\n",
    "Read the article on the pymc website about GP implementation on the Mauna Loa CO$_{2}$ data combined with CO$_{2}$ ice core data from the south pole.\n",
    "[Link here.](https://www.pymc.io/projects/examples/en/latest/gaussian_processes/GP-MaunaLoa2.html)\n",
    "\n",
    "Write down one thing you learned about GPs from reading the article.\n",
    "\n",
    "Note: You probably won't understand anything in this article. The main point of this task is to hammer home that good GP implementations are extremely technical."
   ],
   "metadata": {
    "id": "oYy-Gpzbpm8A"
   }
  },
  {
   "metadata": {},
   "cell_type": "markdown",
   "source": "What I learned is that real data scientists also just use functions from libraries -- the main difference being, they generally understand what those functions do. For instance, the model given at the very beginning of the article is legible to me. However, I most certainly don't have the knowledge to come up with one such model on my own. I don't know what a changepoint is, what the marginal likelihood means, or even really what a cov function is or how to select one. However, I know how to graph priors, how to put them together, and how to write a model in PyMC. So... progress?"
  },
  {
   "cell_type": "markdown",
   "source": [
    "**Task7**:\n",
    "\n",
    "Describe your favorite graph from the article in the previous task. Explain why its your favorite."
   ],
   "metadata": {
    "id": "T4dngCCrrO_q"
   }
  },
  {
   "metadata": {},
   "cell_type": "markdown",
   "source": "The graph that I found most interesting was the second prediction graph. In the first one, at the end of the model, the predicted CO2 levels dipped back down towards zero. Immediately they went and fixed this by doing some weird stuff I don't understand and referencing a research paper, but made it end with a linear relationship continuing upward. I found this very cool, because it is precisely what I love about CS; you see something you don't like, and you can tell the computer to change it. I may not quite be at that point myself yet, but that seems to be the core of data science: try things, see what isn't quite right, and tweak them."
  }
 ],
 "metadata": {
  "colab": {
   "provenance": [],
   "authorship_tag": "ABX9TyO5TneXLBLi5Bbqwz9ID6z4",
   "include_colab_link": true
  },
  "kernelspec": {
   "display_name": "Python 3 (ipykernel)",
   "name": "python3",
   "language": "python"
  },
  "language_info": {
   "name": "python"
  }
 },
 "nbformat": 4,
 "nbformat_minor": 0
}
